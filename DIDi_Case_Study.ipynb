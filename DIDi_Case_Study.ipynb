{
  "nbformat": 4,
  "nbformat_minor": 0,
  "metadata": {
    "colab": {
      "name": "DIDi_Case_Study.ipynb",
      "provenance": [],
      "collapsed_sections": [],
      "include_colab_link": true
    },
    "kernelspec": {
      "display_name": "Python 3",
      "name": "python3"
    },
    "language_info": {
      "name": "python"
    }
  },
  "cells": [
    {
      "cell_type": "markdown",
      "metadata": {
        "id": "view-in-github",
        "colab_type": "text"
      },
      "source": [
        "<a href=\"https://colab.research.google.com/github/miguelespinosa88/DIDI/blob/main/DIDi_Case_Study.ipynb\" target=\"_parent\"><img src=\"https://colab.research.google.com/assets/colab-badge.svg\" alt=\"Open In Colab\"/></a>"
      ]
    },
    {
      "cell_type": "code",
      "metadata": {
        "id": "Fi5P13scBTz5"
      },
      "source": [
        "import numpy as np \n",
        "import pandas as pd "
      ],
      "execution_count": null,
      "outputs": []
    },
    {
      "cell_type": "markdown",
      "metadata": {
        "id": "0wMwP7LP2Cb0"
      },
      "source": [
        "Objetivo: Diseñar una estrategia de lanzamiento para Didi Food Growth en un país en el cual seleccionaremos a partir del análisis de datos brindados por la compañía.\n",
        "\n",
        "Introducción: Hoy en día los datos representan un elemento de gran valor para las compañías ya que estas permiten realizar un análisis de los comportamientos del mercado y predecir cuales formas son las mejores para realizar un lanzamiento de un nuevo producto. En el presente documento se mostrará un análisis de datos que permita identificar las mejores oportunidades de mercado al lanzar un producto específico y formas de reducir costos a partir de estrategias que involucren a los conductores.\n",
        "\n",
        "Estructura:     \n",
        "- Problema 1: Seleccionar el mejor canal de conversión para adquirir nuevos conductores en el país en el que se lanzara el servicio de Didi Food.\n",
        "- Problema 2: Identificar si la implementación de un programa de lealtad representa una mejora significativa en la cantidad de viajes por usuario.\n",
        "- Problema 3: Aumentar el tiempo de disponibilidad de conductores en la aplicación sin utilizar la conversión de nuevos conductores.\n"
      ]
    },
    {
      "cell_type": "markdown",
      "metadata": {
        "id": "i0h_jMaH4CJ1"
      },
      "source": [
        "Problema 1"
      ]
    },
    {
      "cell_type": "markdown",
      "metadata": {
        "id": "cRTPz8Ve4URK"
      },
      "source": [
        "Se descargan los datos de GitHub y se organizan en 3 diferentes datasets"
      ]
    },
    {
      "cell_type": "code",
      "metadata": {
        "colab": {
          "base_uri": "https://localhost:8080/",
          "height": 174
        },
        "id": "zAbkFNuwvb7U",
        "outputId": "78c50f5a-8da7-4dd4-c81b-de3725ad4d2e"
      },
      "source": [
        "pathLS = 'https://raw.githubusercontent.com/Kheri-C/ML/main/Launch_strategy.csv'\n",
        "df_driverStatus = pd.read_csv(pathLS)\n",
        "pathLC = 'https://raw.githubusercontent.com/Kheri-C/ML/main/Lead_Channel.csv'\n",
        "df_leadChannel = pd.read_csv(pathLC)\n",
        "pathLCC = 'https://raw.githubusercontent.com/Kheri-C/ML/main/Lead_Channel_Cost2.csv'\n",
        "df_leadChannelCost = pd.read_csv(pathLCC)"
      ],
      "execution_count": null,
      "outputs": [
        {
          "data": {
            "text/html": [
              "<div>\n",
              "<style scoped>\n",
              "    .dataframe tbody tr th:only-of-type {\n",
              "        vertical-align: middle;\n",
              "    }\n",
              "\n",
              "    .dataframe tbody tr th {\n",
              "        vertical-align: top;\n",
              "    }\n",
              "\n",
              "    .dataframe thead th {\n",
              "        text-align: right;\n",
              "    }\n",
              "</style>\n",
              "<table border=\"1\" class=\"dataframe\">\n",
              "  <thead>\n",
              "    <tr style=\"text-align: right;\">\n",
              "      <th></th>\n",
              "      <th>Lead channel</th>\n",
              "      <th>Overall cost</th>\n",
              "    </tr>\n",
              "  </thead>\n",
              "  <tbody>\n",
              "    <tr>\n",
              "      <th>0</th>\n",
              "      <td>Organic</td>\n",
              "      <td>53000.00</td>\n",
              "    </tr>\n",
              "    <tr>\n",
              "      <th>1</th>\n",
              "      <td>Referral</td>\n",
              "      <td>12460.00</td>\n",
              "    </tr>\n",
              "    <tr>\n",
              "      <th>2</th>\n",
              "      <td>Offline</td>\n",
              "      <td>17279.82</td>\n",
              "    </tr>\n",
              "    <tr>\n",
              "      <th>3</th>\n",
              "      <td>Paid</td>\n",
              "      <td>4097.69</td>\n",
              "    </tr>\n",
              "  </tbody>\n",
              "</table>\n",
              "</div>"
            ],
            "text/plain": [
              "  Lead channel  Overall cost\n",
              "0      Organic      53000.00\n",
              "1     Referral      12460.00\n",
              "2      Offline      17279.82\n",
              "3         Paid       4097.69"
            ]
          },
          "execution_count": 13,
          "metadata": {},
          "output_type": "execute_result"
        }
      ]
    },
    {
      "cell_type": "code",
      "metadata": {
        "colab": {
          "base_uri": "https://localhost:8080/",
          "height": 423
        },
        "id": "-BNhM7V0BkUy",
        "outputId": "7df91216-d8be-4867-b4c6-c03675d57a54"
      },
      "source": [
        "df_driverStatus"
      ],
      "execution_count": null,
      "outputs": [
        {
          "data": {
            "text/html": [
              "<div>\n",
              "<style scoped>\n",
              "    .dataframe tbody tr th:only-of-type {\n",
              "        vertical-align: middle;\n",
              "    }\n",
              "\n",
              "    .dataframe tbody tr th {\n",
              "        vertical-align: top;\n",
              "    }\n",
              "\n",
              "    .dataframe thead th {\n",
              "        text-align: right;\n",
              "    }\n",
              "</style>\n",
              "<table border=\"1\" class=\"dataframe\">\n",
              "  <thead>\n",
              "    <tr style=\"text-align: right;\">\n",
              "      <th></th>\n",
              "      <th>Driver ID</th>\n",
              "      <th>Employee ID</th>\n",
              "      <th>Driver status</th>\n",
              "    </tr>\n",
              "  </thead>\n",
              "  <tbody>\n",
              "    <tr>\n",
              "      <th>0</th>\n",
              "      <td>6909701</td>\n",
              "      <td>6</td>\n",
              "      <td>Step 1: Registration</td>\n",
              "    </tr>\n",
              "    <tr>\n",
              "      <th>1</th>\n",
              "      <td>6905703</td>\n",
              "      <td>8</td>\n",
              "      <td>Step 2: Ready to Drive</td>\n",
              "    </tr>\n",
              "    <tr>\n",
              "      <th>2</th>\n",
              "      <td>6906374</td>\n",
              "      <td>6</td>\n",
              "      <td>Step 2: Ready to Drive</td>\n",
              "    </tr>\n",
              "    <tr>\n",
              "      <th>3</th>\n",
              "      <td>6905257</td>\n",
              "      <td>1</td>\n",
              "      <td>Step 3: Regular Driver</td>\n",
              "    </tr>\n",
              "    <tr>\n",
              "      <th>4</th>\n",
              "      <td>6908899</td>\n",
              "      <td>10</td>\n",
              "      <td>Step 3: Regular Driver</td>\n",
              "    </tr>\n",
              "    <tr>\n",
              "      <th>...</th>\n",
              "      <td>...</td>\n",
              "      <td>...</td>\n",
              "      <td>...</td>\n",
              "    </tr>\n",
              "    <tr>\n",
              "      <th>995</th>\n",
              "      <td>6909545</td>\n",
              "      <td>2</td>\n",
              "      <td>Step 3: Regular Driver</td>\n",
              "    </tr>\n",
              "    <tr>\n",
              "      <th>996</th>\n",
              "      <td>6905791</td>\n",
              "      <td>1</td>\n",
              "      <td>Step 3: Regular Driver</td>\n",
              "    </tr>\n",
              "    <tr>\n",
              "      <th>997</th>\n",
              "      <td>6907937</td>\n",
              "      <td>1</td>\n",
              "      <td>Step 3: Regular Driver</td>\n",
              "    </tr>\n",
              "    <tr>\n",
              "      <th>998</th>\n",
              "      <td>6908381</td>\n",
              "      <td>1</td>\n",
              "      <td>Step 1: Registration</td>\n",
              "    </tr>\n",
              "    <tr>\n",
              "      <th>999</th>\n",
              "      <td>6906095</td>\n",
              "      <td>4</td>\n",
              "      <td>Step 2: Ready to Drive</td>\n",
              "    </tr>\n",
              "  </tbody>\n",
              "</table>\n",
              "<p>1000 rows × 3 columns</p>\n",
              "</div>"
            ],
            "text/plain": [
              "     Driver ID  Employee ID           Driver status\n",
              "0      6909701            6    Step 1: Registration\n",
              "1      6905703            8  Step 2: Ready to Drive\n",
              "2      6906374            6  Step 2: Ready to Drive\n",
              "3      6905257            1  Step 3: Regular Driver\n",
              "4      6908899           10  Step 3: Regular Driver\n",
              "..         ...          ...                     ...\n",
              "995    6909545            2  Step 3: Regular Driver\n",
              "996    6905791            1  Step 3: Regular Driver\n",
              "997    6907937            1  Step 3: Regular Driver\n",
              "998    6908381            1    Step 1: Registration\n",
              "999    6906095            4  Step 2: Ready to Drive\n",
              "\n",
              "[1000 rows x 3 columns]"
            ]
          },
          "execution_count": 14,
          "metadata": {},
          "output_type": "execute_result"
        }
      ]
    },
    {
      "cell_type": "code",
      "metadata": {
        "colab": {
          "base_uri": "https://localhost:8080/",
          "height": 363
        },
        "id": "_6W5fCpQCb04",
        "outputId": "51522e36-1d20-4b10-c718-70f11c2f32ec"
      },
      "source": [
        "df_leadChannel"
      ],
      "execution_count": null,
      "outputs": [
        {
          "data": {
            "text/html": [
              "<div>\n",
              "<style scoped>\n",
              "    .dataframe tbody tr th:only-of-type {\n",
              "        vertical-align: middle;\n",
              "    }\n",
              "\n",
              "    .dataframe tbody tr th {\n",
              "        vertical-align: top;\n",
              "    }\n",
              "\n",
              "    .dataframe thead th {\n",
              "        text-align: right;\n",
              "    }\n",
              "</style>\n",
              "<table border=\"1\" class=\"dataframe\">\n",
              "  <thead>\n",
              "    <tr style=\"text-align: right;\">\n",
              "      <th></th>\n",
              "      <th>Employee ID</th>\n",
              "      <th>Lead channel</th>\n",
              "    </tr>\n",
              "  </thead>\n",
              "  <tbody>\n",
              "    <tr>\n",
              "      <th>0</th>\n",
              "      <td>1</td>\n",
              "      <td>Organic</td>\n",
              "    </tr>\n",
              "    <tr>\n",
              "      <th>1</th>\n",
              "      <td>2</td>\n",
              "      <td>Organic</td>\n",
              "    </tr>\n",
              "    <tr>\n",
              "      <th>2</th>\n",
              "      <td>3</td>\n",
              "      <td>Organic</td>\n",
              "    </tr>\n",
              "    <tr>\n",
              "      <th>3</th>\n",
              "      <td>4</td>\n",
              "      <td>Referral</td>\n",
              "    </tr>\n",
              "    <tr>\n",
              "      <th>4</th>\n",
              "      <td>5</td>\n",
              "      <td>Offline</td>\n",
              "    </tr>\n",
              "    <tr>\n",
              "      <th>5</th>\n",
              "      <td>6</td>\n",
              "      <td>Offline</td>\n",
              "    </tr>\n",
              "    <tr>\n",
              "      <th>6</th>\n",
              "      <td>7</td>\n",
              "      <td>Offline</td>\n",
              "    </tr>\n",
              "    <tr>\n",
              "      <th>7</th>\n",
              "      <td>8</td>\n",
              "      <td>Paid</td>\n",
              "    </tr>\n",
              "    <tr>\n",
              "      <th>8</th>\n",
              "      <td>9</td>\n",
              "      <td>Paid</td>\n",
              "    </tr>\n",
              "    <tr>\n",
              "      <th>9</th>\n",
              "      <td>10</td>\n",
              "      <td>Referral</td>\n",
              "    </tr>\n",
              "  </tbody>\n",
              "</table>\n",
              "</div>"
            ],
            "text/plain": [
              "   Employee ID Lead channel\n",
              "0            1      Organic\n",
              "1            2      Organic\n",
              "2            3      Organic\n",
              "3            4     Referral\n",
              "4            5      Offline\n",
              "5            6      Offline\n",
              "6            7      Offline\n",
              "7            8         Paid\n",
              "8            9         Paid\n",
              "9           10     Referral"
            ]
          },
          "execution_count": 15,
          "metadata": {},
          "output_type": "execute_result"
        }
      ]
    },
    {
      "cell_type": "code",
      "metadata": {
        "colab": {
          "base_uri": "https://localhost:8080/",
          "height": 174
        },
        "id": "IrxAm2c4Cf00",
        "outputId": "8f2de427-2139-4931-88d5-9e441c4cf3fa"
      },
      "source": [
        "df_leadChannelCost"
      ],
      "execution_count": null,
      "outputs": [
        {
          "data": {
            "text/html": [
              "<div>\n",
              "<style scoped>\n",
              "    .dataframe tbody tr th:only-of-type {\n",
              "        vertical-align: middle;\n",
              "    }\n",
              "\n",
              "    .dataframe tbody tr th {\n",
              "        vertical-align: top;\n",
              "    }\n",
              "\n",
              "    .dataframe thead th {\n",
              "        text-align: right;\n",
              "    }\n",
              "</style>\n",
              "<table border=\"1\" class=\"dataframe\">\n",
              "  <thead>\n",
              "    <tr style=\"text-align: right;\">\n",
              "      <th></th>\n",
              "      <th>Lead channel</th>\n",
              "      <th>Overall cost</th>\n",
              "    </tr>\n",
              "  </thead>\n",
              "  <tbody>\n",
              "    <tr>\n",
              "      <th>0</th>\n",
              "      <td>Organic</td>\n",
              "      <td>53000.00</td>\n",
              "    </tr>\n",
              "    <tr>\n",
              "      <th>1</th>\n",
              "      <td>Referral</td>\n",
              "      <td>12460.00</td>\n",
              "    </tr>\n",
              "    <tr>\n",
              "      <th>2</th>\n",
              "      <td>Offline</td>\n",
              "      <td>17279.82</td>\n",
              "    </tr>\n",
              "    <tr>\n",
              "      <th>3</th>\n",
              "      <td>Paid</td>\n",
              "      <td>4097.69</td>\n",
              "    </tr>\n",
              "  </tbody>\n",
              "</table>\n",
              "</div>"
            ],
            "text/plain": [
              "  Lead channel  Overall cost\n",
              "0      Organic      53000.00\n",
              "1     Referral      12460.00\n",
              "2      Offline      17279.82\n",
              "3         Paid       4097.69"
            ]
          },
          "execution_count": 16,
          "metadata": {},
          "output_type": "execute_result"
        }
      ]
    },
    {
      "cell_type": "markdown",
      "metadata": {
        "id": "K7gq51ci4bMI"
      },
      "source": [
        "Se unifican los datos en un dataset general para poder analizarlos y eliminar columnas que no aporten información al análisis"
      ]
    },
    {
      "cell_type": "code",
      "metadata": {
        "id": "6ENNER_SBmjS"
      },
      "source": [
        "df_merge_v1 = pd.merge(df_driverStatus, df_leadChannel)"
      ],
      "execution_count": null,
      "outputs": []
    },
    {
      "cell_type": "code",
      "metadata": {
        "colab": {
          "base_uri": "https://localhost:8080/"
        },
        "id": "IkqIhNALFjVc",
        "outputId": "02452955-cf4b-46e4-c037-9ac5e0b1c93a"
      },
      "source": [
        "df_merge_v1.keys()"
      ],
      "execution_count": null,
      "outputs": [
        {
          "data": {
            "text/plain": [
              "Index(['Driver ID', 'Employee ID', 'Driver status', 'Lead channel'], dtype='object')"
            ]
          },
          "execution_count": 18,
          "metadata": {},
          "output_type": "execute_result"
        }
      ]
    },
    {
      "cell_type": "code",
      "metadata": {
        "colab": {
          "base_uri": "https://localhost:8080/",
          "height": 1000
        },
        "id": "fqqC014nE19H",
        "outputId": "8917619d-7254-4198-ed1b-863f3f5123a9"
      },
      "source": [
        "df_merge_v1.loc[df_merge_v1[\"Employee ID\"]== 10]"
      ],
      "execution_count": null,
      "outputs": [
        {
          "data": {
            "text/html": [
              "<div>\n",
              "<style scoped>\n",
              "    .dataframe tbody tr th:only-of-type {\n",
              "        vertical-align: middle;\n",
              "    }\n",
              "\n",
              "    .dataframe tbody tr th {\n",
              "        vertical-align: top;\n",
              "    }\n",
              "\n",
              "    .dataframe thead th {\n",
              "        text-align: right;\n",
              "    }\n",
              "</style>\n",
              "<table border=\"1\" class=\"dataframe\">\n",
              "  <thead>\n",
              "    <tr style=\"text-align: right;\">\n",
              "      <th></th>\n",
              "      <th>Driver ID</th>\n",
              "      <th>Employee ID</th>\n",
              "      <th>Driver status</th>\n",
              "      <th>Lead channel</th>\n",
              "    </tr>\n",
              "  </thead>\n",
              "  <tbody>\n",
              "    <tr>\n",
              "      <th>312</th>\n",
              "      <td>6908899</td>\n",
              "      <td>10</td>\n",
              "      <td>Step 3: Regular Driver</td>\n",
              "      <td>Referral</td>\n",
              "    </tr>\n",
              "    <tr>\n",
              "      <th>313</th>\n",
              "      <td>6908492</td>\n",
              "      <td>10</td>\n",
              "      <td>Step 3: Regular Driver</td>\n",
              "      <td>Referral</td>\n",
              "    </tr>\n",
              "    <tr>\n",
              "      <th>314</th>\n",
              "      <td>6905661</td>\n",
              "      <td>10</td>\n",
              "      <td>Step 3: Regular Driver</td>\n",
              "      <td>Referral</td>\n",
              "    </tr>\n",
              "    <tr>\n",
              "      <th>315</th>\n",
              "      <td>6907566</td>\n",
              "      <td>10</td>\n",
              "      <td>Step 3: Regular Driver</td>\n",
              "      <td>Referral</td>\n",
              "    </tr>\n",
              "    <tr>\n",
              "      <th>316</th>\n",
              "      <td>6907658</td>\n",
              "      <td>10</td>\n",
              "      <td>Step 3: Regular Driver</td>\n",
              "      <td>Referral</td>\n",
              "    </tr>\n",
              "    <tr>\n",
              "      <th>317</th>\n",
              "      <td>6909867</td>\n",
              "      <td>10</td>\n",
              "      <td>Step 3: Regular Driver</td>\n",
              "      <td>Referral</td>\n",
              "    </tr>\n",
              "    <tr>\n",
              "      <th>318</th>\n",
              "      <td>6907515</td>\n",
              "      <td>10</td>\n",
              "      <td>Step 3: Regular Driver</td>\n",
              "      <td>Referral</td>\n",
              "    </tr>\n",
              "    <tr>\n",
              "      <th>319</th>\n",
              "      <td>6908569</td>\n",
              "      <td>10</td>\n",
              "      <td>Step 3: Regular Driver</td>\n",
              "      <td>Referral</td>\n",
              "    </tr>\n",
              "    <tr>\n",
              "      <th>320</th>\n",
              "      <td>6906334</td>\n",
              "      <td>10</td>\n",
              "      <td>Step 3: Regular Driver</td>\n",
              "      <td>Referral</td>\n",
              "    </tr>\n",
              "    <tr>\n",
              "      <th>321</th>\n",
              "      <td>6908663</td>\n",
              "      <td>10</td>\n",
              "      <td>Step 3: Regular Driver</td>\n",
              "      <td>Referral</td>\n",
              "    </tr>\n",
              "    <tr>\n",
              "      <th>322</th>\n",
              "      <td>6906470</td>\n",
              "      <td>10</td>\n",
              "      <td>Step 3: Regular Driver</td>\n",
              "      <td>Referral</td>\n",
              "    </tr>\n",
              "    <tr>\n",
              "      <th>323</th>\n",
              "      <td>6907937</td>\n",
              "      <td>10</td>\n",
              "      <td>Step 3: Regular Driver</td>\n",
              "      <td>Referral</td>\n",
              "    </tr>\n",
              "    <tr>\n",
              "      <th>324</th>\n",
              "      <td>6907365</td>\n",
              "      <td>10</td>\n",
              "      <td>Step 3: Regular Driver</td>\n",
              "      <td>Referral</td>\n",
              "    </tr>\n",
              "    <tr>\n",
              "      <th>325</th>\n",
              "      <td>6905043</td>\n",
              "      <td>10</td>\n",
              "      <td>Step 3: Regular Driver</td>\n",
              "      <td>Referral</td>\n",
              "    </tr>\n",
              "    <tr>\n",
              "      <th>326</th>\n",
              "      <td>6905122</td>\n",
              "      <td>10</td>\n",
              "      <td>Step 3: Regular Driver</td>\n",
              "      <td>Referral</td>\n",
              "    </tr>\n",
              "    <tr>\n",
              "      <th>327</th>\n",
              "      <td>6909512</td>\n",
              "      <td>10</td>\n",
              "      <td>Step 3: Regular Driver</td>\n",
              "      <td>Referral</td>\n",
              "    </tr>\n",
              "    <tr>\n",
              "      <th>328</th>\n",
              "      <td>6905829</td>\n",
              "      <td>10</td>\n",
              "      <td>Step 3: Regular Driver</td>\n",
              "      <td>Referral</td>\n",
              "    </tr>\n",
              "    <tr>\n",
              "      <th>329</th>\n",
              "      <td>6907989</td>\n",
              "      <td>10</td>\n",
              "      <td>Step 3: Regular Driver</td>\n",
              "      <td>Referral</td>\n",
              "    </tr>\n",
              "    <tr>\n",
              "      <th>330</th>\n",
              "      <td>6906926</td>\n",
              "      <td>10</td>\n",
              "      <td>Step 3: Regular Driver</td>\n",
              "      <td>Referral</td>\n",
              "    </tr>\n",
              "    <tr>\n",
              "      <th>331</th>\n",
              "      <td>6909805</td>\n",
              "      <td>10</td>\n",
              "      <td>Step 3: Regular Driver</td>\n",
              "      <td>Referral</td>\n",
              "    </tr>\n",
              "    <tr>\n",
              "      <th>332</th>\n",
              "      <td>6909874</td>\n",
              "      <td>10</td>\n",
              "      <td>Step 3: Regular Driver</td>\n",
              "      <td>Referral</td>\n",
              "    </tr>\n",
              "    <tr>\n",
              "      <th>333</th>\n",
              "      <td>6908509</td>\n",
              "      <td>10</td>\n",
              "      <td>Step 3: Regular Driver</td>\n",
              "      <td>Referral</td>\n",
              "    </tr>\n",
              "    <tr>\n",
              "      <th>334</th>\n",
              "      <td>6906356</td>\n",
              "      <td>10</td>\n",
              "      <td>Step 3: Regular Driver</td>\n",
              "      <td>Referral</td>\n",
              "    </tr>\n",
              "    <tr>\n",
              "      <th>335</th>\n",
              "      <td>6908143</td>\n",
              "      <td>10</td>\n",
              "      <td>Step 3: Regular Driver</td>\n",
              "      <td>Referral</td>\n",
              "    </tr>\n",
              "    <tr>\n",
              "      <th>336</th>\n",
              "      <td>6905438</td>\n",
              "      <td>10</td>\n",
              "      <td>Step 3: Regular Driver</td>\n",
              "      <td>Referral</td>\n",
              "    </tr>\n",
              "    <tr>\n",
              "      <th>337</th>\n",
              "      <td>6905405</td>\n",
              "      <td>10</td>\n",
              "      <td>Step 3: Regular Driver</td>\n",
              "      <td>Referral</td>\n",
              "    </tr>\n",
              "    <tr>\n",
              "      <th>338</th>\n",
              "      <td>6907048</td>\n",
              "      <td>10</td>\n",
              "      <td>Step 3: Regular Driver</td>\n",
              "      <td>Referral</td>\n",
              "    </tr>\n",
              "    <tr>\n",
              "      <th>339</th>\n",
              "      <td>6908607</td>\n",
              "      <td>10</td>\n",
              "      <td>Step 3: Regular Driver</td>\n",
              "      <td>Referral</td>\n",
              "    </tr>\n",
              "    <tr>\n",
              "      <th>340</th>\n",
              "      <td>6907109</td>\n",
              "      <td>10</td>\n",
              "      <td>Step 3: Regular Driver</td>\n",
              "      <td>Referral</td>\n",
              "    </tr>\n",
              "    <tr>\n",
              "      <th>341</th>\n",
              "      <td>6905761</td>\n",
              "      <td>10</td>\n",
              "      <td>Step 3: Regular Driver</td>\n",
              "      <td>Referral</td>\n",
              "    </tr>\n",
              "    <tr>\n",
              "      <th>342</th>\n",
              "      <td>6907134</td>\n",
              "      <td>10</td>\n",
              "      <td>Step 3: Regular Driver</td>\n",
              "      <td>Referral</td>\n",
              "    </tr>\n",
              "    <tr>\n",
              "      <th>343</th>\n",
              "      <td>6907765</td>\n",
              "      <td>10</td>\n",
              "      <td>Step 3: Regular Driver</td>\n",
              "      <td>Referral</td>\n",
              "    </tr>\n",
              "    <tr>\n",
              "      <th>344</th>\n",
              "      <td>6909730</td>\n",
              "      <td>10</td>\n",
              "      <td>Step 3: Regular Driver</td>\n",
              "      <td>Referral</td>\n",
              "    </tr>\n",
              "    <tr>\n",
              "      <th>345</th>\n",
              "      <td>6909475</td>\n",
              "      <td>10</td>\n",
              "      <td>Step 3: Regular Driver</td>\n",
              "      <td>Referral</td>\n",
              "    </tr>\n",
              "    <tr>\n",
              "      <th>346</th>\n",
              "      <td>6906335</td>\n",
              "      <td>10</td>\n",
              "      <td>Step 3: Regular Driver</td>\n",
              "      <td>Referral</td>\n",
              "    </tr>\n",
              "    <tr>\n",
              "      <th>347</th>\n",
              "      <td>6906389</td>\n",
              "      <td>10</td>\n",
              "      <td>Step 3: Regular Driver</td>\n",
              "      <td>Referral</td>\n",
              "    </tr>\n",
              "    <tr>\n",
              "      <th>348</th>\n",
              "      <td>6906263</td>\n",
              "      <td>10</td>\n",
              "      <td>Step 3: Regular Driver</td>\n",
              "      <td>Referral</td>\n",
              "    </tr>\n",
              "    <tr>\n",
              "      <th>349</th>\n",
              "      <td>6908583</td>\n",
              "      <td>10</td>\n",
              "      <td>Step 3: Regular Driver</td>\n",
              "      <td>Referral</td>\n",
              "    </tr>\n",
              "    <tr>\n",
              "      <th>350</th>\n",
              "      <td>6908546</td>\n",
              "      <td>10</td>\n",
              "      <td>Step 3: Regular Driver</td>\n",
              "      <td>Referral</td>\n",
              "    </tr>\n",
              "    <tr>\n",
              "      <th>351</th>\n",
              "      <td>6906893</td>\n",
              "      <td>10</td>\n",
              "      <td>Step 3: Regular Driver</td>\n",
              "      <td>Referral</td>\n",
              "    </tr>\n",
              "    <tr>\n",
              "      <th>352</th>\n",
              "      <td>6907696</td>\n",
              "      <td>10</td>\n",
              "      <td>Step 3: Regular Driver</td>\n",
              "      <td>Referral</td>\n",
              "    </tr>\n",
              "    <tr>\n",
              "      <th>353</th>\n",
              "      <td>6906511</td>\n",
              "      <td>10</td>\n",
              "      <td>Step 3: Regular Driver</td>\n",
              "      <td>Referral</td>\n",
              "    </tr>\n",
              "    <tr>\n",
              "      <th>354</th>\n",
              "      <td>6907684</td>\n",
              "      <td>10</td>\n",
              "      <td>Step 3: Regular Driver</td>\n",
              "      <td>Referral</td>\n",
              "    </tr>\n",
              "    <tr>\n",
              "      <th>355</th>\n",
              "      <td>6905092</td>\n",
              "      <td>10</td>\n",
              "      <td>Step 3: Regular Driver</td>\n",
              "      <td>Referral</td>\n",
              "    </tr>\n",
              "    <tr>\n",
              "      <th>356</th>\n",
              "      <td>6908388</td>\n",
              "      <td>10</td>\n",
              "      <td>Step 3: Regular Driver</td>\n",
              "      <td>Referral</td>\n",
              "    </tr>\n",
              "    <tr>\n",
              "      <th>357</th>\n",
              "      <td>6908868</td>\n",
              "      <td>10</td>\n",
              "      <td>Step 3: Regular Driver</td>\n",
              "      <td>Referral</td>\n",
              "    </tr>\n",
              "    <tr>\n",
              "      <th>358</th>\n",
              "      <td>6906556</td>\n",
              "      <td>10</td>\n",
              "      <td>Step 3: Regular Driver</td>\n",
              "      <td>Referral</td>\n",
              "    </tr>\n",
              "    <tr>\n",
              "      <th>359</th>\n",
              "      <td>6907603</td>\n",
              "      <td>10</td>\n",
              "      <td>Step 3: Regular Driver</td>\n",
              "      <td>Referral</td>\n",
              "    </tr>\n",
              "    <tr>\n",
              "      <th>360</th>\n",
              "      <td>6909995</td>\n",
              "      <td>10</td>\n",
              "      <td>Step 3: Regular Driver</td>\n",
              "      <td>Referral</td>\n",
              "    </tr>\n",
              "    <tr>\n",
              "      <th>361</th>\n",
              "      <td>6908261</td>\n",
              "      <td>10</td>\n",
              "      <td>Step 3: Regular Driver</td>\n",
              "      <td>Referral</td>\n",
              "    </tr>\n",
              "  </tbody>\n",
              "</table>\n",
              "</div>"
            ],
            "text/plain": [
              "     Driver ID  Employee ID           Driver status Lead channel\n",
              "312    6908899           10  Step 3: Regular Driver     Referral\n",
              "313    6908492           10  Step 3: Regular Driver     Referral\n",
              "314    6905661           10  Step 3: Regular Driver     Referral\n",
              "315    6907566           10  Step 3: Regular Driver     Referral\n",
              "316    6907658           10  Step 3: Regular Driver     Referral\n",
              "317    6909867           10  Step 3: Regular Driver     Referral\n",
              "318    6907515           10  Step 3: Regular Driver     Referral\n",
              "319    6908569           10  Step 3: Regular Driver     Referral\n",
              "320    6906334           10  Step 3: Regular Driver     Referral\n",
              "321    6908663           10  Step 3: Regular Driver     Referral\n",
              "322    6906470           10  Step 3: Regular Driver     Referral\n",
              "323    6907937           10  Step 3: Regular Driver     Referral\n",
              "324    6907365           10  Step 3: Regular Driver     Referral\n",
              "325    6905043           10  Step 3: Regular Driver     Referral\n",
              "326    6905122           10  Step 3: Regular Driver     Referral\n",
              "327    6909512           10  Step 3: Regular Driver     Referral\n",
              "328    6905829           10  Step 3: Regular Driver     Referral\n",
              "329    6907989           10  Step 3: Regular Driver     Referral\n",
              "330    6906926           10  Step 3: Regular Driver     Referral\n",
              "331    6909805           10  Step 3: Regular Driver     Referral\n",
              "332    6909874           10  Step 3: Regular Driver     Referral\n",
              "333    6908509           10  Step 3: Regular Driver     Referral\n",
              "334    6906356           10  Step 3: Regular Driver     Referral\n",
              "335    6908143           10  Step 3: Regular Driver     Referral\n",
              "336    6905438           10  Step 3: Regular Driver     Referral\n",
              "337    6905405           10  Step 3: Regular Driver     Referral\n",
              "338    6907048           10  Step 3: Regular Driver     Referral\n",
              "339    6908607           10  Step 3: Regular Driver     Referral\n",
              "340    6907109           10  Step 3: Regular Driver     Referral\n",
              "341    6905761           10  Step 3: Regular Driver     Referral\n",
              "342    6907134           10  Step 3: Regular Driver     Referral\n",
              "343    6907765           10  Step 3: Regular Driver     Referral\n",
              "344    6909730           10  Step 3: Regular Driver     Referral\n",
              "345    6909475           10  Step 3: Regular Driver     Referral\n",
              "346    6906335           10  Step 3: Regular Driver     Referral\n",
              "347    6906389           10  Step 3: Regular Driver     Referral\n",
              "348    6906263           10  Step 3: Regular Driver     Referral\n",
              "349    6908583           10  Step 3: Regular Driver     Referral\n",
              "350    6908546           10  Step 3: Regular Driver     Referral\n",
              "351    6906893           10  Step 3: Regular Driver     Referral\n",
              "352    6907696           10  Step 3: Regular Driver     Referral\n",
              "353    6906511           10  Step 3: Regular Driver     Referral\n",
              "354    6907684           10  Step 3: Regular Driver     Referral\n",
              "355    6905092           10  Step 3: Regular Driver     Referral\n",
              "356    6908388           10  Step 3: Regular Driver     Referral\n",
              "357    6908868           10  Step 3: Regular Driver     Referral\n",
              "358    6906556           10  Step 3: Regular Driver     Referral\n",
              "359    6907603           10  Step 3: Regular Driver     Referral\n",
              "360    6909995           10  Step 3: Regular Driver     Referral\n",
              "361    6908261           10  Step 3: Regular Driver     Referral"
            ]
          },
          "execution_count": 19,
          "metadata": {},
          "output_type": "execute_result"
        }
      ]
    },
    {
      "cell_type": "code",
      "metadata": {
        "id": "0LDPJZpjJsfj"
      },
      "source": [
        "df_launchSt = pd.merge(df_merge_v1,df_leadChannelCost)"
      ],
      "execution_count": null,
      "outputs": []
    },
    {
      "cell_type": "code",
      "metadata": {
        "colab": {
          "base_uri": "https://localhost:8080/",
          "height": 423
        },
        "id": "TFEA3B_IJzVf",
        "outputId": "930b864d-2cd0-4e81-9769-c23d7d41f0d1"
      },
      "source": [
        "df_launchSt"
      ],
      "execution_count": null,
      "outputs": [
        {
          "data": {
            "text/html": [
              "<div>\n",
              "<style scoped>\n",
              "    .dataframe tbody tr th:only-of-type {\n",
              "        vertical-align: middle;\n",
              "    }\n",
              "\n",
              "    .dataframe tbody tr th {\n",
              "        vertical-align: top;\n",
              "    }\n",
              "\n",
              "    .dataframe thead th {\n",
              "        text-align: right;\n",
              "    }\n",
              "</style>\n",
              "<table border=\"1\" class=\"dataframe\">\n",
              "  <thead>\n",
              "    <tr style=\"text-align: right;\">\n",
              "      <th></th>\n",
              "      <th>Driver ID</th>\n",
              "      <th>Employee ID</th>\n",
              "      <th>Driver status</th>\n",
              "      <th>Lead channel</th>\n",
              "      <th>Overall cost</th>\n",
              "    </tr>\n",
              "  </thead>\n",
              "  <tbody>\n",
              "    <tr>\n",
              "      <th>0</th>\n",
              "      <td>6909701</td>\n",
              "      <td>6</td>\n",
              "      <td>Step 1: Registration</td>\n",
              "      <td>Offline</td>\n",
              "      <td>17279.82</td>\n",
              "    </tr>\n",
              "    <tr>\n",
              "      <th>1</th>\n",
              "      <td>6906374</td>\n",
              "      <td>6</td>\n",
              "      <td>Step 2: Ready to Drive</td>\n",
              "      <td>Offline</td>\n",
              "      <td>17279.82</td>\n",
              "    </tr>\n",
              "    <tr>\n",
              "      <th>2</th>\n",
              "      <td>6905424</td>\n",
              "      <td>6</td>\n",
              "      <td>Step 3: Regular Driver</td>\n",
              "      <td>Offline</td>\n",
              "      <td>17279.82</td>\n",
              "    </tr>\n",
              "    <tr>\n",
              "      <th>3</th>\n",
              "      <td>6907092</td>\n",
              "      <td>6</td>\n",
              "      <td>Step 3: Regular Driver</td>\n",
              "      <td>Offline</td>\n",
              "      <td>17279.82</td>\n",
              "    </tr>\n",
              "    <tr>\n",
              "      <th>4</th>\n",
              "      <td>6909301</td>\n",
              "      <td>6</td>\n",
              "      <td>Step 1: Registration</td>\n",
              "      <td>Offline</td>\n",
              "      <td>17279.82</td>\n",
              "    </tr>\n",
              "    <tr>\n",
              "      <th>...</th>\n",
              "      <td>...</td>\n",
              "      <td>...</td>\n",
              "      <td>...</td>\n",
              "      <td>...</td>\n",
              "      <td>...</td>\n",
              "    </tr>\n",
              "    <tr>\n",
              "      <th>995</th>\n",
              "      <td>6909654</td>\n",
              "      <td>4</td>\n",
              "      <td>Step 2: Ready to Drive</td>\n",
              "      <td>Referral</td>\n",
              "      <td>12460.00</td>\n",
              "    </tr>\n",
              "    <tr>\n",
              "      <th>996</th>\n",
              "      <td>6908362</td>\n",
              "      <td>4</td>\n",
              "      <td>Step 1: Registration</td>\n",
              "      <td>Referral</td>\n",
              "      <td>12460.00</td>\n",
              "    </tr>\n",
              "    <tr>\n",
              "      <th>997</th>\n",
              "      <td>6907576</td>\n",
              "      <td>4</td>\n",
              "      <td>Step 3: Regular Driver</td>\n",
              "      <td>Referral</td>\n",
              "      <td>12460.00</td>\n",
              "    </tr>\n",
              "    <tr>\n",
              "      <th>998</th>\n",
              "      <td>6906446</td>\n",
              "      <td>4</td>\n",
              "      <td>Step 3: Regular Driver</td>\n",
              "      <td>Referral</td>\n",
              "      <td>12460.00</td>\n",
              "    </tr>\n",
              "    <tr>\n",
              "      <th>999</th>\n",
              "      <td>6906095</td>\n",
              "      <td>4</td>\n",
              "      <td>Step 2: Ready to Drive</td>\n",
              "      <td>Referral</td>\n",
              "      <td>12460.00</td>\n",
              "    </tr>\n",
              "  </tbody>\n",
              "</table>\n",
              "<p>1000 rows × 5 columns</p>\n",
              "</div>"
            ],
            "text/plain": [
              "     Driver ID  Employee ID           Driver status Lead channel  Overall cost\n",
              "0      6909701            6    Step 1: Registration      Offline      17279.82\n",
              "1      6906374            6  Step 2: Ready to Drive      Offline      17279.82\n",
              "2      6905424            6  Step 3: Regular Driver      Offline      17279.82\n",
              "3      6907092            6  Step 3: Regular Driver      Offline      17279.82\n",
              "4      6909301            6    Step 1: Registration      Offline      17279.82\n",
              "..         ...          ...                     ...          ...           ...\n",
              "995    6909654            4  Step 2: Ready to Drive     Referral      12460.00\n",
              "996    6908362            4    Step 1: Registration     Referral      12460.00\n",
              "997    6907576            4  Step 3: Regular Driver     Referral      12460.00\n",
              "998    6906446            4  Step 3: Regular Driver     Referral      12460.00\n",
              "999    6906095            4  Step 2: Ready to Drive     Referral      12460.00\n",
              "\n",
              "[1000 rows x 5 columns]"
            ]
          },
          "execution_count": 21,
          "metadata": {},
          "output_type": "execute_result"
        }
      ]
    },
    {
      "cell_type": "code",
      "metadata": {
        "colab": {
          "base_uri": "https://localhost:8080/",
          "height": 423
        },
        "id": "5Bymhx2YJ2E-",
        "outputId": "9d4f7bae-a513-448e-b5cf-14db4253f190"
      },
      "source": [
        "df_launchSt.loc[df_launchSt[\"Driver status\"]== \"Step 1: Registration\"]"
      ],
      "execution_count": null,
      "outputs": [
        {
          "data": {
            "text/html": [
              "<div>\n",
              "<style scoped>\n",
              "    .dataframe tbody tr th:only-of-type {\n",
              "        vertical-align: middle;\n",
              "    }\n",
              "\n",
              "    .dataframe tbody tr th {\n",
              "        vertical-align: top;\n",
              "    }\n",
              "\n",
              "    .dataframe thead th {\n",
              "        text-align: right;\n",
              "    }\n",
              "</style>\n",
              "<table border=\"1\" class=\"dataframe\">\n",
              "  <thead>\n",
              "    <tr style=\"text-align: right;\">\n",
              "      <th></th>\n",
              "      <th>Driver ID</th>\n",
              "      <th>Employee ID</th>\n",
              "      <th>Driver status</th>\n",
              "      <th>Lead channel</th>\n",
              "      <th>Overall cost</th>\n",
              "    </tr>\n",
              "  </thead>\n",
              "  <tbody>\n",
              "    <tr>\n",
              "      <th>0</th>\n",
              "      <td>6909701</td>\n",
              "      <td>6</td>\n",
              "      <td>Step 1: Registration</td>\n",
              "      <td>Offline</td>\n",
              "      <td>17279.82</td>\n",
              "    </tr>\n",
              "    <tr>\n",
              "      <th>4</th>\n",
              "      <td>6909301</td>\n",
              "      <td>6</td>\n",
              "      <td>Step 1: Registration</td>\n",
              "      <td>Offline</td>\n",
              "      <td>17279.82</td>\n",
              "    </tr>\n",
              "    <tr>\n",
              "      <th>5</th>\n",
              "      <td>6907123</td>\n",
              "      <td>6</td>\n",
              "      <td>Step 1: Registration</td>\n",
              "      <td>Offline</td>\n",
              "      <td>17279.82</td>\n",
              "    </tr>\n",
              "    <tr>\n",
              "      <th>12</th>\n",
              "      <td>6908169</td>\n",
              "      <td>6</td>\n",
              "      <td>Step 1: Registration</td>\n",
              "      <td>Offline</td>\n",
              "      <td>17279.82</td>\n",
              "    </tr>\n",
              "    <tr>\n",
              "      <th>14</th>\n",
              "      <td>6909679</td>\n",
              "      <td>6</td>\n",
              "      <td>Step 1: Registration</td>\n",
              "      <td>Offline</td>\n",
              "      <td>17279.82</td>\n",
              "    </tr>\n",
              "    <tr>\n",
              "      <th>...</th>\n",
              "      <td>...</td>\n",
              "      <td>...</td>\n",
              "      <td>...</td>\n",
              "      <td>...</td>\n",
              "      <td>...</td>\n",
              "    </tr>\n",
              "    <tr>\n",
              "      <th>982</th>\n",
              "      <td>6909316</td>\n",
              "      <td>4</td>\n",
              "      <td>Step 1: Registration</td>\n",
              "      <td>Referral</td>\n",
              "      <td>12460.00</td>\n",
              "    </tr>\n",
              "    <tr>\n",
              "      <th>989</th>\n",
              "      <td>6907134</td>\n",
              "      <td>4</td>\n",
              "      <td>Step 1: Registration</td>\n",
              "      <td>Referral</td>\n",
              "      <td>12460.00</td>\n",
              "    </tr>\n",
              "    <tr>\n",
              "      <th>992</th>\n",
              "      <td>6905287</td>\n",
              "      <td>4</td>\n",
              "      <td>Step 1: Registration</td>\n",
              "      <td>Referral</td>\n",
              "      <td>12460.00</td>\n",
              "    </tr>\n",
              "    <tr>\n",
              "      <th>994</th>\n",
              "      <td>6907572</td>\n",
              "      <td>4</td>\n",
              "      <td>Step 1: Registration</td>\n",
              "      <td>Referral</td>\n",
              "      <td>12460.00</td>\n",
              "    </tr>\n",
              "    <tr>\n",
              "      <th>996</th>\n",
              "      <td>6908362</td>\n",
              "      <td>4</td>\n",
              "      <td>Step 1: Registration</td>\n",
              "      <td>Referral</td>\n",
              "      <td>12460.00</td>\n",
              "    </tr>\n",
              "  </tbody>\n",
              "</table>\n",
              "<p>158 rows × 5 columns</p>\n",
              "</div>"
            ],
            "text/plain": [
              "     Driver ID  Employee ID         Driver status Lead channel  Overall cost\n",
              "0      6909701            6  Step 1: Registration      Offline      17279.82\n",
              "4      6909301            6  Step 1: Registration      Offline      17279.82\n",
              "5      6907123            6  Step 1: Registration      Offline      17279.82\n",
              "12     6908169            6  Step 1: Registration      Offline      17279.82\n",
              "14     6909679            6  Step 1: Registration      Offline      17279.82\n",
              "..         ...          ...                   ...          ...           ...\n",
              "982    6909316            4  Step 1: Registration     Referral      12460.00\n",
              "989    6907134            4  Step 1: Registration     Referral      12460.00\n",
              "992    6905287            4  Step 1: Registration     Referral      12460.00\n",
              "994    6907572            4  Step 1: Registration     Referral      12460.00\n",
              "996    6908362            4  Step 1: Registration     Referral      12460.00\n",
              "\n",
              "[158 rows x 5 columns]"
            ]
          },
          "execution_count": 22,
          "metadata": {},
          "output_type": "execute_result"
        }
      ]
    },
    {
      "cell_type": "code",
      "metadata": {
        "colab": {
          "base_uri": "https://localhost:8080/",
          "height": 423
        },
        "id": "nXRkmVWVKAvP",
        "outputId": "474b3892-deca-4c89-ff51-d933378807a9"
      },
      "source": [
        "df_launchSt.loc[df_launchSt[\"Driver status\"]== \"Step 1: Registration\"]"
      ],
      "execution_count": null,
      "outputs": [
        {
          "data": {
            "text/html": [
              "<div>\n",
              "<style scoped>\n",
              "    .dataframe tbody tr th:only-of-type {\n",
              "        vertical-align: middle;\n",
              "    }\n",
              "\n",
              "    .dataframe tbody tr th {\n",
              "        vertical-align: top;\n",
              "    }\n",
              "\n",
              "    .dataframe thead th {\n",
              "        text-align: right;\n",
              "    }\n",
              "</style>\n",
              "<table border=\"1\" class=\"dataframe\">\n",
              "  <thead>\n",
              "    <tr style=\"text-align: right;\">\n",
              "      <th></th>\n",
              "      <th>Driver ID</th>\n",
              "      <th>Employee ID</th>\n",
              "      <th>Driver status</th>\n",
              "      <th>Lead channel</th>\n",
              "      <th>Overall cost</th>\n",
              "    </tr>\n",
              "  </thead>\n",
              "  <tbody>\n",
              "    <tr>\n",
              "      <th>0</th>\n",
              "      <td>6909701</td>\n",
              "      <td>6</td>\n",
              "      <td>Step 1: Registration</td>\n",
              "      <td>Offline</td>\n",
              "      <td>17279.82</td>\n",
              "    </tr>\n",
              "    <tr>\n",
              "      <th>4</th>\n",
              "      <td>6909301</td>\n",
              "      <td>6</td>\n",
              "      <td>Step 1: Registration</td>\n",
              "      <td>Offline</td>\n",
              "      <td>17279.82</td>\n",
              "    </tr>\n",
              "    <tr>\n",
              "      <th>5</th>\n",
              "      <td>6907123</td>\n",
              "      <td>6</td>\n",
              "      <td>Step 1: Registration</td>\n",
              "      <td>Offline</td>\n",
              "      <td>17279.82</td>\n",
              "    </tr>\n",
              "    <tr>\n",
              "      <th>12</th>\n",
              "      <td>6908169</td>\n",
              "      <td>6</td>\n",
              "      <td>Step 1: Registration</td>\n",
              "      <td>Offline</td>\n",
              "      <td>17279.82</td>\n",
              "    </tr>\n",
              "    <tr>\n",
              "      <th>14</th>\n",
              "      <td>6909679</td>\n",
              "      <td>6</td>\n",
              "      <td>Step 1: Registration</td>\n",
              "      <td>Offline</td>\n",
              "      <td>17279.82</td>\n",
              "    </tr>\n",
              "    <tr>\n",
              "      <th>...</th>\n",
              "      <td>...</td>\n",
              "      <td>...</td>\n",
              "      <td>...</td>\n",
              "      <td>...</td>\n",
              "      <td>...</td>\n",
              "    </tr>\n",
              "    <tr>\n",
              "      <th>982</th>\n",
              "      <td>6909316</td>\n",
              "      <td>4</td>\n",
              "      <td>Step 1: Registration</td>\n",
              "      <td>Referral</td>\n",
              "      <td>12460.00</td>\n",
              "    </tr>\n",
              "    <tr>\n",
              "      <th>989</th>\n",
              "      <td>6907134</td>\n",
              "      <td>4</td>\n",
              "      <td>Step 1: Registration</td>\n",
              "      <td>Referral</td>\n",
              "      <td>12460.00</td>\n",
              "    </tr>\n",
              "    <tr>\n",
              "      <th>992</th>\n",
              "      <td>6905287</td>\n",
              "      <td>4</td>\n",
              "      <td>Step 1: Registration</td>\n",
              "      <td>Referral</td>\n",
              "      <td>12460.00</td>\n",
              "    </tr>\n",
              "    <tr>\n",
              "      <th>994</th>\n",
              "      <td>6907572</td>\n",
              "      <td>4</td>\n",
              "      <td>Step 1: Registration</td>\n",
              "      <td>Referral</td>\n",
              "      <td>12460.00</td>\n",
              "    </tr>\n",
              "    <tr>\n",
              "      <th>996</th>\n",
              "      <td>6908362</td>\n",
              "      <td>4</td>\n",
              "      <td>Step 1: Registration</td>\n",
              "      <td>Referral</td>\n",
              "      <td>12460.00</td>\n",
              "    </tr>\n",
              "  </tbody>\n",
              "</table>\n",
              "<p>158 rows × 5 columns</p>\n",
              "</div>"
            ],
            "text/plain": [
              "     Driver ID  Employee ID         Driver status Lead channel  Overall cost\n",
              "0      6909701            6  Step 1: Registration      Offline      17279.82\n",
              "4      6909301            6  Step 1: Registration      Offline      17279.82\n",
              "5      6907123            6  Step 1: Registration      Offline      17279.82\n",
              "12     6908169            6  Step 1: Registration      Offline      17279.82\n",
              "14     6909679            6  Step 1: Registration      Offline      17279.82\n",
              "..         ...          ...                   ...          ...           ...\n",
              "982    6909316            4  Step 1: Registration     Referral      12460.00\n",
              "989    6907134            4  Step 1: Registration     Referral      12460.00\n",
              "992    6905287            4  Step 1: Registration     Referral      12460.00\n",
              "994    6907572            4  Step 1: Registration     Referral      12460.00\n",
              "996    6908362            4  Step 1: Registration     Referral      12460.00\n",
              "\n",
              "[158 rows x 5 columns]"
            ]
          },
          "execution_count": 23,
          "metadata": {},
          "output_type": "execute_result"
        }
      ]
    },
    {
      "cell_type": "code",
      "metadata": {
        "id": "OLZPKYu2KWJv"
      },
      "source": [
        "df_launchSt.drop((df_launchSt.loc[df_launchSt[\"Driver status\"]== \"Step 1: Registration\"]).index,inplace=True)"
      ],
      "execution_count": null,
      "outputs": []
    },
    {
      "cell_type": "code",
      "metadata": {
        "colab": {
          "base_uri": "https://localhost:8080/",
          "height": 423
        },
        "id": "L4_V_xpWKfeG",
        "outputId": "bc16ffdb-82b0-49ed-f203-5781c682a67d"
      },
      "source": [
        "df_launchSt"
      ],
      "execution_count": null,
      "outputs": [
        {
          "data": {
            "text/html": [
              "<div>\n",
              "<style scoped>\n",
              "    .dataframe tbody tr th:only-of-type {\n",
              "        vertical-align: middle;\n",
              "    }\n",
              "\n",
              "    .dataframe tbody tr th {\n",
              "        vertical-align: top;\n",
              "    }\n",
              "\n",
              "    .dataframe thead th {\n",
              "        text-align: right;\n",
              "    }\n",
              "</style>\n",
              "<table border=\"1\" class=\"dataframe\">\n",
              "  <thead>\n",
              "    <tr style=\"text-align: right;\">\n",
              "      <th></th>\n",
              "      <th>Driver ID</th>\n",
              "      <th>Employee ID</th>\n",
              "      <th>Driver status</th>\n",
              "      <th>Lead channel</th>\n",
              "      <th>Overall cost</th>\n",
              "    </tr>\n",
              "  </thead>\n",
              "  <tbody>\n",
              "    <tr>\n",
              "      <th>1</th>\n",
              "      <td>6906374</td>\n",
              "      <td>6</td>\n",
              "      <td>Step 2: Ready to Drive</td>\n",
              "      <td>Offline</td>\n",
              "      <td>17279.82</td>\n",
              "    </tr>\n",
              "    <tr>\n",
              "      <th>2</th>\n",
              "      <td>6905424</td>\n",
              "      <td>6</td>\n",
              "      <td>Step 3: Regular Driver</td>\n",
              "      <td>Offline</td>\n",
              "      <td>17279.82</td>\n",
              "    </tr>\n",
              "    <tr>\n",
              "      <th>3</th>\n",
              "      <td>6907092</td>\n",
              "      <td>6</td>\n",
              "      <td>Step 3: Regular Driver</td>\n",
              "      <td>Offline</td>\n",
              "      <td>17279.82</td>\n",
              "    </tr>\n",
              "    <tr>\n",
              "      <th>6</th>\n",
              "      <td>6906393</td>\n",
              "      <td>6</td>\n",
              "      <td>Step 2: Ready to Drive</td>\n",
              "      <td>Offline</td>\n",
              "      <td>17279.82</td>\n",
              "    </tr>\n",
              "    <tr>\n",
              "      <th>7</th>\n",
              "      <td>6905768</td>\n",
              "      <td>6</td>\n",
              "      <td>Step 2: Ready to Drive</td>\n",
              "      <td>Offline</td>\n",
              "      <td>17279.82</td>\n",
              "    </tr>\n",
              "    <tr>\n",
              "      <th>...</th>\n",
              "      <td>...</td>\n",
              "      <td>...</td>\n",
              "      <td>...</td>\n",
              "      <td>...</td>\n",
              "      <td>...</td>\n",
              "    </tr>\n",
              "    <tr>\n",
              "      <th>993</th>\n",
              "      <td>6905638</td>\n",
              "      <td>4</td>\n",
              "      <td>Step 2: Ready to Drive</td>\n",
              "      <td>Referral</td>\n",
              "      <td>12460.00</td>\n",
              "    </tr>\n",
              "    <tr>\n",
              "      <th>995</th>\n",
              "      <td>6909654</td>\n",
              "      <td>4</td>\n",
              "      <td>Step 2: Ready to Drive</td>\n",
              "      <td>Referral</td>\n",
              "      <td>12460.00</td>\n",
              "    </tr>\n",
              "    <tr>\n",
              "      <th>997</th>\n",
              "      <td>6907576</td>\n",
              "      <td>4</td>\n",
              "      <td>Step 3: Regular Driver</td>\n",
              "      <td>Referral</td>\n",
              "      <td>12460.00</td>\n",
              "    </tr>\n",
              "    <tr>\n",
              "      <th>998</th>\n",
              "      <td>6906446</td>\n",
              "      <td>4</td>\n",
              "      <td>Step 3: Regular Driver</td>\n",
              "      <td>Referral</td>\n",
              "      <td>12460.00</td>\n",
              "    </tr>\n",
              "    <tr>\n",
              "      <th>999</th>\n",
              "      <td>6906095</td>\n",
              "      <td>4</td>\n",
              "      <td>Step 2: Ready to Drive</td>\n",
              "      <td>Referral</td>\n",
              "      <td>12460.00</td>\n",
              "    </tr>\n",
              "  </tbody>\n",
              "</table>\n",
              "<p>842 rows × 5 columns</p>\n",
              "</div>"
            ],
            "text/plain": [
              "     Driver ID  Employee ID           Driver status Lead channel  Overall cost\n",
              "1      6906374            6  Step 2: Ready to Drive      Offline      17279.82\n",
              "2      6905424            6  Step 3: Regular Driver      Offline      17279.82\n",
              "3      6907092            6  Step 3: Regular Driver      Offline      17279.82\n",
              "6      6906393            6  Step 2: Ready to Drive      Offline      17279.82\n",
              "7      6905768            6  Step 2: Ready to Drive      Offline      17279.82\n",
              "..         ...          ...                     ...          ...           ...\n",
              "993    6905638            4  Step 2: Ready to Drive     Referral      12460.00\n",
              "995    6909654            4  Step 2: Ready to Drive     Referral      12460.00\n",
              "997    6907576            4  Step 3: Regular Driver     Referral      12460.00\n",
              "998    6906446            4  Step 3: Regular Driver     Referral      12460.00\n",
              "999    6906095            4  Step 2: Ready to Drive     Referral      12460.00\n",
              "\n",
              "[842 rows x 5 columns]"
            ]
          },
          "execution_count": 25,
          "metadata": {},
          "output_type": "execute_result"
        }
      ]
    },
    {
      "cell_type": "code",
      "metadata": {
        "colab": {
          "base_uri": "https://localhost:8080/",
          "height": 423
        },
        "id": "gSkWY9-iKxZX",
        "outputId": "abbb9ec2-4037-4bae-faa1-befdd0df80cf"
      },
      "source": [
        "df_launchSt.reset_index(drop=True)"
      ],
      "execution_count": null,
      "outputs": [
        {
          "data": {
            "text/html": [
              "<div>\n",
              "<style scoped>\n",
              "    .dataframe tbody tr th:only-of-type {\n",
              "        vertical-align: middle;\n",
              "    }\n",
              "\n",
              "    .dataframe tbody tr th {\n",
              "        vertical-align: top;\n",
              "    }\n",
              "\n",
              "    .dataframe thead th {\n",
              "        text-align: right;\n",
              "    }\n",
              "</style>\n",
              "<table border=\"1\" class=\"dataframe\">\n",
              "  <thead>\n",
              "    <tr style=\"text-align: right;\">\n",
              "      <th></th>\n",
              "      <th>Driver ID</th>\n",
              "      <th>Employee ID</th>\n",
              "      <th>Driver status</th>\n",
              "      <th>Lead channel</th>\n",
              "      <th>Overall cost</th>\n",
              "    </tr>\n",
              "  </thead>\n",
              "  <tbody>\n",
              "    <tr>\n",
              "      <th>0</th>\n",
              "      <td>6906374</td>\n",
              "      <td>6</td>\n",
              "      <td>Step 2: Ready to Drive</td>\n",
              "      <td>Offline</td>\n",
              "      <td>17279.82</td>\n",
              "    </tr>\n",
              "    <tr>\n",
              "      <th>1</th>\n",
              "      <td>6905424</td>\n",
              "      <td>6</td>\n",
              "      <td>Step 3: Regular Driver</td>\n",
              "      <td>Offline</td>\n",
              "      <td>17279.82</td>\n",
              "    </tr>\n",
              "    <tr>\n",
              "      <th>2</th>\n",
              "      <td>6907092</td>\n",
              "      <td>6</td>\n",
              "      <td>Step 3: Regular Driver</td>\n",
              "      <td>Offline</td>\n",
              "      <td>17279.82</td>\n",
              "    </tr>\n",
              "    <tr>\n",
              "      <th>3</th>\n",
              "      <td>6906393</td>\n",
              "      <td>6</td>\n",
              "      <td>Step 2: Ready to Drive</td>\n",
              "      <td>Offline</td>\n",
              "      <td>17279.82</td>\n",
              "    </tr>\n",
              "    <tr>\n",
              "      <th>4</th>\n",
              "      <td>6905768</td>\n",
              "      <td>6</td>\n",
              "      <td>Step 2: Ready to Drive</td>\n",
              "      <td>Offline</td>\n",
              "      <td>17279.82</td>\n",
              "    </tr>\n",
              "    <tr>\n",
              "      <th>...</th>\n",
              "      <td>...</td>\n",
              "      <td>...</td>\n",
              "      <td>...</td>\n",
              "      <td>...</td>\n",
              "      <td>...</td>\n",
              "    </tr>\n",
              "    <tr>\n",
              "      <th>837</th>\n",
              "      <td>6905638</td>\n",
              "      <td>4</td>\n",
              "      <td>Step 2: Ready to Drive</td>\n",
              "      <td>Referral</td>\n",
              "      <td>12460.00</td>\n",
              "    </tr>\n",
              "    <tr>\n",
              "      <th>838</th>\n",
              "      <td>6909654</td>\n",
              "      <td>4</td>\n",
              "      <td>Step 2: Ready to Drive</td>\n",
              "      <td>Referral</td>\n",
              "      <td>12460.00</td>\n",
              "    </tr>\n",
              "    <tr>\n",
              "      <th>839</th>\n",
              "      <td>6907576</td>\n",
              "      <td>4</td>\n",
              "      <td>Step 3: Regular Driver</td>\n",
              "      <td>Referral</td>\n",
              "      <td>12460.00</td>\n",
              "    </tr>\n",
              "    <tr>\n",
              "      <th>840</th>\n",
              "      <td>6906446</td>\n",
              "      <td>4</td>\n",
              "      <td>Step 3: Regular Driver</td>\n",
              "      <td>Referral</td>\n",
              "      <td>12460.00</td>\n",
              "    </tr>\n",
              "    <tr>\n",
              "      <th>841</th>\n",
              "      <td>6906095</td>\n",
              "      <td>4</td>\n",
              "      <td>Step 2: Ready to Drive</td>\n",
              "      <td>Referral</td>\n",
              "      <td>12460.00</td>\n",
              "    </tr>\n",
              "  </tbody>\n",
              "</table>\n",
              "<p>842 rows × 5 columns</p>\n",
              "</div>"
            ],
            "text/plain": [
              "     Driver ID  Employee ID           Driver status Lead channel  Overall cost\n",
              "0      6906374            6  Step 2: Ready to Drive      Offline      17279.82\n",
              "1      6905424            6  Step 3: Regular Driver      Offline      17279.82\n",
              "2      6907092            6  Step 3: Regular Driver      Offline      17279.82\n",
              "3      6906393            6  Step 2: Ready to Drive      Offline      17279.82\n",
              "4      6905768            6  Step 2: Ready to Drive      Offline      17279.82\n",
              "..         ...          ...                     ...          ...           ...\n",
              "837    6905638            4  Step 2: Ready to Drive     Referral      12460.00\n",
              "838    6909654            4  Step 2: Ready to Drive     Referral      12460.00\n",
              "839    6907576            4  Step 3: Regular Driver     Referral      12460.00\n",
              "840    6906446            4  Step 3: Regular Driver     Referral      12460.00\n",
              "841    6906095            4  Step 2: Ready to Drive     Referral      12460.00\n",
              "\n",
              "[842 rows x 5 columns]"
            ]
          },
          "execution_count": 26,
          "metadata": {},
          "output_type": "execute_result"
        }
      ]
    },
    {
      "cell_type": "markdown",
      "metadata": {
        "id": "D56euebg4pfh"
      },
      "source": [
        "Se cuenta la cantidad de conductores convertidos por cada canal diferente y se genera una tabla adicional que relacione el costo con el número de conductores adquiridos, de forma que se genere un costo por conversión"
      ]
    },
    {
      "cell_type": "code",
      "metadata": {
        "id": "Ys_2nRpSLII1"
      },
      "source": [
        "df_conversion_per_channel = df_launchSt.groupby([\"Lead channel\"]).count()"
      ],
      "execution_count": null,
      "outputs": []
    },
    {
      "cell_type": "code",
      "metadata": {
        "colab": {
          "base_uri": "https://localhost:8080/",
          "height": 206
        },
        "id": "pOvnqOMgMYUd",
        "outputId": "6b5ed76c-be10-47c1-bea7-ef6bda79aa79"
      },
      "source": [
        "df_conversion_per_channel"
      ],
      "execution_count": null,
      "outputs": [
        {
          "data": {
            "text/html": [
              "<div>\n",
              "<style scoped>\n",
              "    .dataframe tbody tr th:only-of-type {\n",
              "        vertical-align: middle;\n",
              "    }\n",
              "\n",
              "    .dataframe tbody tr th {\n",
              "        vertical-align: top;\n",
              "    }\n",
              "\n",
              "    .dataframe thead th {\n",
              "        text-align: right;\n",
              "    }\n",
              "</style>\n",
              "<table border=\"1\" class=\"dataframe\">\n",
              "  <thead>\n",
              "    <tr style=\"text-align: right;\">\n",
              "      <th></th>\n",
              "      <th>Driver ID</th>\n",
              "      <th>Employee ID</th>\n",
              "      <th>Driver status</th>\n",
              "      <th>Overall cost</th>\n",
              "    </tr>\n",
              "    <tr>\n",
              "      <th>Lead channel</th>\n",
              "      <th></th>\n",
              "      <th></th>\n",
              "      <th></th>\n",
              "      <th></th>\n",
              "    </tr>\n",
              "  </thead>\n",
              "  <tbody>\n",
              "    <tr>\n",
              "      <th>Offline</th>\n",
              "      <td>231</td>\n",
              "      <td>231</td>\n",
              "      <td>231</td>\n",
              "      <td>231</td>\n",
              "    </tr>\n",
              "    <tr>\n",
              "      <th>Organic</th>\n",
              "      <td>278</td>\n",
              "      <td>278</td>\n",
              "      <td>278</td>\n",
              "      <td>278</td>\n",
              "    </tr>\n",
              "    <tr>\n",
              "      <th>Paid</th>\n",
              "      <td>193</td>\n",
              "      <td>193</td>\n",
              "      <td>193</td>\n",
              "      <td>193</td>\n",
              "    </tr>\n",
              "    <tr>\n",
              "      <th>Referral</th>\n",
              "      <td>140</td>\n",
              "      <td>140</td>\n",
              "      <td>140</td>\n",
              "      <td>140</td>\n",
              "    </tr>\n",
              "  </tbody>\n",
              "</table>\n",
              "</div>"
            ],
            "text/plain": [
              "              Driver ID  Employee ID  Driver status  Overall cost\n",
              "Lead channel                                                     \n",
              "Offline             231          231            231           231\n",
              "Organic             278          278            278           278\n",
              "Paid                193          193            193           193\n",
              "Referral            140          140            140           140"
            ]
          },
          "execution_count": 28,
          "metadata": {},
          "output_type": "execute_result"
        }
      ]
    },
    {
      "cell_type": "code",
      "metadata": {
        "id": "wwPVCUnzMus2"
      },
      "source": [
        "df_conversion_per_channel.drop(['Employee ID', 'Driver status','Overall cost'], axis=1,inplace=True)"
      ],
      "execution_count": null,
      "outputs": []
    },
    {
      "cell_type": "code",
      "metadata": {
        "id": "EStAEHWgM9sp"
      },
      "source": [
        "df_conversion_per_channel = df_conversion_per_channel.rename(columns={\"Driver ID\":\"Number of conversion\"}).reset_index()"
      ],
      "execution_count": null,
      "outputs": []
    },
    {
      "cell_type": "code",
      "metadata": {
        "colab": {
          "base_uri": "https://localhost:8080/",
          "height": 174
        },
        "id": "bXe8o4mRNgKd",
        "outputId": "3a9637ca-35a8-4e82-8eb1-087c4c069caa"
      },
      "source": [
        "df_conversion_per_channel"
      ],
      "execution_count": null,
      "outputs": [
        {
          "data": {
            "text/html": [
              "<div>\n",
              "<style scoped>\n",
              "    .dataframe tbody tr th:only-of-type {\n",
              "        vertical-align: middle;\n",
              "    }\n",
              "\n",
              "    .dataframe tbody tr th {\n",
              "        vertical-align: top;\n",
              "    }\n",
              "\n",
              "    .dataframe thead th {\n",
              "        text-align: right;\n",
              "    }\n",
              "</style>\n",
              "<table border=\"1\" class=\"dataframe\">\n",
              "  <thead>\n",
              "    <tr style=\"text-align: right;\">\n",
              "      <th></th>\n",
              "      <th>Lead channel</th>\n",
              "      <th>Number of conversion</th>\n",
              "    </tr>\n",
              "  </thead>\n",
              "  <tbody>\n",
              "    <tr>\n",
              "      <th>0</th>\n",
              "      <td>Offline</td>\n",
              "      <td>231</td>\n",
              "    </tr>\n",
              "    <tr>\n",
              "      <th>1</th>\n",
              "      <td>Organic</td>\n",
              "      <td>278</td>\n",
              "    </tr>\n",
              "    <tr>\n",
              "      <th>2</th>\n",
              "      <td>Paid</td>\n",
              "      <td>193</td>\n",
              "    </tr>\n",
              "    <tr>\n",
              "      <th>3</th>\n",
              "      <td>Referral</td>\n",
              "      <td>140</td>\n",
              "    </tr>\n",
              "  </tbody>\n",
              "</table>\n",
              "</div>"
            ],
            "text/plain": [
              "  Lead channel  Number of conversion\n",
              "0      Offline                   231\n",
              "1      Organic                   278\n",
              "2         Paid                   193\n",
              "3     Referral                   140"
            ]
          },
          "execution_count": 31,
          "metadata": {},
          "output_type": "execute_result"
        }
      ]
    },
    {
      "cell_type": "code",
      "metadata": {
        "id": "t2RDLfsSNnRk"
      },
      "source": [
        "df_launchSt_conversion = pd.merge(df_launchSt,df_conversion_per_channel)"
      ],
      "execution_count": null,
      "outputs": []
    },
    {
      "cell_type": "code",
      "metadata": {
        "colab": {
          "base_uri": "https://localhost:8080/",
          "height": 423
        },
        "id": "ADm9teweN1t3",
        "outputId": "d7428cd4-9156-4a70-c437-cc13afa37e58"
      },
      "source": [
        "df_launchSt_conversion"
      ],
      "execution_count": null,
      "outputs": [
        {
          "data": {
            "text/html": [
              "<div>\n",
              "<style scoped>\n",
              "    .dataframe tbody tr th:only-of-type {\n",
              "        vertical-align: middle;\n",
              "    }\n",
              "\n",
              "    .dataframe tbody tr th {\n",
              "        vertical-align: top;\n",
              "    }\n",
              "\n",
              "    .dataframe thead th {\n",
              "        text-align: right;\n",
              "    }\n",
              "</style>\n",
              "<table border=\"1\" class=\"dataframe\">\n",
              "  <thead>\n",
              "    <tr style=\"text-align: right;\">\n",
              "      <th></th>\n",
              "      <th>Driver ID</th>\n",
              "      <th>Employee ID</th>\n",
              "      <th>Driver status</th>\n",
              "      <th>Lead channel</th>\n",
              "      <th>Overall cost</th>\n",
              "      <th>Number of conversion</th>\n",
              "    </tr>\n",
              "  </thead>\n",
              "  <tbody>\n",
              "    <tr>\n",
              "      <th>0</th>\n",
              "      <td>6906374</td>\n",
              "      <td>6</td>\n",
              "      <td>Step 2: Ready to Drive</td>\n",
              "      <td>Offline</td>\n",
              "      <td>17279.82</td>\n",
              "      <td>231</td>\n",
              "    </tr>\n",
              "    <tr>\n",
              "      <th>1</th>\n",
              "      <td>6905424</td>\n",
              "      <td>6</td>\n",
              "      <td>Step 3: Regular Driver</td>\n",
              "      <td>Offline</td>\n",
              "      <td>17279.82</td>\n",
              "      <td>231</td>\n",
              "    </tr>\n",
              "    <tr>\n",
              "      <th>2</th>\n",
              "      <td>6907092</td>\n",
              "      <td>6</td>\n",
              "      <td>Step 3: Regular Driver</td>\n",
              "      <td>Offline</td>\n",
              "      <td>17279.82</td>\n",
              "      <td>231</td>\n",
              "    </tr>\n",
              "    <tr>\n",
              "      <th>3</th>\n",
              "      <td>6906393</td>\n",
              "      <td>6</td>\n",
              "      <td>Step 2: Ready to Drive</td>\n",
              "      <td>Offline</td>\n",
              "      <td>17279.82</td>\n",
              "      <td>231</td>\n",
              "    </tr>\n",
              "    <tr>\n",
              "      <th>4</th>\n",
              "      <td>6905768</td>\n",
              "      <td>6</td>\n",
              "      <td>Step 2: Ready to Drive</td>\n",
              "      <td>Offline</td>\n",
              "      <td>17279.82</td>\n",
              "      <td>231</td>\n",
              "    </tr>\n",
              "    <tr>\n",
              "      <th>...</th>\n",
              "      <td>...</td>\n",
              "      <td>...</td>\n",
              "      <td>...</td>\n",
              "      <td>...</td>\n",
              "      <td>...</td>\n",
              "      <td>...</td>\n",
              "    </tr>\n",
              "    <tr>\n",
              "      <th>837</th>\n",
              "      <td>6905638</td>\n",
              "      <td>4</td>\n",
              "      <td>Step 2: Ready to Drive</td>\n",
              "      <td>Referral</td>\n",
              "      <td>12460.00</td>\n",
              "      <td>140</td>\n",
              "    </tr>\n",
              "    <tr>\n",
              "      <th>838</th>\n",
              "      <td>6909654</td>\n",
              "      <td>4</td>\n",
              "      <td>Step 2: Ready to Drive</td>\n",
              "      <td>Referral</td>\n",
              "      <td>12460.00</td>\n",
              "      <td>140</td>\n",
              "    </tr>\n",
              "    <tr>\n",
              "      <th>839</th>\n",
              "      <td>6907576</td>\n",
              "      <td>4</td>\n",
              "      <td>Step 3: Regular Driver</td>\n",
              "      <td>Referral</td>\n",
              "      <td>12460.00</td>\n",
              "      <td>140</td>\n",
              "    </tr>\n",
              "    <tr>\n",
              "      <th>840</th>\n",
              "      <td>6906446</td>\n",
              "      <td>4</td>\n",
              "      <td>Step 3: Regular Driver</td>\n",
              "      <td>Referral</td>\n",
              "      <td>12460.00</td>\n",
              "      <td>140</td>\n",
              "    </tr>\n",
              "    <tr>\n",
              "      <th>841</th>\n",
              "      <td>6906095</td>\n",
              "      <td>4</td>\n",
              "      <td>Step 2: Ready to Drive</td>\n",
              "      <td>Referral</td>\n",
              "      <td>12460.00</td>\n",
              "      <td>140</td>\n",
              "    </tr>\n",
              "  </tbody>\n",
              "</table>\n",
              "<p>842 rows × 6 columns</p>\n",
              "</div>"
            ],
            "text/plain": [
              "     Driver ID  Employee ID  ... Overall cost Number of conversion\n",
              "0      6906374            6  ...     17279.82                  231\n",
              "1      6905424            6  ...     17279.82                  231\n",
              "2      6907092            6  ...     17279.82                  231\n",
              "3      6906393            6  ...     17279.82                  231\n",
              "4      6905768            6  ...     17279.82                  231\n",
              "..         ...          ...  ...          ...                  ...\n",
              "837    6905638            4  ...     12460.00                  140\n",
              "838    6909654            4  ...     12460.00                  140\n",
              "839    6907576            4  ...     12460.00                  140\n",
              "840    6906446            4  ...     12460.00                  140\n",
              "841    6906095            4  ...     12460.00                  140\n",
              "\n",
              "[842 rows x 6 columns]"
            ]
          },
          "execution_count": 33,
          "metadata": {},
          "output_type": "execute_result"
        }
      ]
    },
    {
      "cell_type": "code",
      "metadata": {
        "colab": {
          "base_uri": "https://localhost:8080/",
          "height": 282
        },
        "id": "NgLVSpaFN5Ed",
        "outputId": "7be9f420-348d-42c2-ca38-afe90fd895e9"
      },
      "source": [
        "import matplotlib.pyplot as plt\n",
        "plt.bar(df_launchSt_conversion[\"Lead channel\"],df_launchSt_conversion[\"Number of conversion\"])"
      ],
      "execution_count": null,
      "outputs": [
        {
          "data": {
            "text/plain": [
              "<BarContainer object of 842 artists>"
            ]
          },
          "execution_count": 34,
          "metadata": {},
          "output_type": "execute_result"
        },
        {
          "data": {
            "image/png": "[encoded data removed]",
            "text/plain": [
              "<Figure size 432x288 with 1 Axes>"
            ]
          },
          "metadata": {},
          "output_type": "display_data"
        }
      ]
    },
    {
      "cell_type": "code",
      "metadata": {
        "colab": {
          "base_uri": "https://localhost:8080/",
          "height": 296
        },
        "id": "YPgJUQWNPS74",
        "outputId": "2cdba4f2-ff85-4259-dc5b-b74ef7547da6"
      },
      "source": [
        "import seaborn as sns\n",
        "sns.barplot(data=df_launchSt_conversion, x=\"Lead channel\", y=\"Number of conversion\")"
      ],
      "execution_count": null,
      "outputs": [
        {
          "data": {
            "text/plain": [
              "<matplotlib.axes._subplots.AxesSubplot at 0x7f599fd17990>"
            ]
          },
          "execution_count": 35,
          "metadata": {},
          "output_type": "execute_result"
        },
        {
          "data": {
            "image/png": "[encoded data removed]",
            "text/plain": [
              "<Figure size 432x288 with 1 Axes>"
            ]
          },
          "metadata": {},
          "output_type": "display_data"
        }
      ]
    },
    {
      "cell_type": "code",
      "metadata": {
        "id": "CYNcJgxUQ4EO"
      },
      "source": [
        "df_formula = df_launchSt_conversion.drop([\"Driver ID\",\t\"Employee ID\",\t\"Driver status\"],axis =1)"
      ],
      "execution_count": null,
      "outputs": []
    },
    {
      "cell_type": "code",
      "metadata": {
        "id": "-QgfEvYwRuaz"
      },
      "source": [
        "df_formula.drop_duplicates(inplace=True)"
      ],
      "execution_count": null,
      "outputs": []
    },
    {
      "cell_type": "code",
      "metadata": {
        "id": "i4H1w7KNR7YE"
      },
      "source": [
        "df_formula.reset_index(drop=True,inplace=True)"
      ],
      "execution_count": null,
      "outputs": []
    },
    {
      "cell_type": "code",
      "metadata": {
        "colab": {
          "base_uri": "https://localhost:8080/",
          "height": 174
        },
        "id": "o98dleDLSOff",
        "outputId": "68877141-7770-4969-ee65-77df3dfa366f"
      },
      "source": [
        "df_formula"
      ],
      "execution_count": null,
      "outputs": [
        {
          "data": {
            "text/html": [
              "<div>\n",
              "<style scoped>\n",
              "    .dataframe tbody tr th:only-of-type {\n",
              "        vertical-align: middle;\n",
              "    }\n",
              "\n",
              "    .dataframe tbody tr th {\n",
              "        vertical-align: top;\n",
              "    }\n",
              "\n",
              "    .dataframe thead th {\n",
              "        text-align: right;\n",
              "    }\n",
              "</style>\n",
              "<table border=\"1\" class=\"dataframe\">\n",
              "  <thead>\n",
              "    <tr style=\"text-align: right;\">\n",
              "      <th></th>\n",
              "      <th>Lead channel</th>\n",
              "      <th>Overall cost</th>\n",
              "      <th>Number of conversion</th>\n",
              "    </tr>\n",
              "  </thead>\n",
              "  <tbody>\n",
              "    <tr>\n",
              "      <th>0</th>\n",
              "      <td>Offline</td>\n",
              "      <td>17279.82</td>\n",
              "      <td>231</td>\n",
              "    </tr>\n",
              "    <tr>\n",
              "      <th>1</th>\n",
              "      <td>Paid</td>\n",
              "      <td>4097.69</td>\n",
              "      <td>193</td>\n",
              "    </tr>\n",
              "    <tr>\n",
              "      <th>2</th>\n",
              "      <td>Organic</td>\n",
              "      <td>53000.00</td>\n",
              "      <td>278</td>\n",
              "    </tr>\n",
              "    <tr>\n",
              "      <th>3</th>\n",
              "      <td>Referral</td>\n",
              "      <td>12460.00</td>\n",
              "      <td>140</td>\n",
              "    </tr>\n",
              "  </tbody>\n",
              "</table>\n",
              "</div>"
            ],
            "text/plain": [
              "  Lead channel  Overall cost  Number of conversion\n",
              "0      Offline      17279.82                   231\n",
              "1         Paid       4097.69                   193\n",
              "2      Organic      53000.00                   278\n",
              "3     Referral      12460.00                   140"
            ]
          },
          "execution_count": 39,
          "metadata": {},
          "output_type": "execute_result"
        }
      ]
    },
    {
      "cell_type": "code",
      "metadata": {
        "id": "A-GdB-DhSk4M"
      },
      "source": [
        "df_formula[\"Cost per conversion\"] = df_formula[\"Overall cost\"]/df_formula[\"Number of conversion\"]"
      ],
      "execution_count": null,
      "outputs": []
    },
    {
      "cell_type": "code",
      "metadata": {
        "colab": {
          "base_uri": "https://localhost:8080/",
          "height": 174
        },
        "id": "uQbrljCPTNGH",
        "outputId": "e01e5153-234d-4254-b53a-58c7bbeb2842"
      },
      "source": [
        "df_formula"
      ],
      "execution_count": null,
      "outputs": [
        {
          "data": {
            "text/html": [
              "<div>\n",
              "<style scoped>\n",
              "    .dataframe tbody tr th:only-of-type {\n",
              "        vertical-align: middle;\n",
              "    }\n",
              "\n",
              "    .dataframe tbody tr th {\n",
              "        vertical-align: top;\n",
              "    }\n",
              "\n",
              "    .dataframe thead th {\n",
              "        text-align: right;\n",
              "    }\n",
              "</style>\n",
              "<table border=\"1\" class=\"dataframe\">\n",
              "  <thead>\n",
              "    <tr style=\"text-align: right;\">\n",
              "      <th></th>\n",
              "      <th>Lead channel</th>\n",
              "      <th>Overall cost</th>\n",
              "      <th>Number of conversion</th>\n",
              "      <th>Cost per conversion</th>\n",
              "    </tr>\n",
              "  </thead>\n",
              "  <tbody>\n",
              "    <tr>\n",
              "      <th>0</th>\n",
              "      <td>Offline</td>\n",
              "      <td>17279.82</td>\n",
              "      <td>231</td>\n",
              "      <td>74.804416</td>\n",
              "    </tr>\n",
              "    <tr>\n",
              "      <th>1</th>\n",
              "      <td>Paid</td>\n",
              "      <td>4097.69</td>\n",
              "      <td>193</td>\n",
              "      <td>21.231554</td>\n",
              "    </tr>\n",
              "    <tr>\n",
              "      <th>2</th>\n",
              "      <td>Organic</td>\n",
              "      <td>53000.00</td>\n",
              "      <td>278</td>\n",
              "      <td>190.647482</td>\n",
              "    </tr>\n",
              "    <tr>\n",
              "      <th>3</th>\n",
              "      <td>Referral</td>\n",
              "      <td>12460.00</td>\n",
              "      <td>140</td>\n",
              "      <td>89.000000</td>\n",
              "    </tr>\n",
              "  </tbody>\n",
              "</table>\n",
              "</div>"
            ],
            "text/plain": [
              "  Lead channel  Overall cost  Number of conversion  Cost per conversion\n",
              "0      Offline      17279.82                   231            74.804416\n",
              "1         Paid       4097.69                   193            21.231554\n",
              "2      Organic      53000.00                   278           190.647482\n",
              "3     Referral      12460.00                   140            89.000000"
            ]
          },
          "execution_count": 41,
          "metadata": {},
          "output_type": "execute_result"
        }
      ]
    },
    {
      "cell_type": "code",
      "metadata": {
        "colab": {
          "base_uri": "https://localhost:8080/",
          "height": 300
        },
        "id": "oCRxOLQSTfpX",
        "outputId": "94772f06-85fd-4bc9-87c4-0a5fd1e39a10"
      },
      "source": [
        "import seaborn as sns\n",
        "sns.barplot(data=df_formula, x=\"Lead channel\", y=\"Cost per conversion\")"
      ],
      "execution_count": null,
      "outputs": [
        {
          "data": {
            "text/plain": [
              "<matplotlib.axes._subplots.AxesSubplot at 0x7f599f500810>"
            ]
          },
          "execution_count": 42,
          "metadata": {},
          "output_type": "execute_result"
        },
        {
          "data": {
            "image/png": "[encoded data removed]",
            "text/plain": [
              "<Figure size 432x288 with 1 Axes>"
            ]
          },
          "metadata": {},
          "output_type": "display_data"
        }
      ]
    },
    {
      "cell_type": "code",
      "metadata": {
        "id": "yImH3YIg34Lx"
      },
      "source": [
        "pathMD = 'https://raw.githubusercontent.com/Kheri-C/ML/main/Market_Demand.csv'\n",
        "df_marketDemand = pd.read_csv(pathMD)"
      ],
      "execution_count": null,
      "outputs": []
    },
    {
      "cell_type": "markdown",
      "metadata": {
        "id": "bmLnIZfq47xj"
      },
      "source": [
        "Problema 2"
      ]
    },
    {
      "cell_type": "code",
      "metadata": {
        "colab": {
          "base_uri": "https://localhost:8080/",
          "height": 423
        },
        "id": "j7GJmunMYFm4",
        "outputId": "a8fc976b-7f96-45fc-a8c8-0642310fc7fa"
      },
      "source": [
        "df_marketDemand"
      ],
      "execution_count": null,
      "outputs": [
        {
          "data": {
            "text/html": [
              "<div>\n",
              "<style scoped>\n",
              "    .dataframe tbody tr th:only-of-type {\n",
              "        vertical-align: middle;\n",
              "    }\n",
              "\n",
              "    .dataframe tbody tr th {\n",
              "        vertical-align: top;\n",
              "    }\n",
              "\n",
              "    .dataframe thead th {\n",
              "        text-align: right;\n",
              "    }\n",
              "</style>\n",
              "<table border=\"1\" class=\"dataframe\">\n",
              "  <thead>\n",
              "    <tr style=\"text-align: right;\">\n",
              "      <th></th>\n",
              "      <th>Month</th>\n",
              "      <th>Passenger ID</th>\n",
              "      <th>Passenger Group</th>\n",
              "      <th>Test group</th>\n",
              "      <th>Trips</th>\n",
              "    </tr>\n",
              "  </thead>\n",
              "  <tbody>\n",
              "    <tr>\n",
              "      <th>0</th>\n",
              "      <td>July</td>\n",
              "      <td>800000</td>\n",
              "      <td>Medium</td>\n",
              "      <td>Loyalty</td>\n",
              "      <td>6</td>\n",
              "    </tr>\n",
              "    <tr>\n",
              "      <th>1</th>\n",
              "      <td>July</td>\n",
              "      <td>800001</td>\n",
              "      <td>Low</td>\n",
              "      <td>Control</td>\n",
              "      <td>0</td>\n",
              "    </tr>\n",
              "    <tr>\n",
              "      <th>2</th>\n",
              "      <td>July</td>\n",
              "      <td>800002</td>\n",
              "      <td>Medium</td>\n",
              "      <td>Loyalty</td>\n",
              "      <td>6</td>\n",
              "    </tr>\n",
              "    <tr>\n",
              "      <th>3</th>\n",
              "      <td>July</td>\n",
              "      <td>800003</td>\n",
              "      <td>Medium</td>\n",
              "      <td>Control</td>\n",
              "      <td>5</td>\n",
              "    </tr>\n",
              "    <tr>\n",
              "      <th>4</th>\n",
              "      <td>July</td>\n",
              "      <td>800004</td>\n",
              "      <td>Low</td>\n",
              "      <td>Loyalty</td>\n",
              "      <td>0</td>\n",
              "    </tr>\n",
              "    <tr>\n",
              "      <th>...</th>\n",
              "      <td>...</td>\n",
              "      <td>...</td>\n",
              "      <td>...</td>\n",
              "      <td>...</td>\n",
              "      <td>...</td>\n",
              "    </tr>\n",
              "    <tr>\n",
              "      <th>19993</th>\n",
              "      <td>August</td>\n",
              "      <td>809994</td>\n",
              "      <td>Low</td>\n",
              "      <td>Loyalty</td>\n",
              "      <td>2</td>\n",
              "    </tr>\n",
              "    <tr>\n",
              "      <th>19994</th>\n",
              "      <td>August</td>\n",
              "      <td>809995</td>\n",
              "      <td>High</td>\n",
              "      <td>Control</td>\n",
              "      <td>9</td>\n",
              "    </tr>\n",
              "    <tr>\n",
              "      <th>19995</th>\n",
              "      <td>August</td>\n",
              "      <td>809996</td>\n",
              "      <td>Low</td>\n",
              "      <td>Loyalty</td>\n",
              "      <td>4</td>\n",
              "    </tr>\n",
              "    <tr>\n",
              "      <th>19996</th>\n",
              "      <td>August</td>\n",
              "      <td>809997</td>\n",
              "      <td>Medium</td>\n",
              "      <td>Control</td>\n",
              "      <td>6</td>\n",
              "    </tr>\n",
              "    <tr>\n",
              "      <th>19997</th>\n",
              "      <td>August</td>\n",
              "      <td>809998</td>\n",
              "      <td>Low</td>\n",
              "      <td>Loyalty</td>\n",
              "      <td>2</td>\n",
              "    </tr>\n",
              "  </tbody>\n",
              "</table>\n",
              "<p>19998 rows × 5 columns</p>\n",
              "</div>"
            ],
            "text/plain": [
              "        Month  Passenger ID Passenger Group Test group  Trips\n",
              "0        July        800000          Medium    Loyalty      6\n",
              "1        July        800001             Low    Control      0\n",
              "2        July        800002          Medium    Loyalty      6\n",
              "3        July        800003          Medium    Control      5\n",
              "4        July        800004             Low    Loyalty      0\n",
              "...       ...           ...             ...        ...    ...\n",
              "19993  August        809994             Low    Loyalty      2\n",
              "19994  August        809995            High    Control      9\n",
              "19995  August        809996             Low    Loyalty      4\n",
              "19996  August        809997          Medium    Control      6\n",
              "19997  August        809998             Low    Loyalty      2\n",
              "\n",
              "[19998 rows x 5 columns]"
            ]
          },
          "execution_count": 48,
          "metadata": {},
          "output_type": "execute_result"
        }
      ]
    },
    {
      "cell_type": "markdown",
      "metadata": {
        "id": "rS_Gbyt74_qr"
      },
      "source": [
        "Se divide el análisis en los grupos de control y de lealtad. Se anexa a la tabla de cada uno de ellos un valor que represente la diferencia de viajes entre julio y agosto para observar si este aumentó, disminuyó, o se mantuvo constante; y a partir de esta información decidir si funcionó o no la estrategia del programa de lealtad."
      ]
    },
    {
      "cell_type": "code",
      "metadata": {
        "id": "bOwJR8coY01z"
      },
      "source": [
        "df_marketDemand_July = df_marketDemand.loc[df_marketDemand[\"Month\"]==\"July\"]"
      ],
      "execution_count": null,
      "outputs": []
    },
    {
      "cell_type": "code",
      "metadata": {
        "id": "JibYxyeuZE4H"
      },
      "source": [
        "df_marketDemand_August = df_marketDemand.loc[df_marketDemand[\"Month\"]==\"August\"]"
      ],
      "execution_count": null,
      "outputs": []
    },
    {
      "cell_type": "code",
      "metadata": {
        "colab": {
          "base_uri": "https://localhost:8080/"
        },
        "id": "8ZqSLYjjZJgh",
        "outputId": "c0e14b5a-28a3-49e3-990c-62041af6ced7"
      },
      "source": [
        "df_marketDemand_August.drop([\"Month\",\"Passenger Group\",\"Test group\"],axis=1,inplace=True)"
      ],
      "execution_count": null,
      "outputs": [
        {
          "name": "stderr",
          "output_type": "stream",
          "text": [
            "/usr/local/lib/python3.7/dist-packages/pandas/core/frame.py:4174: SettingWithCopyWarning: \n",
            "A value is trying to be set on a copy of a slice from a DataFrame\n",
            "\n",
            "See the caveats in the documentation: https://pandas.pydata.org/pandas-docs/stable/user_guide/indexing.html#returning-a-view-versus-a-copy\n",
            "  errors=errors,\n"
          ]
        }
      ]
    },
    {
      "cell_type": "code",
      "metadata": {
        "id": "RLFgkzG3ZsNG"
      },
      "source": [
        "df_marketDemand_August.reset_index(drop=True,inplace=True)"
      ],
      "execution_count": null,
      "outputs": []
    },
    {
      "cell_type": "code",
      "metadata": {
        "colab": {
          "base_uri": "https://localhost:8080/",
          "height": 423
        },
        "id": "Qa7GN_auZ1T5",
        "outputId": "e34ac62d-b61e-4f39-c880-4cd62468d1ef"
      },
      "source": [
        "df_marketDemand_August"
      ],
      "execution_count": null,
      "outputs": [
        {
          "data": {
            "text/html": [
              "<div>\n",
              "<style scoped>\n",
              "    .dataframe tbody tr th:only-of-type {\n",
              "        vertical-align: middle;\n",
              "    }\n",
              "\n",
              "    .dataframe tbody tr th {\n",
              "        vertical-align: top;\n",
              "    }\n",
              "\n",
              "    .dataframe thead th {\n",
              "        text-align: right;\n",
              "    }\n",
              "</style>\n",
              "<table border=\"1\" class=\"dataframe\">\n",
              "  <thead>\n",
              "    <tr style=\"text-align: right;\">\n",
              "      <th></th>\n",
              "      <th>Passenger ID</th>\n",
              "      <th>Trips</th>\n",
              "    </tr>\n",
              "  </thead>\n",
              "  <tbody>\n",
              "    <tr>\n",
              "      <th>0</th>\n",
              "      <td>800000</td>\n",
              "      <td>4</td>\n",
              "    </tr>\n",
              "    <tr>\n",
              "      <th>1</th>\n",
              "      <td>800001</td>\n",
              "      <td>1</td>\n",
              "    </tr>\n",
              "    <tr>\n",
              "      <th>2</th>\n",
              "      <td>800002</td>\n",
              "      <td>5</td>\n",
              "    </tr>\n",
              "    <tr>\n",
              "      <th>3</th>\n",
              "      <td>800003</td>\n",
              "      <td>4</td>\n",
              "    </tr>\n",
              "    <tr>\n",
              "      <th>4</th>\n",
              "      <td>800004</td>\n",
              "      <td>1</td>\n",
              "    </tr>\n",
              "    <tr>\n",
              "      <th>...</th>\n",
              "      <td>...</td>\n",
              "      <td>...</td>\n",
              "    </tr>\n",
              "    <tr>\n",
              "      <th>9994</th>\n",
              "      <td>809994</td>\n",
              "      <td>2</td>\n",
              "    </tr>\n",
              "    <tr>\n",
              "      <th>9995</th>\n",
              "      <td>809995</td>\n",
              "      <td>9</td>\n",
              "    </tr>\n",
              "    <tr>\n",
              "      <th>9996</th>\n",
              "      <td>809996</td>\n",
              "      <td>4</td>\n",
              "    </tr>\n",
              "    <tr>\n",
              "      <th>9997</th>\n",
              "      <td>809997</td>\n",
              "      <td>6</td>\n",
              "    </tr>\n",
              "    <tr>\n",
              "      <th>9998</th>\n",
              "      <td>809998</td>\n",
              "      <td>2</td>\n",
              "    </tr>\n",
              "  </tbody>\n",
              "</table>\n",
              "<p>9999 rows × 2 columns</p>\n",
              "</div>"
            ],
            "text/plain": [
              "      Passenger ID  Trips\n",
              "0           800000      4\n",
              "1           800001      1\n",
              "2           800002      5\n",
              "3           800003      4\n",
              "4           800004      1\n",
              "...            ...    ...\n",
              "9994        809994      2\n",
              "9995        809995      9\n",
              "9996        809996      4\n",
              "9997        809997      6\n",
              "9998        809998      2\n",
              "\n",
              "[9999 rows x 2 columns]"
            ]
          },
          "execution_count": 58,
          "metadata": {},
          "output_type": "execute_result"
        }
      ]
    },
    {
      "cell_type": "code",
      "metadata": {
        "colab": {
          "base_uri": "https://localhost:8080/"
        },
        "id": "GKSYX01RaB96",
        "outputId": "65fcad1e-a04a-47f9-ec3c-2ba19b3b392c"
      },
      "source": [
        "df_marketDemand_August.rename(columns={\"Trips\":\"Trips August\"},inplace=True)"
      ],
      "execution_count": null,
      "outputs": [
        {
          "name": "stderr",
          "output_type": "stream",
          "text": [
            "/usr/local/lib/python3.7/dist-packages/pandas/core/frame.py:4308: SettingWithCopyWarning: \n",
            "A value is trying to be set on a copy of a slice from a DataFrame\n",
            "\n",
            "See the caveats in the documentation: https://pandas.pydata.org/pandas-docs/stable/user_guide/indexing.html#returning-a-view-versus-a-copy\n",
            "  errors=errors,\n"
          ]
        }
      ]
    },
    {
      "cell_type": "code",
      "metadata": {
        "colab": {
          "base_uri": "https://localhost:8080/",
          "height": 423
        },
        "id": "qi2BtjQFa8hj",
        "outputId": "d54de049-1ca2-41d0-cbf3-045acdc6ee2d"
      },
      "source": [
        "df_marketDemand_August.reset_index(drop=True)"
      ],
      "execution_count": null,
      "outputs": [
        {
          "data": {
            "text/html": [
              "<div>\n",
              "<style scoped>\n",
              "    .dataframe tbody tr th:only-of-type {\n",
              "        vertical-align: middle;\n",
              "    }\n",
              "\n",
              "    .dataframe tbody tr th {\n",
              "        vertical-align: top;\n",
              "    }\n",
              "\n",
              "    .dataframe thead th {\n",
              "        text-align: right;\n",
              "    }\n",
              "</style>\n",
              "<table border=\"1\" class=\"dataframe\">\n",
              "  <thead>\n",
              "    <tr style=\"text-align: right;\">\n",
              "      <th></th>\n",
              "      <th>Passenger ID</th>\n",
              "      <th>Trips August</th>\n",
              "    </tr>\n",
              "  </thead>\n",
              "  <tbody>\n",
              "    <tr>\n",
              "      <th>0</th>\n",
              "      <td>800000</td>\n",
              "      <td>4</td>\n",
              "    </tr>\n",
              "    <tr>\n",
              "      <th>1</th>\n",
              "      <td>800001</td>\n",
              "      <td>1</td>\n",
              "    </tr>\n",
              "    <tr>\n",
              "      <th>2</th>\n",
              "      <td>800002</td>\n",
              "      <td>5</td>\n",
              "    </tr>\n",
              "    <tr>\n",
              "      <th>3</th>\n",
              "      <td>800003</td>\n",
              "      <td>4</td>\n",
              "    </tr>\n",
              "    <tr>\n",
              "      <th>4</th>\n",
              "      <td>800004</td>\n",
              "      <td>1</td>\n",
              "    </tr>\n",
              "    <tr>\n",
              "      <th>...</th>\n",
              "      <td>...</td>\n",
              "      <td>...</td>\n",
              "    </tr>\n",
              "    <tr>\n",
              "      <th>9994</th>\n",
              "      <td>809994</td>\n",
              "      <td>2</td>\n",
              "    </tr>\n",
              "    <tr>\n",
              "      <th>9995</th>\n",
              "      <td>809995</td>\n",
              "      <td>9</td>\n",
              "    </tr>\n",
              "    <tr>\n",
              "      <th>9996</th>\n",
              "      <td>809996</td>\n",
              "      <td>4</td>\n",
              "    </tr>\n",
              "    <tr>\n",
              "      <th>9997</th>\n",
              "      <td>809997</td>\n",
              "      <td>6</td>\n",
              "    </tr>\n",
              "    <tr>\n",
              "      <th>9998</th>\n",
              "      <td>809998</td>\n",
              "      <td>2</td>\n",
              "    </tr>\n",
              "  </tbody>\n",
              "</table>\n",
              "<p>9999 rows × 2 columns</p>\n",
              "</div>"
            ],
            "text/plain": [
              "      Passenger ID  Trips August\n",
              "0           800000             4\n",
              "1           800001             1\n",
              "2           800002             5\n",
              "3           800003             4\n",
              "4           800004             1\n",
              "...            ...           ...\n",
              "9994        809994             2\n",
              "9995        809995             9\n",
              "9996        809996             4\n",
              "9997        809997             6\n",
              "9998        809998             2\n",
              "\n",
              "[9999 rows x 2 columns]"
            ]
          },
          "execution_count": 60,
          "metadata": {},
          "output_type": "execute_result"
        }
      ]
    },
    {
      "cell_type": "code",
      "metadata": {
        "colab": {
          "base_uri": "https://localhost:8080/"
        },
        "id": "Ygxu-4Aqadmz",
        "outputId": "164595e8-fbd8-4135-e6fb-fcaa2b5317e2"
      },
      "source": [
        "df_marketDemand_July.rename(columns={\"Trips\":\"Trips July\"},inplace=True)"
      ],
      "execution_count": null,
      "outputs": [
        {
          "name": "stderr",
          "output_type": "stream",
          "text": [
            "/usr/local/lib/python3.7/dist-packages/pandas/core/frame.py:4308: SettingWithCopyWarning: \n",
            "A value is trying to be set on a copy of a slice from a DataFrame\n",
            "\n",
            "See the caveats in the documentation: https://pandas.pydata.org/pandas-docs/stable/user_guide/indexing.html#returning-a-view-versus-a-copy\n",
            "  errors=errors,\n"
          ]
        }
      ]
    },
    {
      "cell_type": "code",
      "metadata": {
        "colab": {
          "base_uri": "https://localhost:8080/",
          "height": 423
        },
        "id": "E_VN10mjbBXC",
        "outputId": "76ce0929-fa57-42dd-8adf-28c53bab23b3"
      },
      "source": [
        "df_marketDemand_July.reset_index(drop=True)"
      ],
      "execution_count": null,
      "outputs": [
        {
          "data": {
            "text/html": [
              "<div>\n",
              "<style scoped>\n",
              "    .dataframe tbody tr th:only-of-type {\n",
              "        vertical-align: middle;\n",
              "    }\n",
              "\n",
              "    .dataframe tbody tr th {\n",
              "        vertical-align: top;\n",
              "    }\n",
              "\n",
              "    .dataframe thead th {\n",
              "        text-align: right;\n",
              "    }\n",
              "</style>\n",
              "<table border=\"1\" class=\"dataframe\">\n",
              "  <thead>\n",
              "    <tr style=\"text-align: right;\">\n",
              "      <th></th>\n",
              "      <th>Month</th>\n",
              "      <th>Passenger ID</th>\n",
              "      <th>Passenger Group</th>\n",
              "      <th>Test group</th>\n",
              "      <th>Trips July</th>\n",
              "    </tr>\n",
              "  </thead>\n",
              "  <tbody>\n",
              "    <tr>\n",
              "      <th>0</th>\n",
              "      <td>July</td>\n",
              "      <td>800000</td>\n",
              "      <td>Medium</td>\n",
              "      <td>Loyalty</td>\n",
              "      <td>6</td>\n",
              "    </tr>\n",
              "    <tr>\n",
              "      <th>1</th>\n",
              "      <td>July</td>\n",
              "      <td>800001</td>\n",
              "      <td>Low</td>\n",
              "      <td>Control</td>\n",
              "      <td>0</td>\n",
              "    </tr>\n",
              "    <tr>\n",
              "      <th>2</th>\n",
              "      <td>July</td>\n",
              "      <td>800002</td>\n",
              "      <td>Medium</td>\n",
              "      <td>Loyalty</td>\n",
              "      <td>6</td>\n",
              "    </tr>\n",
              "    <tr>\n",
              "      <th>3</th>\n",
              "      <td>July</td>\n",
              "      <td>800003</td>\n",
              "      <td>Medium</td>\n",
              "      <td>Control</td>\n",
              "      <td>5</td>\n",
              "    </tr>\n",
              "    <tr>\n",
              "      <th>4</th>\n",
              "      <td>July</td>\n",
              "      <td>800004</td>\n",
              "      <td>Low</td>\n",
              "      <td>Loyalty</td>\n",
              "      <td>0</td>\n",
              "    </tr>\n",
              "    <tr>\n",
              "      <th>...</th>\n",
              "      <td>...</td>\n",
              "      <td>...</td>\n",
              "      <td>...</td>\n",
              "      <td>...</td>\n",
              "      <td>...</td>\n",
              "    </tr>\n",
              "    <tr>\n",
              "      <th>9994</th>\n",
              "      <td>July</td>\n",
              "      <td>809994</td>\n",
              "      <td>Low</td>\n",
              "      <td>Loyalty</td>\n",
              "      <td>2</td>\n",
              "    </tr>\n",
              "    <tr>\n",
              "      <th>9995</th>\n",
              "      <td>July</td>\n",
              "      <td>809995</td>\n",
              "      <td>High</td>\n",
              "      <td>Control</td>\n",
              "      <td>8</td>\n",
              "    </tr>\n",
              "    <tr>\n",
              "      <th>9996</th>\n",
              "      <td>July</td>\n",
              "      <td>809996</td>\n",
              "      <td>Low</td>\n",
              "      <td>Loyalty</td>\n",
              "      <td>0</td>\n",
              "    </tr>\n",
              "    <tr>\n",
              "      <th>9997</th>\n",
              "      <td>July</td>\n",
              "      <td>809997</td>\n",
              "      <td>Medium</td>\n",
              "      <td>Control</td>\n",
              "      <td>4</td>\n",
              "    </tr>\n",
              "    <tr>\n",
              "      <th>9998</th>\n",
              "      <td>July</td>\n",
              "      <td>809998</td>\n",
              "      <td>Low</td>\n",
              "      <td>Loyalty</td>\n",
              "      <td>2</td>\n",
              "    </tr>\n",
              "  </tbody>\n",
              "</table>\n",
              "<p>9999 rows × 5 columns</p>\n",
              "</div>"
            ],
            "text/plain": [
              "     Month  Passenger ID Passenger Group Test group  Trips July\n",
              "0     July        800000          Medium    Loyalty           6\n",
              "1     July        800001             Low    Control           0\n",
              "2     July        800002          Medium    Loyalty           6\n",
              "3     July        800003          Medium    Control           5\n",
              "4     July        800004             Low    Loyalty           0\n",
              "...    ...           ...             ...        ...         ...\n",
              "9994  July        809994             Low    Loyalty           2\n",
              "9995  July        809995            High    Control           8\n",
              "9996  July        809996             Low    Loyalty           0\n",
              "9997  July        809997          Medium    Control           4\n",
              "9998  July        809998             Low    Loyalty           2\n",
              "\n",
              "[9999 rows x 5 columns]"
            ]
          },
          "execution_count": 62,
          "metadata": {},
          "output_type": "execute_result"
        }
      ]
    },
    {
      "cell_type": "code",
      "metadata": {
        "id": "iGSBHpgAZ4nC"
      },
      "source": [
        "df_marketDemand_merged = pd.merge(df_marketDemand_July,df_marketDemand_August)"
      ],
      "execution_count": null,
      "outputs": []
    },
    {
      "cell_type": "code",
      "metadata": {
        "id": "MQYuSRvEbHN3"
      },
      "source": [
        "df_marketDemand_merged.drop([\"Month\"],axis=1,inplace=True)"
      ],
      "execution_count": null,
      "outputs": []
    },
    {
      "cell_type": "code",
      "metadata": {
        "colab": {
          "base_uri": "https://localhost:8080/",
          "height": 423
        },
        "id": "Re8kBedUbaBg",
        "outputId": "a32fe636-4b72-4688-a0dd-c137d35c1af5"
      },
      "source": [
        "df_marketDemand_merged"
      ],
      "execution_count": null,
      "outputs": [
        {
          "data": {
            "text/html": [
              "<div>\n",
              "<style scoped>\n",
              "    .dataframe tbody tr th:only-of-type {\n",
              "        vertical-align: middle;\n",
              "    }\n",
              "\n",
              "    .dataframe tbody tr th {\n",
              "        vertical-align: top;\n",
              "    }\n",
              "\n",
              "    .dataframe thead th {\n",
              "        text-align: right;\n",
              "    }\n",
              "</style>\n",
              "<table border=\"1\" class=\"dataframe\">\n",
              "  <thead>\n",
              "    <tr style=\"text-align: right;\">\n",
              "      <th></th>\n",
              "      <th>Passenger ID</th>\n",
              "      <th>Passenger Group</th>\n",
              "      <th>Test group</th>\n",
              "      <th>Trips July</th>\n",
              "      <th>Trips August</th>\n",
              "    </tr>\n",
              "  </thead>\n",
              "  <tbody>\n",
              "    <tr>\n",
              "      <th>0</th>\n",
              "      <td>800000</td>\n",
              "      <td>Medium</td>\n",
              "      <td>Loyalty</td>\n",
              "      <td>6</td>\n",
              "      <td>4</td>\n",
              "    </tr>\n",
              "    <tr>\n",
              "      <th>1</th>\n",
              "      <td>800001</td>\n",
              "      <td>Low</td>\n",
              "      <td>Control</td>\n",
              "      <td>0</td>\n",
              "      <td>1</td>\n",
              "    </tr>\n",
              "    <tr>\n",
              "      <th>2</th>\n",
              "      <td>800002</td>\n",
              "      <td>Medium</td>\n",
              "      <td>Loyalty</td>\n",
              "      <td>6</td>\n",
              "      <td>5</td>\n",
              "    </tr>\n",
              "    <tr>\n",
              "      <th>3</th>\n",
              "      <td>800003</td>\n",
              "      <td>Medium</td>\n",
              "      <td>Control</td>\n",
              "      <td>5</td>\n",
              "      <td>4</td>\n",
              "    </tr>\n",
              "    <tr>\n",
              "      <th>4</th>\n",
              "      <td>800004</td>\n",
              "      <td>Low</td>\n",
              "      <td>Loyalty</td>\n",
              "      <td>0</td>\n",
              "      <td>1</td>\n",
              "    </tr>\n",
              "    <tr>\n",
              "      <th>...</th>\n",
              "      <td>...</td>\n",
              "      <td>...</td>\n",
              "      <td>...</td>\n",
              "      <td>...</td>\n",
              "      <td>...</td>\n",
              "    </tr>\n",
              "    <tr>\n",
              "      <th>9994</th>\n",
              "      <td>809994</td>\n",
              "      <td>Low</td>\n",
              "      <td>Loyalty</td>\n",
              "      <td>2</td>\n",
              "      <td>2</td>\n",
              "    </tr>\n",
              "    <tr>\n",
              "      <th>9995</th>\n",
              "      <td>809995</td>\n",
              "      <td>High</td>\n",
              "      <td>Control</td>\n",
              "      <td>8</td>\n",
              "      <td>9</td>\n",
              "    </tr>\n",
              "    <tr>\n",
              "      <th>9996</th>\n",
              "      <td>809996</td>\n",
              "      <td>Low</td>\n",
              "      <td>Loyalty</td>\n",
              "      <td>0</td>\n",
              "      <td>4</td>\n",
              "    </tr>\n",
              "    <tr>\n",
              "      <th>9997</th>\n",
              "      <td>809997</td>\n",
              "      <td>Medium</td>\n",
              "      <td>Control</td>\n",
              "      <td>4</td>\n",
              "      <td>6</td>\n",
              "    </tr>\n",
              "    <tr>\n",
              "      <th>9998</th>\n",
              "      <td>809998</td>\n",
              "      <td>Low</td>\n",
              "      <td>Loyalty</td>\n",
              "      <td>2</td>\n",
              "      <td>2</td>\n",
              "    </tr>\n",
              "  </tbody>\n",
              "</table>\n",
              "<p>9999 rows × 5 columns</p>\n",
              "</div>"
            ],
            "text/plain": [
              "      Passenger ID Passenger Group Test group  Trips July  Trips August\n",
              "0           800000          Medium    Loyalty           6             4\n",
              "1           800001             Low    Control           0             1\n",
              "2           800002          Medium    Loyalty           6             5\n",
              "3           800003          Medium    Control           5             4\n",
              "4           800004             Low    Loyalty           0             1\n",
              "...            ...             ...        ...         ...           ...\n",
              "9994        809994             Low    Loyalty           2             2\n",
              "9995        809995            High    Control           8             9\n",
              "9996        809996             Low    Loyalty           0             4\n",
              "9997        809997          Medium    Control           4             6\n",
              "9998        809998             Low    Loyalty           2             2\n",
              "\n",
              "[9999 rows x 5 columns]"
            ]
          },
          "execution_count": 65,
          "metadata": {},
          "output_type": "execute_result"
        }
      ]
    },
    {
      "cell_type": "code",
      "metadata": {
        "id": "lSZ5wB28bsN9"
      },
      "source": [
        "df_marketDemand_merged[\"Difference after test\"] = df_marketDemand_merged[\"Trips August\"]-df_marketDemand_merged[\"Trips July\"]"
      ],
      "execution_count": null,
      "outputs": []
    },
    {
      "cell_type": "code",
      "metadata": {
        "colab": {
          "base_uri": "https://localhost:8080/",
          "height": 423
        },
        "id": "x-mfY8bIb_Br",
        "outputId": "55ded66f-4e26-49c7-c3b0-e004abc2c1c7"
      },
      "source": [
        "df_marketDemand_merged"
      ],
      "execution_count": null,
      "outputs": [
        {
          "data": {
            "text/html": [
              "<div>\n",
              "<style scoped>\n",
              "    .dataframe tbody tr th:only-of-type {\n",
              "        vertical-align: middle;\n",
              "    }\n",
              "\n",
              "    .dataframe tbody tr th {\n",
              "        vertical-align: top;\n",
              "    }\n",
              "\n",
              "    .dataframe thead th {\n",
              "        text-align: right;\n",
              "    }\n",
              "</style>\n",
              "<table border=\"1\" class=\"dataframe\">\n",
              "  <thead>\n",
              "    <tr style=\"text-align: right;\">\n",
              "      <th></th>\n",
              "      <th>Passenger ID</th>\n",
              "      <th>Passenger Group</th>\n",
              "      <th>Test group</th>\n",
              "      <th>Trips July</th>\n",
              "      <th>Trips August</th>\n",
              "      <th>Difference after test</th>\n",
              "    </tr>\n",
              "  </thead>\n",
              "  <tbody>\n",
              "    <tr>\n",
              "      <th>0</th>\n",
              "      <td>800000</td>\n",
              "      <td>Medium</td>\n",
              "      <td>Loyalty</td>\n",
              "      <td>6</td>\n",
              "      <td>4</td>\n",
              "      <td>-2</td>\n",
              "    </tr>\n",
              "    <tr>\n",
              "      <th>1</th>\n",
              "      <td>800001</td>\n",
              "      <td>Low</td>\n",
              "      <td>Control</td>\n",
              "      <td>0</td>\n",
              "      <td>1</td>\n",
              "      <td>1</td>\n",
              "    </tr>\n",
              "    <tr>\n",
              "      <th>2</th>\n",
              "      <td>800002</td>\n",
              "      <td>Medium</td>\n",
              "      <td>Loyalty</td>\n",
              "      <td>6</td>\n",
              "      <td>5</td>\n",
              "      <td>-1</td>\n",
              "    </tr>\n",
              "    <tr>\n",
              "      <th>3</th>\n",
              "      <td>800003</td>\n",
              "      <td>Medium</td>\n",
              "      <td>Control</td>\n",
              "      <td>5</td>\n",
              "      <td>4</td>\n",
              "      <td>-1</td>\n",
              "    </tr>\n",
              "    <tr>\n",
              "      <th>4</th>\n",
              "      <td>800004</td>\n",
              "      <td>Low</td>\n",
              "      <td>Loyalty</td>\n",
              "      <td>0</td>\n",
              "      <td>1</td>\n",
              "      <td>1</td>\n",
              "    </tr>\n",
              "    <tr>\n",
              "      <th>...</th>\n",
              "      <td>...</td>\n",
              "      <td>...</td>\n",
              "      <td>...</td>\n",
              "      <td>...</td>\n",
              "      <td>...</td>\n",
              "      <td>...</td>\n",
              "    </tr>\n",
              "    <tr>\n",
              "      <th>9994</th>\n",
              "      <td>809994</td>\n",
              "      <td>Low</td>\n",
              "      <td>Loyalty</td>\n",
              "      <td>2</td>\n",
              "      <td>2</td>\n",
              "      <td>0</td>\n",
              "    </tr>\n",
              "    <tr>\n",
              "      <th>9995</th>\n",
              "      <td>809995</td>\n",
              "      <td>High</td>\n",
              "      <td>Control</td>\n",
              "      <td>8</td>\n",
              "      <td>9</td>\n",
              "      <td>1</td>\n",
              "    </tr>\n",
              "    <tr>\n",
              "      <th>9996</th>\n",
              "      <td>809996</td>\n",
              "      <td>Low</td>\n",
              "      <td>Loyalty</td>\n",
              "      <td>0</td>\n",
              "      <td>4</td>\n",
              "      <td>4</td>\n",
              "    </tr>\n",
              "    <tr>\n",
              "      <th>9997</th>\n",
              "      <td>809997</td>\n",
              "      <td>Medium</td>\n",
              "      <td>Control</td>\n",
              "      <td>4</td>\n",
              "      <td>6</td>\n",
              "      <td>2</td>\n",
              "    </tr>\n",
              "    <tr>\n",
              "      <th>9998</th>\n",
              "      <td>809998</td>\n",
              "      <td>Low</td>\n",
              "      <td>Loyalty</td>\n",
              "      <td>2</td>\n",
              "      <td>2</td>\n",
              "      <td>0</td>\n",
              "    </tr>\n",
              "  </tbody>\n",
              "</table>\n",
              "<p>9999 rows × 6 columns</p>\n",
              "</div>"
            ],
            "text/plain": [
              "      Passenger ID Passenger Group  ... Trips August  Difference after test\n",
              "0           800000          Medium  ...            4                     -2\n",
              "1           800001             Low  ...            1                      1\n",
              "2           800002          Medium  ...            5                     -1\n",
              "3           800003          Medium  ...            4                     -1\n",
              "4           800004             Low  ...            1                      1\n",
              "...            ...             ...  ...          ...                    ...\n",
              "9994        809994             Low  ...            2                      0\n",
              "9995        809995            High  ...            9                      1\n",
              "9996        809996             Low  ...            4                      4\n",
              "9997        809997          Medium  ...            6                      2\n",
              "9998        809998             Low  ...            2                      0\n",
              "\n",
              "[9999 rows x 6 columns]"
            ]
          },
          "execution_count": 67,
          "metadata": {},
          "output_type": "execute_result"
        }
      ]
    },
    {
      "cell_type": "code",
      "metadata": {
        "id": "nL2Xt40FcJV4"
      },
      "source": [
        "df_loyalty = df_marketDemand_merged.loc[df_marketDemand_merged[\"Test group\"] == \"Loyalty\"]"
      ],
      "execution_count": null,
      "outputs": []
    },
    {
      "cell_type": "code",
      "metadata": {
        "colab": {
          "base_uri": "https://localhost:8080/",
          "height": 423
        },
        "id": "45PYAs6AdzV-",
        "outputId": "b8819dbf-7992-42ba-d177-a2727ccbdcdb"
      },
      "source": [
        "df_loyalty"
      ],
      "execution_count": null,
      "outputs": [
        {
          "data": {
            "text/html": [
              "<div>\n",
              "<style scoped>\n",
              "    .dataframe tbody tr th:only-of-type {\n",
              "        vertical-align: middle;\n",
              "    }\n",
              "\n",
              "    .dataframe tbody tr th {\n",
              "        vertical-align: top;\n",
              "    }\n",
              "\n",
              "    .dataframe thead th {\n",
              "        text-align: right;\n",
              "    }\n",
              "</style>\n",
              "<table border=\"1\" class=\"dataframe\">\n",
              "  <thead>\n",
              "    <tr style=\"text-align: right;\">\n",
              "      <th></th>\n",
              "      <th>Passenger ID</th>\n",
              "      <th>Passenger Group</th>\n",
              "      <th>Test group</th>\n",
              "      <th>Trips July</th>\n",
              "      <th>Trips August</th>\n",
              "      <th>Difference after test</th>\n",
              "    </tr>\n",
              "  </thead>\n",
              "  <tbody>\n",
              "    <tr>\n",
              "      <th>0</th>\n",
              "      <td>800000</td>\n",
              "      <td>Medium</td>\n",
              "      <td>Loyalty</td>\n",
              "      <td>6</td>\n",
              "      <td>4</td>\n",
              "      <td>-2</td>\n",
              "    </tr>\n",
              "    <tr>\n",
              "      <th>2</th>\n",
              "      <td>800002</td>\n",
              "      <td>Medium</td>\n",
              "      <td>Loyalty</td>\n",
              "      <td>6</td>\n",
              "      <td>5</td>\n",
              "      <td>-1</td>\n",
              "    </tr>\n",
              "    <tr>\n",
              "      <th>4</th>\n",
              "      <td>800004</td>\n",
              "      <td>Low</td>\n",
              "      <td>Loyalty</td>\n",
              "      <td>0</td>\n",
              "      <td>1</td>\n",
              "      <td>1</td>\n",
              "    </tr>\n",
              "    <tr>\n",
              "      <th>6</th>\n",
              "      <td>800006</td>\n",
              "      <td>Medium</td>\n",
              "      <td>Loyalty</td>\n",
              "      <td>4</td>\n",
              "      <td>4</td>\n",
              "      <td>0</td>\n",
              "    </tr>\n",
              "    <tr>\n",
              "      <th>8</th>\n",
              "      <td>800008</td>\n",
              "      <td>Medium</td>\n",
              "      <td>Loyalty</td>\n",
              "      <td>6</td>\n",
              "      <td>7</td>\n",
              "      <td>1</td>\n",
              "    </tr>\n",
              "    <tr>\n",
              "      <th>...</th>\n",
              "      <td>...</td>\n",
              "      <td>...</td>\n",
              "      <td>...</td>\n",
              "      <td>...</td>\n",
              "      <td>...</td>\n",
              "      <td>...</td>\n",
              "    </tr>\n",
              "    <tr>\n",
              "      <th>9990</th>\n",
              "      <td>809990</td>\n",
              "      <td>Medium</td>\n",
              "      <td>Loyalty</td>\n",
              "      <td>5</td>\n",
              "      <td>8</td>\n",
              "      <td>3</td>\n",
              "    </tr>\n",
              "    <tr>\n",
              "      <th>9992</th>\n",
              "      <td>809992</td>\n",
              "      <td>Medium</td>\n",
              "      <td>Loyalty</td>\n",
              "      <td>4</td>\n",
              "      <td>9</td>\n",
              "      <td>5</td>\n",
              "    </tr>\n",
              "    <tr>\n",
              "      <th>9994</th>\n",
              "      <td>809994</td>\n",
              "      <td>Low</td>\n",
              "      <td>Loyalty</td>\n",
              "      <td>2</td>\n",
              "      <td>2</td>\n",
              "      <td>0</td>\n",
              "    </tr>\n",
              "    <tr>\n",
              "      <th>9996</th>\n",
              "      <td>809996</td>\n",
              "      <td>Low</td>\n",
              "      <td>Loyalty</td>\n",
              "      <td>0</td>\n",
              "      <td>4</td>\n",
              "      <td>4</td>\n",
              "    </tr>\n",
              "    <tr>\n",
              "      <th>9998</th>\n",
              "      <td>809998</td>\n",
              "      <td>Low</td>\n",
              "      <td>Loyalty</td>\n",
              "      <td>2</td>\n",
              "      <td>2</td>\n",
              "      <td>0</td>\n",
              "    </tr>\n",
              "  </tbody>\n",
              "</table>\n",
              "<p>5000 rows × 6 columns</p>\n",
              "</div>"
            ],
            "text/plain": [
              "      Passenger ID Passenger Group  ... Trips August  Difference after test\n",
              "0           800000          Medium  ...            4                     -2\n",
              "2           800002          Medium  ...            5                     -1\n",
              "4           800004             Low  ...            1                      1\n",
              "6           800006          Medium  ...            4                      0\n",
              "8           800008          Medium  ...            7                      1\n",
              "...            ...             ...  ...          ...                    ...\n",
              "9990        809990          Medium  ...            8                      3\n",
              "9992        809992          Medium  ...            9                      5\n",
              "9994        809994             Low  ...            2                      0\n",
              "9996        809996             Low  ...            4                      4\n",
              "9998        809998             Low  ...            2                      0\n",
              "\n",
              "[5000 rows x 6 columns]"
            ]
          },
          "execution_count": 69,
          "metadata": {},
          "output_type": "execute_result"
        }
      ]
    },
    {
      "cell_type": "code",
      "metadata": {
        "colab": {
          "base_uri": "https://localhost:8080/"
        },
        "id": "bsANtvIydeec",
        "outputId": "8f7571cc-7ae0-4ee6-e999-580d2a625245"
      },
      "source": [
        "df_loyalty[\"Worked\"] = df_loyalty['Difference after test'].apply(lambda x: 'True' if x > 0 else 'False')"
      ],
      "execution_count": null,
      "outputs": [
        {
          "name": "stderr",
          "output_type": "stream",
          "text": [
            "/usr/local/lib/python3.7/dist-packages/ipykernel_launcher.py:1: SettingWithCopyWarning: \n",
            "A value is trying to be set on a copy of a slice from a DataFrame.\n",
            "Try using .loc[row_indexer,col_indexer] = value instead\n",
            "\n",
            "See the caveats in the documentation: https://pandas.pydata.org/pandas-docs/stable/user_guide/indexing.html#returning-a-view-versus-a-copy\n",
            "  \"\"\"Entry point for launching an IPython kernel.\n"
          ]
        }
      ]
    },
    {
      "cell_type": "code",
      "metadata": {
        "colab": {
          "base_uri": "https://localhost:8080/",
          "height": 423
        },
        "id": "rWZzB_PndZQk",
        "outputId": "5fb06819-c87b-476f-9f61-5853fb0e41b9"
      },
      "source": [
        "df_loyalty"
      ],
      "execution_count": null,
      "outputs": [
        {
          "data": {
            "text/html": [
              "<div>\n",
              "<style scoped>\n",
              "    .dataframe tbody tr th:only-of-type {\n",
              "        vertical-align: middle;\n",
              "    }\n",
              "\n",
              "    .dataframe tbody tr th {\n",
              "        vertical-align: top;\n",
              "    }\n",
              "\n",
              "    .dataframe thead th {\n",
              "        text-align: right;\n",
              "    }\n",
              "</style>\n",
              "<table border=\"1\" class=\"dataframe\">\n",
              "  <thead>\n",
              "    <tr style=\"text-align: right;\">\n",
              "      <th></th>\n",
              "      <th>Passenger ID</th>\n",
              "      <th>Passenger Group</th>\n",
              "      <th>Test group</th>\n",
              "      <th>Trips July</th>\n",
              "      <th>Trips August</th>\n",
              "      <th>Difference after test</th>\n",
              "      <th>Worked</th>\n",
              "    </tr>\n",
              "  </thead>\n",
              "  <tbody>\n",
              "    <tr>\n",
              "      <th>0</th>\n",
              "      <td>800000</td>\n",
              "      <td>Medium</td>\n",
              "      <td>Loyalty</td>\n",
              "      <td>6</td>\n",
              "      <td>4</td>\n",
              "      <td>-2</td>\n",
              "      <td>False</td>\n",
              "    </tr>\n",
              "    <tr>\n",
              "      <th>2</th>\n",
              "      <td>800002</td>\n",
              "      <td>Medium</td>\n",
              "      <td>Loyalty</td>\n",
              "      <td>6</td>\n",
              "      <td>5</td>\n",
              "      <td>-1</td>\n",
              "      <td>False</td>\n",
              "    </tr>\n",
              "    <tr>\n",
              "      <th>4</th>\n",
              "      <td>800004</td>\n",
              "      <td>Low</td>\n",
              "      <td>Loyalty</td>\n",
              "      <td>0</td>\n",
              "      <td>1</td>\n",
              "      <td>1</td>\n",
              "      <td>True</td>\n",
              "    </tr>\n",
              "    <tr>\n",
              "      <th>6</th>\n",
              "      <td>800006</td>\n",
              "      <td>Medium</td>\n",
              "      <td>Loyalty</td>\n",
              "      <td>4</td>\n",
              "      <td>4</td>\n",
              "      <td>0</td>\n",
              "      <td>False</td>\n",
              "    </tr>\n",
              "    <tr>\n",
              "      <th>8</th>\n",
              "      <td>800008</td>\n",
              "      <td>Medium</td>\n",
              "      <td>Loyalty</td>\n",
              "      <td>6</td>\n",
              "      <td>7</td>\n",
              "      <td>1</td>\n",
              "      <td>True</td>\n",
              "    </tr>\n",
              "    <tr>\n",
              "      <th>...</th>\n",
              "      <td>...</td>\n",
              "      <td>...</td>\n",
              "      <td>...</td>\n",
              "      <td>...</td>\n",
              "      <td>...</td>\n",
              "      <td>...</td>\n",
              "      <td>...</td>\n",
              "    </tr>\n",
              "    <tr>\n",
              "      <th>9990</th>\n",
              "      <td>809990</td>\n",
              "      <td>Medium</td>\n",
              "      <td>Loyalty</td>\n",
              "      <td>5</td>\n",
              "      <td>8</td>\n",
              "      <td>3</td>\n",
              "      <td>True</td>\n",
              "    </tr>\n",
              "    <tr>\n",
              "      <th>9992</th>\n",
              "      <td>809992</td>\n",
              "      <td>Medium</td>\n",
              "      <td>Loyalty</td>\n",
              "      <td>4</td>\n",
              "      <td>9</td>\n",
              "      <td>5</td>\n",
              "      <td>True</td>\n",
              "    </tr>\n",
              "    <tr>\n",
              "      <th>9994</th>\n",
              "      <td>809994</td>\n",
              "      <td>Low</td>\n",
              "      <td>Loyalty</td>\n",
              "      <td>2</td>\n",
              "      <td>2</td>\n",
              "      <td>0</td>\n",
              "      <td>False</td>\n",
              "    </tr>\n",
              "    <tr>\n",
              "      <th>9996</th>\n",
              "      <td>809996</td>\n",
              "      <td>Low</td>\n",
              "      <td>Loyalty</td>\n",
              "      <td>0</td>\n",
              "      <td>4</td>\n",
              "      <td>4</td>\n",
              "      <td>True</td>\n",
              "    </tr>\n",
              "    <tr>\n",
              "      <th>9998</th>\n",
              "      <td>809998</td>\n",
              "      <td>Low</td>\n",
              "      <td>Loyalty</td>\n",
              "      <td>2</td>\n",
              "      <td>2</td>\n",
              "      <td>0</td>\n",
              "      <td>False</td>\n",
              "    </tr>\n",
              "  </tbody>\n",
              "</table>\n",
              "<p>5000 rows × 7 columns</p>\n",
              "</div>"
            ],
            "text/plain": [
              "      Passenger ID Passenger Group  ... Difference after test  Worked\n",
              "0           800000          Medium  ...                    -2   False\n",
              "2           800002          Medium  ...                    -1   False\n",
              "4           800004             Low  ...                     1    True\n",
              "6           800006          Medium  ...                     0   False\n",
              "8           800008          Medium  ...                     1    True\n",
              "...            ...             ...  ...                   ...     ...\n",
              "9990        809990          Medium  ...                     3    True\n",
              "9992        809992          Medium  ...                     5    True\n",
              "9994        809994             Low  ...                     0   False\n",
              "9996        809996             Low  ...                     4    True\n",
              "9998        809998             Low  ...                     0   False\n",
              "\n",
              "[5000 rows x 7 columns]"
            ]
          },
          "execution_count": 71,
          "metadata": {},
          "output_type": "execute_result"
        }
      ]
    },
    {
      "cell_type": "markdown",
      "metadata": {
        "id": "HENF67tI5eTw"
      },
      "source": [
        "Partiendo de el número de viajes en julio y agosto, así como el grupo de pasajeros, se utilizó Random Forest para predecir si la estrategia funcionó o no. Se utilizó el 80% de los datos para entrenar el modelo y 20% para probarlo. Posteriormente se obtuvo la precisión del mismo."
      ]
    },
    {
      "cell_type": "code",
      "metadata": {
        "colab": {
          "base_uri": "https://localhost:8080/"
        },
        "id": "qr8uxmPu0dEB",
        "outputId": "3236a457-43fd-473f-b1ea-43342704da2e"
      },
      "source": [
        "X = df_loyalty.drop([\"Passenger ID\",\"Difference after test\",\"Worked\",\"Test group\"],axis=\"columns\")\n",
        "X = X.replace('Low',1)\n",
        "X = X.replace('Medium',2)\n",
        "X = X.replace('High',3)\n",
        "y = df_loyalty[\"Worked\"]\n",
        "df_loyalty[\"Test group\"].unique()"
      ],
      "execution_count": null,
      "outputs": [
        {
          "data": {
            "text/plain": [
              "array(['Loyalty'], dtype=object)"
            ]
          },
          "execution_count": 80,
          "metadata": {},
          "output_type": "execute_result"
        }
      ]
    },
    {
      "cell_type": "code",
      "metadata": {
        "id": "PwHHycNDLG-P"
      },
      "source": [
        "from sklearn.model_selection import train_test_split\n",
        "X_train, X_test, y_train, y_test = train_test_split(X, y, test_size=0.2)"
      ],
      "execution_count": null,
      "outputs": []
    },
    {
      "cell_type": "code",
      "metadata": {
        "colab": {
          "base_uri": "https://localhost:8080/"
        },
        "id": "bQpm2MxgLgk6",
        "outputId": "be55aa17-7d82-44d6-dacb-d57365971ceb"
      },
      "source": [
        "from sklearn.ensemble import RandomForestClassifier\n",
        "from sklearn.metrics import accuracy_score, classification_report, precision_score\n",
        "algoritmo = RandomForestClassifier()\n",
        "#Entreno el modelo\n",
        "algoritmo.fit(X_train, y_train)\n",
        "#Realizo una predicción\n",
        "y_pred = algoritmo.predict(X_test)\n",
        "#Calculo la precisión del modelo\n",
        "precision = precision_score(y_test, y_pred, average='micro')\n",
        "print('Precisión del modelo:')\n",
        "print(precision)"
      ],
      "execution_count": null,
      "outputs": [
        {
          "name": "stdout",
          "output_type": "stream",
          "text": [
            "Precisión del modelo:\n",
            "1.0\n"
          ]
        }
      ]
    },
    {
      "cell_type": "code",
      "metadata": {
        "id": "J1Ij6cQTg6x0"
      },
      "source": [
        "df_program_worked = df_loyalty.groupby([\"Worked\"]).count()"
      ],
      "execution_count": null,
      "outputs": []
    },
    {
      "cell_type": "code",
      "metadata": {
        "colab": {
          "base_uri": "https://localhost:8080/",
          "height": 142
        },
        "id": "27IhDM5eh5vj",
        "outputId": "95034d59-51ea-48b4-9b1d-9a1fc7a2a533"
      },
      "source": [
        "df_program_worked"
      ],
      "execution_count": null,
      "outputs": [
        {
          "data": {
            "text/html": [
              "<div>\n",
              "<style scoped>\n",
              "    .dataframe tbody tr th:only-of-type {\n",
              "        vertical-align: middle;\n",
              "    }\n",
              "\n",
              "    .dataframe tbody tr th {\n",
              "        vertical-align: top;\n",
              "    }\n",
              "\n",
              "    .dataframe thead th {\n",
              "        text-align: right;\n",
              "    }\n",
              "</style>\n",
              "<table border=\"1\" class=\"dataframe\">\n",
              "  <thead>\n",
              "    <tr style=\"text-align: right;\">\n",
              "      <th></th>\n",
              "      <th>Passenger ID</th>\n",
              "      <th>Passenger Group</th>\n",
              "      <th>Test group</th>\n",
              "      <th>Trips July</th>\n",
              "      <th>Trips August</th>\n",
              "      <th>Difference after test</th>\n",
              "    </tr>\n",
              "    <tr>\n",
              "      <th>Worked</th>\n",
              "      <th></th>\n",
              "      <th></th>\n",
              "      <th></th>\n",
              "      <th></th>\n",
              "      <th></th>\n",
              "      <th></th>\n",
              "    </tr>\n",
              "  </thead>\n",
              "  <tbody>\n",
              "    <tr>\n",
              "      <th>False</th>\n",
              "      <td>2079</td>\n",
              "      <td>2079</td>\n",
              "      <td>2079</td>\n",
              "      <td>2079</td>\n",
              "      <td>2079</td>\n",
              "      <td>2079</td>\n",
              "    </tr>\n",
              "    <tr>\n",
              "      <th>True</th>\n",
              "      <td>2921</td>\n",
              "      <td>2921</td>\n",
              "      <td>2921</td>\n",
              "      <td>2921</td>\n",
              "      <td>2921</td>\n",
              "      <td>2921</td>\n",
              "    </tr>\n",
              "  </tbody>\n",
              "</table>\n",
              "</div>"
            ],
            "text/plain": [
              "        Passenger ID  Passenger Group  ...  Trips August  Difference after test\n",
              "Worked                                 ...                                     \n",
              "False           2079             2079  ...          2079                   2079\n",
              "True            2921             2921  ...          2921                   2921\n",
              "\n",
              "[2 rows x 6 columns]"
            ]
          },
          "execution_count": 93,
          "metadata": {},
          "output_type": "execute_result"
        }
      ]
    },
    {
      "cell_type": "code",
      "metadata": {
        "id": "yam76nxshbPM"
      },
      "source": [
        "df_program_worked.drop([\"Passenger ID\",\t\"Passenger Group\",\t\"Test group\",\"Trips July\",\t\"Difference after test\"],axis = 1,inplace=True)"
      ],
      "execution_count": null,
      "outputs": []
    },
    {
      "cell_type": "code",
      "metadata": {
        "colab": {
          "base_uri": "https://localhost:8080/",
          "height": 142
        },
        "id": "ZK4EDc5WiIx9",
        "outputId": "a6e65756-0845-40c4-ea01-41a60c6cac72"
      },
      "source": [
        "df_program_worked"
      ],
      "execution_count": null,
      "outputs": [
        {
          "data": {
            "text/html": [
              "<div>\n",
              "<style scoped>\n",
              "    .dataframe tbody tr th:only-of-type {\n",
              "        vertical-align: middle;\n",
              "    }\n",
              "\n",
              "    .dataframe tbody tr th {\n",
              "        vertical-align: top;\n",
              "    }\n",
              "\n",
              "    .dataframe thead th {\n",
              "        text-align: right;\n",
              "    }\n",
              "</style>\n",
              "<table border=\"1\" class=\"dataframe\">\n",
              "  <thead>\n",
              "    <tr style=\"text-align: right;\">\n",
              "      <th></th>\n",
              "      <th>Trips August</th>\n",
              "    </tr>\n",
              "    <tr>\n",
              "      <th>Worked</th>\n",
              "      <th></th>\n",
              "    </tr>\n",
              "  </thead>\n",
              "  <tbody>\n",
              "    <tr>\n",
              "      <th>False</th>\n",
              "      <td>2079</td>\n",
              "    </tr>\n",
              "    <tr>\n",
              "      <th>True</th>\n",
              "      <td>2921</td>\n",
              "    </tr>\n",
              "  </tbody>\n",
              "</table>\n",
              "</div>"
            ],
            "text/plain": [
              "        Trips August\n",
              "Worked              \n",
              "False           2079\n",
              "True            2921"
            ]
          },
          "execution_count": 96,
          "metadata": {},
          "output_type": "execute_result"
        }
      ]
    },
    {
      "cell_type": "code",
      "metadata": {
        "id": "nL97_ilMiMnm"
      },
      "source": [
        "df_program_worked.rename(columns={\"Trips August\":\"Success cases\"},inplace=True)"
      ],
      "execution_count": null,
      "outputs": []
    },
    {
      "cell_type": "code",
      "metadata": {
        "colab": {
          "base_uri": "https://localhost:8080/",
          "height": 142
        },
        "id": "vA71ox3eiauG",
        "outputId": "4fe7edfa-d884-4f72-d0a8-f63d6a958885"
      },
      "source": [
        "df_program_worked"
      ],
      "execution_count": null,
      "outputs": [
        {
          "data": {
            "text/html": [
              "<div>\n",
              "<style scoped>\n",
              "    .dataframe tbody tr th:only-of-type {\n",
              "        vertical-align: middle;\n",
              "    }\n",
              "\n",
              "    .dataframe tbody tr th {\n",
              "        vertical-align: top;\n",
              "    }\n",
              "\n",
              "    .dataframe thead th {\n",
              "        text-align: right;\n",
              "    }\n",
              "</style>\n",
              "<table border=\"1\" class=\"dataframe\">\n",
              "  <thead>\n",
              "    <tr style=\"text-align: right;\">\n",
              "      <th></th>\n",
              "      <th>Success cases</th>\n",
              "    </tr>\n",
              "    <tr>\n",
              "      <th>Worked</th>\n",
              "      <th></th>\n",
              "    </tr>\n",
              "  </thead>\n",
              "  <tbody>\n",
              "    <tr>\n",
              "      <th>False</th>\n",
              "      <td>2079</td>\n",
              "    </tr>\n",
              "    <tr>\n",
              "      <th>True</th>\n",
              "      <td>2921</td>\n",
              "    </tr>\n",
              "  </tbody>\n",
              "</table>\n",
              "</div>"
            ],
            "text/plain": [
              "        Success cases\n",
              "Worked               \n",
              "False            2079\n",
              "True             2921"
            ]
          },
          "execution_count": 99,
          "metadata": {},
          "output_type": "execute_result"
        }
      ]
    },
    {
      "cell_type": "code",
      "metadata": {
        "colab": {
          "base_uri": "https://localhost:8080/",
          "height": 248
        },
        "id": "JRcFgcIigV7q",
        "outputId": "d8fd4b29-7a4b-4ecd-eaa8-fcdaf68d1822"
      },
      "source": [
        "labels = ['Didn´t Worked', 'Worked']\n",
        "#define Seaborn color palette to use\n",
        "colors = sns.color_palette('bright')[0:5]\n",
        "\n",
        "#create pie chart\n",
        "plt.pie(df_program_worked[\"Success cases\"], labels = labels , colors = colors, autopct='%.0f%%')\n",
        "plt.show()"
      ],
      "execution_count": null,
      "outputs": [
        {
          "data": {
            "image/png": "[encoded data removed]",
            "text/plain": [
              "<Figure size 432x288 with 1 Axes>"
            ]
          },
          "metadata": {},
          "output_type": "display_data"
        }
      ]
    },
    {
      "cell_type": "code",
      "metadata": {
        "colab": {
          "base_uri": "https://localhost:8080/",
          "height": 297
        },
        "id": "Xs07YKsUkAks",
        "outputId": "de66e3ef-138c-4af6-9c98-76983d227133"
      },
      "source": [
        "#colors\n",
        "colors = ['#ff9999','#66b3ff','#99ff99','#ffcc99']\n",
        "\n",
        " \n",
        "fig1, ax1 = plt.subplots()\n",
        "ax1.pie(df_program_worked[\"Success cases\"], colors = colors, labels=labels, autopct='%1.1f%%', startangle=90)\n",
        "#draw circle\n",
        "centre_circle = plt.Circle((0,0),0.70,fc='white')\n",
        "fig = plt.gcf()\n",
        "fig.gca().add_artist(centre_circle)\n",
        "# Equal aspect ratio ensures that pie is drawn as a circle\n",
        "ax1.axis('equal')  \n",
        "plt.tight_layout()\n",
        "plt.show()"
      ],
      "execution_count": null,
      "outputs": [
        {
          "data": {
            "image/png": "[encoded data removed]",
            "text/plain": [
              "<Figure size 432x288 with 1 Axes>"
            ]
          },
          "metadata": {},
          "output_type": "display_data"
        }
      ]
    },
    {
      "cell_type": "code",
      "metadata": {
        "id": "OGD4eUW9i5C8"
      },
      "source": [
        "df_control = df_marketDemand_merged.loc[df_marketDemand_merged[\"Test group\"] == \"Control\"]"
      ],
      "execution_count": null,
      "outputs": []
    },
    {
      "cell_type": "code",
      "metadata": {
        "colab": {
          "base_uri": "https://localhost:8080/",
          "height": 423
        },
        "id": "FTcosIYUi8ke",
        "outputId": "585d91dd-726b-4cfc-f796-1a5313647035"
      },
      "source": [
        "df_control"
      ],
      "execution_count": null,
      "outputs": [
        {
          "data": {
            "text/html": [
              "<div>\n",
              "<style scoped>\n",
              "    .dataframe tbody tr th:only-of-type {\n",
              "        vertical-align: middle;\n",
              "    }\n",
              "\n",
              "    .dataframe tbody tr th {\n",
              "        vertical-align: top;\n",
              "    }\n",
              "\n",
              "    .dataframe thead th {\n",
              "        text-align: right;\n",
              "    }\n",
              "</style>\n",
              "<table border=\"1\" class=\"dataframe\">\n",
              "  <thead>\n",
              "    <tr style=\"text-align: right;\">\n",
              "      <th></th>\n",
              "      <th>Passenger ID</th>\n",
              "      <th>Passenger Group</th>\n",
              "      <th>Test group</th>\n",
              "      <th>Trips July</th>\n",
              "      <th>Trips August</th>\n",
              "      <th>Difference after test</th>\n",
              "    </tr>\n",
              "  </thead>\n",
              "  <tbody>\n",
              "    <tr>\n",
              "      <th>1</th>\n",
              "      <td>800001</td>\n",
              "      <td>Low</td>\n",
              "      <td>Control</td>\n",
              "      <td>0</td>\n",
              "      <td>1</td>\n",
              "      <td>1</td>\n",
              "    </tr>\n",
              "    <tr>\n",
              "      <th>3</th>\n",
              "      <td>800003</td>\n",
              "      <td>Medium</td>\n",
              "      <td>Control</td>\n",
              "      <td>5</td>\n",
              "      <td>4</td>\n",
              "      <td>-1</td>\n",
              "    </tr>\n",
              "    <tr>\n",
              "      <th>5</th>\n",
              "      <td>800005</td>\n",
              "      <td>Medium</td>\n",
              "      <td>Control</td>\n",
              "      <td>6</td>\n",
              "      <td>5</td>\n",
              "      <td>-1</td>\n",
              "    </tr>\n",
              "    <tr>\n",
              "      <th>7</th>\n",
              "      <td>800007</td>\n",
              "      <td>Medium</td>\n",
              "      <td>Control</td>\n",
              "      <td>4</td>\n",
              "      <td>7</td>\n",
              "      <td>3</td>\n",
              "    </tr>\n",
              "    <tr>\n",
              "      <th>9</th>\n",
              "      <td>800009</td>\n",
              "      <td>Medium</td>\n",
              "      <td>Control</td>\n",
              "      <td>4</td>\n",
              "      <td>8</td>\n",
              "      <td>4</td>\n",
              "    </tr>\n",
              "    <tr>\n",
              "      <th>...</th>\n",
              "      <td>...</td>\n",
              "      <td>...</td>\n",
              "      <td>...</td>\n",
              "      <td>...</td>\n",
              "      <td>...</td>\n",
              "      <td>...</td>\n",
              "    </tr>\n",
              "    <tr>\n",
              "      <th>9989</th>\n",
              "      <td>809989</td>\n",
              "      <td>Medium</td>\n",
              "      <td>Control</td>\n",
              "      <td>4</td>\n",
              "      <td>8</td>\n",
              "      <td>4</td>\n",
              "    </tr>\n",
              "    <tr>\n",
              "      <th>9991</th>\n",
              "      <td>809991</td>\n",
              "      <td>Medium</td>\n",
              "      <td>Control</td>\n",
              "      <td>4</td>\n",
              "      <td>5</td>\n",
              "      <td>1</td>\n",
              "    </tr>\n",
              "    <tr>\n",
              "      <th>9993</th>\n",
              "      <td>809993</td>\n",
              "      <td>Medium</td>\n",
              "      <td>Control</td>\n",
              "      <td>5</td>\n",
              "      <td>5</td>\n",
              "      <td>0</td>\n",
              "    </tr>\n",
              "    <tr>\n",
              "      <th>9995</th>\n",
              "      <td>809995</td>\n",
              "      <td>High</td>\n",
              "      <td>Control</td>\n",
              "      <td>8</td>\n",
              "      <td>9</td>\n",
              "      <td>1</td>\n",
              "    </tr>\n",
              "    <tr>\n",
              "      <th>9997</th>\n",
              "      <td>809997</td>\n",
              "      <td>Medium</td>\n",
              "      <td>Control</td>\n",
              "      <td>4</td>\n",
              "      <td>6</td>\n",
              "      <td>2</td>\n",
              "    </tr>\n",
              "  </tbody>\n",
              "</table>\n",
              "<p>4999 rows × 6 columns</p>\n",
              "</div>"
            ],
            "text/plain": [
              "      Passenger ID Passenger Group  ... Trips August  Difference after test\n",
              "1           800001             Low  ...            1                      1\n",
              "3           800003          Medium  ...            4                     -1\n",
              "5           800005          Medium  ...            5                     -1\n",
              "7           800007          Medium  ...            7                      3\n",
              "9           800009          Medium  ...            8                      4\n",
              "...            ...             ...  ...          ...                    ...\n",
              "9989        809989          Medium  ...            8                      4\n",
              "9991        809991          Medium  ...            5                      1\n",
              "9993        809993          Medium  ...            5                      0\n",
              "9995        809995            High  ...            9                      1\n",
              "9997        809997          Medium  ...            6                      2\n",
              "\n",
              "[4999 rows x 6 columns]"
            ]
          },
          "execution_count": 84,
          "metadata": {},
          "output_type": "execute_result"
        }
      ]
    },
    {
      "cell_type": "code",
      "metadata": {
        "colab": {
          "base_uri": "https://localhost:8080/"
        },
        "id": "ucc7VJqojIdV",
        "outputId": "505821d6-ecc4-42ed-d316-d21ee90736e1"
      },
      "source": [
        "df_control[\"Worked\"] = df_control['Difference after test'].apply(lambda x: 'True' if x > 0 else 'False')"
      ],
      "execution_count": null,
      "outputs": [
        {
          "name": "stderr",
          "output_type": "stream",
          "text": [
            "/usr/local/lib/python3.7/dist-packages/ipykernel_launcher.py:1: SettingWithCopyWarning: \n",
            "A value is trying to be set on a copy of a slice from a DataFrame.\n",
            "Try using .loc[row_indexer,col_indexer] = value instead\n",
            "\n",
            "See the caveats in the documentation: https://pandas.pydata.org/pandas-docs/stable/user_guide/indexing.html#returning-a-view-versus-a-copy\n",
            "  \"\"\"Entry point for launching an IPython kernel.\n"
          ]
        }
      ]
    },
    {
      "cell_type": "code",
      "metadata": {
        "colab": {
          "background_save": true,
          "base_uri": "https://localhost:8080/",
          "height": 417
        },
        "id": "SIZw7nUnjM7c",
        "outputId": "0fec5d3d-d010-4c60-d051-4aa75b75d614"
      },
      "source": [
        "df_control"
      ],
      "execution_count": null,
      "outputs": [
        {
          "data": {
            "text/html": [
              "<div>\n",
              "<style scoped>\n",
              "    .dataframe tbody tr th:only-of-type {\n",
              "        vertical-align: middle;\n",
              "    }\n",
              "\n",
              "    .dataframe tbody tr th {\n",
              "        vertical-align: top;\n",
              "    }\n",
              "\n",
              "    .dataframe thead th {\n",
              "        text-align: right;\n",
              "    }\n",
              "</style>\n",
              "<table border=\"1\" class=\"dataframe\">\n",
              "  <thead>\n",
              "    <tr style=\"text-align: right;\">\n",
              "      <th></th>\n",
              "      <th>Passenger ID</th>\n",
              "      <th>Passenger Group</th>\n",
              "      <th>Test group</th>\n",
              "      <th>Trips July</th>\n",
              "      <th>Trips August</th>\n",
              "      <th>Difference after test</th>\n",
              "    </tr>\n",
              "  </thead>\n",
              "  <tbody>\n",
              "    <tr>\n",
              "      <th>1</th>\n",
              "      <td>800001</td>\n",
              "      <td>Low</td>\n",
              "      <td>Control</td>\n",
              "      <td>0</td>\n",
              "      <td>1</td>\n",
              "      <td>1</td>\n",
              "    </tr>\n",
              "    <tr>\n",
              "      <th>3</th>\n",
              "      <td>800003</td>\n",
              "      <td>Medium</td>\n",
              "      <td>Control</td>\n",
              "      <td>5</td>\n",
              "      <td>4</td>\n",
              "      <td>-1</td>\n",
              "    </tr>\n",
              "    <tr>\n",
              "      <th>5</th>\n",
              "      <td>800005</td>\n",
              "      <td>Medium</td>\n",
              "      <td>Control</td>\n",
              "      <td>6</td>\n",
              "      <td>5</td>\n",
              "      <td>-1</td>\n",
              "    </tr>\n",
              "    <tr>\n",
              "      <th>7</th>\n",
              "      <td>800007</td>\n",
              "      <td>Medium</td>\n",
              "      <td>Control</td>\n",
              "      <td>4</td>\n",
              "      <td>7</td>\n",
              "      <td>3</td>\n",
              "    </tr>\n",
              "    <tr>\n",
              "      <th>9</th>\n",
              "      <td>800009</td>\n",
              "      <td>Medium</td>\n",
              "      <td>Control</td>\n",
              "      <td>4</td>\n",
              "      <td>8</td>\n",
              "      <td>4</td>\n",
              "    </tr>\n",
              "    <tr>\n",
              "      <th>...</th>\n",
              "      <td>...</td>\n",
              "      <td>...</td>\n",
              "      <td>...</td>\n",
              "      <td>...</td>\n",
              "      <td>...</td>\n",
              "      <td>...</td>\n",
              "    </tr>\n",
              "    <tr>\n",
              "      <th>9989</th>\n",
              "      <td>809989</td>\n",
              "      <td>Medium</td>\n",
              "      <td>Control</td>\n",
              "      <td>4</td>\n",
              "      <td>8</td>\n",
              "      <td>4</td>\n",
              "    </tr>\n",
              "    <tr>\n",
              "      <th>9991</th>\n",
              "      <td>809991</td>\n",
              "      <td>Medium</td>\n",
              "      <td>Control</td>\n",
              "      <td>4</td>\n",
              "      <td>5</td>\n",
              "      <td>1</td>\n",
              "    </tr>\n",
              "    <tr>\n",
              "      <th>9993</th>\n",
              "      <td>809993</td>\n",
              "      <td>Medium</td>\n",
              "      <td>Control</td>\n",
              "      <td>5</td>\n",
              "      <td>5</td>\n",
              "      <td>0</td>\n",
              "    </tr>\n",
              "    <tr>\n",
              "      <th>9995</th>\n",
              "      <td>809995</td>\n",
              "      <td>High</td>\n",
              "      <td>Control</td>\n",
              "      <td>8</td>\n",
              "      <td>9</td>\n",
              "      <td>1</td>\n",
              "    </tr>\n",
              "    <tr>\n",
              "      <th>9997</th>\n",
              "      <td>809997</td>\n",
              "      <td>Medium</td>\n",
              "      <td>Control</td>\n",
              "      <td>4</td>\n",
              "      <td>6</td>\n",
              "      <td>2</td>\n",
              "    </tr>\n",
              "  </tbody>\n",
              "</table>\n",
              "<p>4999 rows × 6 columns</p>\n",
              "</div>"
            ],
            "text/plain": [
              "      Passenger ID Passenger Group  ... Trips August  Difference after test\n",
              "1           800001             Low  ...            1                      1\n",
              "3           800003          Medium  ...            4                     -1\n",
              "5           800005          Medium  ...            5                     -1\n",
              "7           800007          Medium  ...            7                      3\n",
              "9           800009          Medium  ...            8                      4\n",
              "...            ...             ...  ...          ...                    ...\n",
              "9989        809989          Medium  ...            8                      4\n",
              "9991        809991          Medium  ...            5                      1\n",
              "9993        809993          Medium  ...            5                      0\n",
              "9995        809995            High  ...            9                      1\n",
              "9997        809997          Medium  ...            6                      2\n",
              "\n",
              "[4999 rows x 6 columns]"
            ]
          },
          "execution_count": null,
          "metadata": {},
          "output_type": "execute_result"
        }
      ]
    },
    {
      "cell_type": "code",
      "metadata": {
        "id": "rxbK38SOjSSR"
      },
      "source": [
        "df_program_worked_v2 = df_control.groupby([\"Worked\"]).count()"
      ],
      "execution_count": null,
      "outputs": []
    },
    {
      "cell_type": "code",
      "metadata": {
        "colab": {
          "base_uri": "https://localhost:8080/",
          "height": 142
        },
        "id": "-phtKWiSjWQ2",
        "outputId": "f5a38ace-f1d9-40a8-8615-47a342b87725"
      },
      "source": [
        "df_program_worked_v2"
      ],
      "execution_count": null,
      "outputs": [
        {
          "data": {
            "text/html": [
              "<div>\n",
              "<style scoped>\n",
              "    .dataframe tbody tr th:only-of-type {\n",
              "        vertical-align: middle;\n",
              "    }\n",
              "\n",
              "    .dataframe tbody tr th {\n",
              "        vertical-align: top;\n",
              "    }\n",
              "\n",
              "    .dataframe thead th {\n",
              "        text-align: right;\n",
              "    }\n",
              "</style>\n",
              "<table border=\"1\" class=\"dataframe\">\n",
              "  <thead>\n",
              "    <tr style=\"text-align: right;\">\n",
              "      <th></th>\n",
              "      <th>Passenger ID</th>\n",
              "      <th>Passenger Group</th>\n",
              "      <th>Test group</th>\n",
              "      <th>Trips July</th>\n",
              "      <th>Trips August</th>\n",
              "      <th>Difference after test</th>\n",
              "    </tr>\n",
              "    <tr>\n",
              "      <th>Worked</th>\n",
              "      <th></th>\n",
              "      <th></th>\n",
              "      <th></th>\n",
              "      <th></th>\n",
              "      <th></th>\n",
              "      <th></th>\n",
              "    </tr>\n",
              "  </thead>\n",
              "  <tbody>\n",
              "    <tr>\n",
              "      <th>False</th>\n",
              "      <td>2230</td>\n",
              "      <td>2230</td>\n",
              "      <td>2230</td>\n",
              "      <td>2230</td>\n",
              "      <td>2230</td>\n",
              "      <td>2230</td>\n",
              "    </tr>\n",
              "    <tr>\n",
              "      <th>True</th>\n",
              "      <td>2769</td>\n",
              "      <td>2769</td>\n",
              "      <td>2769</td>\n",
              "      <td>2769</td>\n",
              "      <td>2769</td>\n",
              "      <td>2769</td>\n",
              "    </tr>\n",
              "  </tbody>\n",
              "</table>\n",
              "</div>"
            ],
            "text/plain": [
              "        Passenger ID  Passenger Group  ...  Trips August  Difference after test\n",
              "Worked                                 ...                                     \n",
              "False           2230             2230  ...          2230                   2230\n",
              "True            2769             2769  ...          2769                   2769\n",
              "\n",
              "[2 rows x 6 columns]"
            ]
          },
          "execution_count": 65,
          "metadata": {},
          "output_type": "execute_result"
        }
      ]
    },
    {
      "cell_type": "code",
      "metadata": {
        "id": "BPN0ovLGjbXe"
      },
      "source": [
        "df_program_worked_v2.drop([\"Passenger ID\",\t\"Passenger Group\",\t\"Test group\",\"Trips July\",\t\"Difference after test\"],axis = 1,inplace=True)"
      ],
      "execution_count": null,
      "outputs": []
    },
    {
      "cell_type": "code",
      "metadata": {
        "id": "gS2LMc2hjf1f"
      },
      "source": [
        "df_program_worked_v2.rename(columns={\"Trips August\":\"Success cases\"},inplace=True)"
      ],
      "execution_count": null,
      "outputs": []
    },
    {
      "cell_type": "code",
      "metadata": {
        "colab": {
          "base_uri": "https://localhost:8080/",
          "height": 142
        },
        "id": "F_W251Q5nKck",
        "outputId": "cda3977c-94c5-4fc3-868e-7d22960455fa"
      },
      "source": [
        "df_program_worked_v2"
      ],
      "execution_count": null,
      "outputs": [
        {
          "data": {
            "text/html": [
              "<div>\n",
              "<style scoped>\n",
              "    .dataframe tbody tr th:only-of-type {\n",
              "        vertical-align: middle;\n",
              "    }\n",
              "\n",
              "    .dataframe tbody tr th {\n",
              "        vertical-align: top;\n",
              "    }\n",
              "\n",
              "    .dataframe thead th {\n",
              "        text-align: right;\n",
              "    }\n",
              "</style>\n",
              "<table border=\"1\" class=\"dataframe\">\n",
              "  <thead>\n",
              "    <tr style=\"text-align: right;\">\n",
              "      <th></th>\n",
              "      <th>Success cases</th>\n",
              "    </tr>\n",
              "    <tr>\n",
              "      <th>Worked</th>\n",
              "      <th></th>\n",
              "    </tr>\n",
              "  </thead>\n",
              "  <tbody>\n",
              "    <tr>\n",
              "      <th>False</th>\n",
              "      <td>2230</td>\n",
              "    </tr>\n",
              "    <tr>\n",
              "      <th>True</th>\n",
              "      <td>2769</td>\n",
              "    </tr>\n",
              "  </tbody>\n",
              "</table>\n",
              "</div>"
            ],
            "text/plain": [
              "        Success cases\n",
              "Worked               \n",
              "False            2230\n",
              "True             2769"
            ]
          },
          "execution_count": 115,
          "metadata": {},
          "output_type": "execute_result"
        }
      ]
    },
    {
      "cell_type": "code",
      "metadata": {
        "colab": {
          "base_uri": "https://localhost:8080/",
          "height": 248
        },
        "id": "k8UifBUmjl6t",
        "outputId": "fcddf7d3-a7fc-4462-f529-66b6d274de05"
      },
      "source": [
        "labels = ['Didn´t Worked', 'Worked']\n",
        "#define Seaborn color palette to use\n",
        "colors = sns.color_palette('pastel')[0:3]\n",
        "\n",
        "#create pie chart\n",
        "plt.pie(df_program_worked_v2[\"Success cases\"], labels = labels , colors = colors, autopct='%.0f%%')\n",
        "plt.show()"
      ],
      "execution_count": null,
      "outputs": [
        {
          "data": {
            "image/png": "[encoded data removed]",
            "text/plain": [
              "<Figure size 432x288 with 1 Axes>"
            ]
          },
          "metadata": {},
          "output_type": "display_data"
        }
      ]
    },
    {
      "cell_type": "code",
      "metadata": {
        "colab": {
          "base_uri": "https://localhost:8080/",
          "height": 297
        },
        "id": "7Vw3yHeQkTf2",
        "outputId": "e7410d6d-4432-4d3a-c620-1416668e4c2d"
      },
      "source": [
        "#colors\n",
        "colors = ['#99ff99','#ffcc99']\n",
        "\n",
        " \n",
        "fig1, ax1 = plt.subplots()\n",
        "ax1.pie(df_program_worked_v2[\"Success cases\"], colors = colors, labels=labels, autopct='%1.1f%%', startangle=90)\n",
        "#draw circle\n",
        "centre_circle = plt.Circle((0,0),0.70,fc='white')\n",
        "fig = plt.gcf()\n",
        "fig.gca().add_artist(centre_circle)\n",
        "# Equal aspect ratio ensures that pie is drawn as a circle\n",
        "ax1.axis('equal')  \n",
        "plt.tight_layout()\n",
        "plt.show()"
      ],
      "execution_count": null,
      "outputs": [
        {
          "data": {
            "image/png": "[encoded data removed]",
            "text/plain": [
              "<Figure size 432x288 with 1 Axes>"
            ]
          },
          "metadata": {},
          "output_type": "display_data"
        }
      ]
    },
    {
      "cell_type": "code",
      "metadata": {
        "id": "Tx4Go0H2iMCe"
      },
      "source": [
        "# Tabla de contingencia class / survived\n",
        "df_relation = pd.crosstab(index=df_loyalty[\"Worked\"],columns=df_loyalty[\"Passenger Group\"], margins=True)"
      ],
      "execution_count": null,
      "outputs": []
    },
    {
      "cell_type": "code",
      "metadata": {
        "colab": {
          "base_uri": "https://localhost:8080/",
          "height": 110
        },
        "id": "wUYLt6jBl-FC",
        "outputId": "8b829f0c-deab-4eba-94d6-7775e43772bc"
      },
      "source": [
        "df_program_worked"
      ],
      "execution_count": null,
      "outputs": [
        {
          "data": {
            "text/html": [
              "<div>\n",
              "<style scoped>\n",
              "    .dataframe tbody tr th:only-of-type {\n",
              "        vertical-align: middle;\n",
              "    }\n",
              "\n",
              "    .dataframe tbody tr th {\n",
              "        vertical-align: top;\n",
              "    }\n",
              "\n",
              "    .dataframe thead th {\n",
              "        text-align: right;\n",
              "    }\n",
              "</style>\n",
              "<table border=\"1\" class=\"dataframe\">\n",
              "  <thead>\n",
              "    <tr style=\"text-align: right;\">\n",
              "      <th></th>\n",
              "      <th>Worked</th>\n",
              "      <th>Success cases</th>\n",
              "    </tr>\n",
              "  </thead>\n",
              "  <tbody>\n",
              "    <tr>\n",
              "      <th>0</th>\n",
              "      <td>False</td>\n",
              "      <td>2079</td>\n",
              "    </tr>\n",
              "    <tr>\n",
              "      <th>1</th>\n",
              "      <td>True</td>\n",
              "      <td>2921</td>\n",
              "    </tr>\n",
              "  </tbody>\n",
              "</table>\n",
              "</div>"
            ],
            "text/plain": [
              "  Worked  Success cases\n",
              "0  False           2079\n",
              "1   True           2921"
            ]
          },
          "execution_count": 119,
          "metadata": {},
          "output_type": "execute_result"
        }
      ]
    },
    {
      "cell_type": "code",
      "metadata": {
        "colab": {
          "base_uri": "https://localhost:8080/",
          "height": 172
        },
        "id": "N1PS-llCoHLu",
        "outputId": "1d87d934-1830-4027-efd1-1ed655356df4"
      },
      "source": [
        "df_relation"
      ],
      "execution_count": null,
      "outputs": [
        {
          "data": {
            "text/html": [
              "<div>\n",
              "<style scoped>\n",
              "    .dataframe tbody tr th:only-of-type {\n",
              "        vertical-align: middle;\n",
              "    }\n",
              "\n",
              "    .dataframe tbody tr th {\n",
              "        vertical-align: top;\n",
              "    }\n",
              "\n",
              "    .dataframe thead th {\n",
              "        text-align: right;\n",
              "    }\n",
              "</style>\n",
              "<table border=\"1\" class=\"dataframe\">\n",
              "  <thead>\n",
              "    <tr style=\"text-align: right;\">\n",
              "      <th>Passenger Group</th>\n",
              "      <th>High</th>\n",
              "      <th>Low</th>\n",
              "      <th>Medium</th>\n",
              "      <th>All</th>\n",
              "    </tr>\n",
              "    <tr>\n",
              "      <th>Worked</th>\n",
              "      <th></th>\n",
              "      <th></th>\n",
              "      <th></th>\n",
              "      <th></th>\n",
              "    </tr>\n",
              "  </thead>\n",
              "  <tbody>\n",
              "    <tr>\n",
              "      <th>False</th>\n",
              "      <td>283</td>\n",
              "      <td>991</td>\n",
              "      <td>805</td>\n",
              "      <td>2079</td>\n",
              "    </tr>\n",
              "    <tr>\n",
              "      <th>True</th>\n",
              "      <td>366</td>\n",
              "      <td>992</td>\n",
              "      <td>1563</td>\n",
              "      <td>2921</td>\n",
              "    </tr>\n",
              "    <tr>\n",
              "      <th>All</th>\n",
              "      <td>649</td>\n",
              "      <td>1983</td>\n",
              "      <td>2368</td>\n",
              "      <td>5000</td>\n",
              "    </tr>\n",
              "  </tbody>\n",
              "</table>\n",
              "</div>"
            ],
            "text/plain": [
              "Passenger Group  High   Low  Medium   All\n",
              "Worked                                   \n",
              "False             283   991     805  2079\n",
              "True              366   992    1563  2921\n",
              "All               649  1983    2368  5000"
            ]
          },
          "execution_count": 120,
          "metadata": {},
          "output_type": "execute_result"
        }
      ]
    },
    {
      "cell_type": "code",
      "metadata": {
        "colab": {
          "base_uri": "https://localhost:8080/",
          "height": 312
        },
        "id": "Sl7yETPZmF0c",
        "outputId": "e4c7e38b-d76f-4bb7-dd00-e42eb61e7960"
      },
      "source": [
        "df_relation.plot(kind='bar')"
      ],
      "execution_count": null,
      "outputs": [
        {
          "data": {
            "text/plain": [
              "<matplotlib.axes._subplots.AxesSubplot at 0x7fa803137750>"
            ]
          },
          "execution_count": 122,
          "metadata": {},
          "output_type": "execute_result"
        },
        {
          "data": {
            "image/png": "[encoded data removed]",
            "text/plain": [
              "<Figure size 432x288 with 1 Axes>"
            ]
          },
          "metadata": {},
          "output_type": "display_data"
        }
      ]
    },
    {
      "cell_type": "code",
      "metadata": {
        "colab": {
          "base_uri": "https://localhost:8080/",
          "height": 312
        },
        "id": "0fHQXJN5pWD0",
        "outputId": "06e2bafa-d800-4a82-b11a-8b29d989c056"
      },
      "source": [
        "# Tabla de contingencia class / survived\n",
        "df_relation_control = pd.crosstab(index=df_control[\"Worked\"],columns=df_control[\"Passenger Group\"], margins=True)\n",
        "df_relation_control.plot(kind='bar')"
      ],
      "execution_count": null,
      "outputs": [
        {
          "data": {
            "text/plain": [
              "<matplotlib.axes._subplots.AxesSubplot at 0x7fa80808b150>"
            ]
          },
          "execution_count": 123,
          "metadata": {},
          "output_type": "execute_result"
        },
        {
          "data": {
            "image/png": "[encoded data removed]",
            "text/plain": [
              "<Figure size 432x288 with 1 Axes>"
            ]
          },
          "metadata": {},
          "output_type": "display_data"
        }
      ]
    },
    {
      "cell_type": "code",
      "metadata": {
        "colab": {
          "base_uri": "https://localhost:8080/",
          "height": 172
        },
        "id": "Z4oZKRi8pjPu",
        "outputId": "04c77938-4e92-4782-8891-056093d3a873"
      },
      "source": [
        "df_relation_control"
      ],
      "execution_count": null,
      "outputs": [
        {
          "data": {
            "text/html": [
              "<div>\n",
              "<style scoped>\n",
              "    .dataframe tbody tr th:only-of-type {\n",
              "        vertical-align: middle;\n",
              "    }\n",
              "\n",
              "    .dataframe tbody tr th {\n",
              "        vertical-align: top;\n",
              "    }\n",
              "\n",
              "    .dataframe thead th {\n",
              "        text-align: right;\n",
              "    }\n",
              "</style>\n",
              "<table border=\"1\" class=\"dataframe\">\n",
              "  <thead>\n",
              "    <tr style=\"text-align: right;\">\n",
              "      <th>Passenger Group</th>\n",
              "      <th>High</th>\n",
              "      <th>Low</th>\n",
              "      <th>Medium</th>\n",
              "      <th>All</th>\n",
              "    </tr>\n",
              "    <tr>\n",
              "      <th>Worked</th>\n",
              "      <th></th>\n",
              "      <th></th>\n",
              "      <th></th>\n",
              "      <th></th>\n",
              "    </tr>\n",
              "  </thead>\n",
              "  <tbody>\n",
              "    <tr>\n",
              "      <th>False</th>\n",
              "      <td>266</td>\n",
              "      <td>985</td>\n",
              "      <td>979</td>\n",
              "      <td>2230</td>\n",
              "    </tr>\n",
              "    <tr>\n",
              "      <th>True</th>\n",
              "      <td>368</td>\n",
              "      <td>949</td>\n",
              "      <td>1452</td>\n",
              "      <td>2769</td>\n",
              "    </tr>\n",
              "    <tr>\n",
              "      <th>All</th>\n",
              "      <td>634</td>\n",
              "      <td>1934</td>\n",
              "      <td>2431</td>\n",
              "      <td>4999</td>\n",
              "    </tr>\n",
              "  </tbody>\n",
              "</table>\n",
              "</div>"
            ],
            "text/plain": [
              "Passenger Group  High   Low  Medium   All\n",
              "Worked                                   \n",
              "False             266   985     979  2230\n",
              "True              368   949    1452  2769\n",
              "All               634  1934    2431  4999"
            ]
          },
          "execution_count": 124,
          "metadata": {},
          "output_type": "execute_result"
        }
      ]
    },
    {
      "cell_type": "markdown",
      "metadata": {
        "id": "s1Zl7xtj603N"
      },
      "source": [
        "Problema 3"
      ]
    },
    {
      "cell_type": "markdown",
      "metadata": {
        "id": "njjbhrdI653n"
      },
      "source": [
        "Se comenzó por descartar datos que fuesen inútiles de acuerdo al análisis que se planteó. Este tuvo como base observar la cantidad de horas en las que los conductores estaban disponibles y los viajes que fuesen cancelados."
      ]
    },
    {
      "cell_type": "code",
      "metadata": {
        "id": "-33W_uCP5D1A"
      },
      "source": [
        "pathMS = 'https://raw.githubusercontent.com/Kheri-C/ML/main/Market_Supply5.csv'\n",
        "df_marketSupply = pd.read_csv(pathMS)"
      ],
      "execution_count": null,
      "outputs": []
    },
    {
      "cell_type": "code",
      "metadata": {
        "id": "7Mv8JVBVqFzK"
      },
      "source": [
        "df_marketSupply= pd.read_excel('/content/sample_data/datos_modificados_Didi.xlsx', sheet_name='Market supply')"
      ],
      "execution_count": null,
      "outputs": []
    },
    {
      "cell_type": "code",
      "metadata": {
        "colab": {
          "base_uri": "https://localhost:8080/",
          "height": 417
        },
        "id": "LlzcrfU6qhaL",
        "outputId": "4963ad1e-3225-43d1-fc34-cecb593cc946"
      },
      "source": [
        "df_marketSupply"
      ],
      "execution_count": null,
      "outputs": [
        {
          "data": {
            "text/html": [
              "<div>\n",
              "<style scoped>\n",
              "    .dataframe tbody tr th:only-of-type {\n",
              "        vertical-align: middle;\n",
              "    }\n",
              "\n",
              "    .dataframe tbody tr th {\n",
              "        vertical-align: top;\n",
              "    }\n",
              "\n",
              "    .dataframe thead th {\n",
              "        text-align: right;\n",
              "    }\n",
              "</style>\n",
              "<table border=\"1\" class=\"dataframe\">\n",
              "  <thead>\n",
              "    <tr style=\"text-align: right;\">\n",
              "      <th></th>\n",
              "      <th>Date</th>\n",
              "      <th>Hour</th>\n",
              "      <th>Driver ID</th>\n",
              "      <th>Driver name</th>\n",
              "      <th>Online time</th>\n",
              "      <th>Charge time</th>\n",
              "      <th>Calls received</th>\n",
              "      <th>Trips completed</th>\n",
              "    </tr>\n",
              "  </thead>\n",
              "  <tbody>\n",
              "    <tr>\n",
              "      <th>0</th>\n",
              "      <td>2019-04-15</td>\n",
              "      <td>10</td>\n",
              "      <td>650910888245286</td>\n",
              "      <td>Arturo</td>\n",
              "      <td>0.8</td>\n",
              "      <td>0.5</td>\n",
              "      <td>2.0</td>\n",
              "      <td>1.0</td>\n",
              "    </tr>\n",
              "    <tr>\n",
              "      <th>1</th>\n",
              "      <td>2019-04-15</td>\n",
              "      <td>10</td>\n",
              "      <td>650910888745648</td>\n",
              "      <td>Antonio</td>\n",
              "      <td>0.2</td>\n",
              "      <td>0.2</td>\n",
              "      <td>NaN</td>\n",
              "      <td>NaN</td>\n",
              "    </tr>\n",
              "    <tr>\n",
              "      <th>2</th>\n",
              "      <td>2019-04-15</td>\n",
              "      <td>6</td>\n",
              "      <td>650910888008337</td>\n",
              "      <td>Sergio</td>\n",
              "      <td>0.8</td>\n",
              "      <td>0.7</td>\n",
              "      <td>3.0</td>\n",
              "      <td>2.0</td>\n",
              "    </tr>\n",
              "    <tr>\n",
              "      <th>3</th>\n",
              "      <td>2019-04-15</td>\n",
              "      <td>17</td>\n",
              "      <td>650910886407988</td>\n",
              "      <td>OMAR</td>\n",
              "      <td>0.9</td>\n",
              "      <td>0.5</td>\n",
              "      <td>5.0</td>\n",
              "      <td>5.0</td>\n",
              "    </tr>\n",
              "    <tr>\n",
              "      <th>4</th>\n",
              "      <td>2019-04-15</td>\n",
              "      <td>10</td>\n",
              "      <td>650910887867900</td>\n",
              "      <td>Edgar</td>\n",
              "      <td>0.0</td>\n",
              "      <td>NaN</td>\n",
              "      <td>NaN</td>\n",
              "      <td>NaN</td>\n",
              "    </tr>\n",
              "    <tr>\n",
              "      <th>...</th>\n",
              "      <td>...</td>\n",
              "      <td>...</td>\n",
              "      <td>...</td>\n",
              "      <td>...</td>\n",
              "      <td>...</td>\n",
              "      <td>...</td>\n",
              "      <td>...</td>\n",
              "      <td>...</td>\n",
              "    </tr>\n",
              "    <tr>\n",
              "      <th>316565</th>\n",
              "      <td>2019-04-21</td>\n",
              "      <td>0</td>\n",
              "      <td>650910886334474</td>\n",
              "      <td>Juan</td>\n",
              "      <td>0.0</td>\n",
              "      <td>0.0</td>\n",
              "      <td>1.0</td>\n",
              "      <td>1.0</td>\n",
              "    </tr>\n",
              "    <tr>\n",
              "      <th>316566</th>\n",
              "      <td>2019-04-21</td>\n",
              "      <td>5</td>\n",
              "      <td>650910886291081</td>\n",
              "      <td>Mario</td>\n",
              "      <td>0.6</td>\n",
              "      <td>0.7</td>\n",
              "      <td>3.0</td>\n",
              "      <td>2.0</td>\n",
              "    </tr>\n",
              "    <tr>\n",
              "      <th>316567</th>\n",
              "      <td>2019-04-21</td>\n",
              "      <td>3</td>\n",
              "      <td>650910888390523</td>\n",
              "      <td>Maribel</td>\n",
              "      <td>0.8</td>\n",
              "      <td>0.4</td>\n",
              "      <td>3.0</td>\n",
              "      <td>2.0</td>\n",
              "    </tr>\n",
              "    <tr>\n",
              "      <th>316568</th>\n",
              "      <td>2019-04-21</td>\n",
              "      <td>16</td>\n",
              "      <td>650910887425087</td>\n",
              "      <td>Edgar</td>\n",
              "      <td>0.8</td>\n",
              "      <td>0.3</td>\n",
              "      <td>4.0</td>\n",
              "      <td>4.0</td>\n",
              "    </tr>\n",
              "    <tr>\n",
              "      <th>316569</th>\n",
              "      <td>2019-04-21</td>\n",
              "      <td>10</td>\n",
              "      <td>650910892058747</td>\n",
              "      <td>Yeshua</td>\n",
              "      <td>0.3</td>\n",
              "      <td>0.2</td>\n",
              "      <td>1.0</td>\n",
              "      <td>1.0</td>\n",
              "    </tr>\n",
              "  </tbody>\n",
              "</table>\n",
              "<p>316570 rows × 8 columns</p>\n",
              "</div>"
            ],
            "text/plain": [
              "             Date  Hour  ...  Calls received Trips completed\n",
              "0      2019-04-15    10  ...             2.0             1.0\n",
              "1      2019-04-15    10  ...             NaN             NaN\n",
              "2      2019-04-15     6  ...             3.0             2.0\n",
              "3      2019-04-15    17  ...             5.0             5.0\n",
              "4      2019-04-15    10  ...             NaN             NaN\n",
              "...           ...   ...  ...             ...             ...\n",
              "316565 2019-04-21     0  ...             1.0             1.0\n",
              "316566 2019-04-21     5  ...             3.0             2.0\n",
              "316567 2019-04-21     3  ...             3.0             2.0\n",
              "316568 2019-04-21    16  ...             4.0             4.0\n",
              "316569 2019-04-21    10  ...             1.0             1.0\n",
              "\n",
              "[316570 rows x 8 columns]"
            ]
          },
          "execution_count": 4,
          "metadata": {},
          "output_type": "execute_result"
        }
      ]
    },
    {
      "cell_type": "code",
      "metadata": {
        "colab": {
          "base_uri": "https://localhost:8080/",
          "height": 417
        },
        "id": "Ub4QooNmNjZG",
        "outputId": "bfeea5ae-9f40-4875-ee77-ac4f3abb0fbb"
      },
      "source": [
        "df_marketSupply['dayOfWeek'] = df_marketSupply['Date'].dt.day_name()\n",
        "df_marketSupply"
      ],
      "execution_count": null,
      "outputs": [
        {
          "data": {
            "text/html": [
              "<div>\n",
              "<style scoped>\n",
              "    .dataframe tbody tr th:only-of-type {\n",
              "        vertical-align: middle;\n",
              "    }\n",
              "\n",
              "    .dataframe tbody tr th {\n",
              "        vertical-align: top;\n",
              "    }\n",
              "\n",
              "    .dataframe thead th {\n",
              "        text-align: right;\n",
              "    }\n",
              "</style>\n",
              "<table border=\"1\" class=\"dataframe\">\n",
              "  <thead>\n",
              "    <tr style=\"text-align: right;\">\n",
              "      <th></th>\n",
              "      <th>Date</th>\n",
              "      <th>Hour</th>\n",
              "      <th>Driver ID</th>\n",
              "      <th>Driver name</th>\n",
              "      <th>Online time</th>\n",
              "      <th>Charge time</th>\n",
              "      <th>Calls received</th>\n",
              "      <th>Trips completed</th>\n",
              "      <th>dayOfWeek</th>\n",
              "    </tr>\n",
              "  </thead>\n",
              "  <tbody>\n",
              "    <tr>\n",
              "      <th>0</th>\n",
              "      <td>2019-04-15</td>\n",
              "      <td>10</td>\n",
              "      <td>650910888245286</td>\n",
              "      <td>Arturo</td>\n",
              "      <td>0.8</td>\n",
              "      <td>0.5</td>\n",
              "      <td>2.0</td>\n",
              "      <td>1.0</td>\n",
              "      <td>Monday</td>\n",
              "    </tr>\n",
              "    <tr>\n",
              "      <th>1</th>\n",
              "      <td>2019-04-15</td>\n",
              "      <td>10</td>\n",
              "      <td>650910888745648</td>\n",
              "      <td>Antonio</td>\n",
              "      <td>0.2</td>\n",
              "      <td>0.2</td>\n",
              "      <td>NaN</td>\n",
              "      <td>NaN</td>\n",
              "      <td>Monday</td>\n",
              "    </tr>\n",
              "    <tr>\n",
              "      <th>2</th>\n",
              "      <td>2019-04-15</td>\n",
              "      <td>6</td>\n",
              "      <td>650910888008337</td>\n",
              "      <td>Sergio</td>\n",
              "      <td>0.8</td>\n",
              "      <td>0.7</td>\n",
              "      <td>3.0</td>\n",
              "      <td>2.0</td>\n",
              "      <td>Monday</td>\n",
              "    </tr>\n",
              "    <tr>\n",
              "      <th>3</th>\n",
              "      <td>2019-04-15</td>\n",
              "      <td>17</td>\n",
              "      <td>650910886407988</td>\n",
              "      <td>OMAR</td>\n",
              "      <td>0.9</td>\n",
              "      <td>0.5</td>\n",
              "      <td>5.0</td>\n",
              "      <td>5.0</td>\n",
              "      <td>Monday</td>\n",
              "    </tr>\n",
              "    <tr>\n",
              "      <th>4</th>\n",
              "      <td>2019-04-15</td>\n",
              "      <td>10</td>\n",
              "      <td>650910887867900</td>\n",
              "      <td>Edgar</td>\n",
              "      <td>0.0</td>\n",
              "      <td>NaN</td>\n",
              "      <td>NaN</td>\n",
              "      <td>NaN</td>\n",
              "      <td>Monday</td>\n",
              "    </tr>\n",
              "    <tr>\n",
              "      <th>...</th>\n",
              "      <td>...</td>\n",
              "      <td>...</td>\n",
              "      <td>...</td>\n",
              "      <td>...</td>\n",
              "      <td>...</td>\n",
              "      <td>...</td>\n",
              "      <td>...</td>\n",
              "      <td>...</td>\n",
              "      <td>...</td>\n",
              "    </tr>\n",
              "    <tr>\n",
              "      <th>316565</th>\n",
              "      <td>2019-04-21</td>\n",
              "      <td>0</td>\n",
              "      <td>650910886334474</td>\n",
              "      <td>Juan</td>\n",
              "      <td>0.0</td>\n",
              "      <td>0.0</td>\n",
              "      <td>1.0</td>\n",
              "      <td>1.0</td>\n",
              "      <td>Sunday</td>\n",
              "    </tr>\n",
              "    <tr>\n",
              "      <th>316566</th>\n",
              "      <td>2019-04-21</td>\n",
              "      <td>5</td>\n",
              "      <td>650910886291081</td>\n",
              "      <td>Mario</td>\n",
              "      <td>0.6</td>\n",
              "      <td>0.7</td>\n",
              "      <td>3.0</td>\n",
              "      <td>2.0</td>\n",
              "      <td>Sunday</td>\n",
              "    </tr>\n",
              "    <tr>\n",
              "      <th>316567</th>\n",
              "      <td>2019-04-21</td>\n",
              "      <td>3</td>\n",
              "      <td>650910888390523</td>\n",
              "      <td>Maribel</td>\n",
              "      <td>0.8</td>\n",
              "      <td>0.4</td>\n",
              "      <td>3.0</td>\n",
              "      <td>2.0</td>\n",
              "      <td>Sunday</td>\n",
              "    </tr>\n",
              "    <tr>\n",
              "      <th>316568</th>\n",
              "      <td>2019-04-21</td>\n",
              "      <td>16</td>\n",
              "      <td>650910887425087</td>\n",
              "      <td>Edgar</td>\n",
              "      <td>0.8</td>\n",
              "      <td>0.3</td>\n",
              "      <td>4.0</td>\n",
              "      <td>4.0</td>\n",
              "      <td>Sunday</td>\n",
              "    </tr>\n",
              "    <tr>\n",
              "      <th>316569</th>\n",
              "      <td>2019-04-21</td>\n",
              "      <td>10</td>\n",
              "      <td>650910892058747</td>\n",
              "      <td>Yeshua</td>\n",
              "      <td>0.3</td>\n",
              "      <td>0.2</td>\n",
              "      <td>1.0</td>\n",
              "      <td>1.0</td>\n",
              "      <td>Sunday</td>\n",
              "    </tr>\n",
              "  </tbody>\n",
              "</table>\n",
              "<p>316570 rows × 9 columns</p>\n",
              "</div>"
            ],
            "text/plain": [
              "             Date  Hour  ...  Trips completed dayOfWeek\n",
              "0      2019-04-15    10  ...              1.0    Monday\n",
              "1      2019-04-15    10  ...              NaN    Monday\n",
              "2      2019-04-15     6  ...              2.0    Monday\n",
              "3      2019-04-15    17  ...              5.0    Monday\n",
              "4      2019-04-15    10  ...              NaN    Monday\n",
              "...           ...   ...  ...              ...       ...\n",
              "316565 2019-04-21     0  ...              1.0    Sunday\n",
              "316566 2019-04-21     5  ...              2.0    Sunday\n",
              "316567 2019-04-21     3  ...              2.0    Sunday\n",
              "316568 2019-04-21    16  ...              4.0    Sunday\n",
              "316569 2019-04-21    10  ...              1.0    Sunday\n",
              "\n",
              "[316570 rows x 9 columns]"
            ]
          },
          "execution_count": 5,
          "metadata": {},
          "output_type": "execute_result"
        }
      ]
    },
    {
      "cell_type": "code",
      "metadata": {
        "id": "uwqIXpkOUqIE"
      },
      "source": [
        "df_marketSupply.dropna(inplace=True)"
      ],
      "execution_count": null,
      "outputs": []
    },
    {
      "cell_type": "code",
      "metadata": {
        "id": "anBq4O9BPAzy"
      },
      "source": [
        "df_marketSupply_online = df_marketSupply.drop([\"Date\",\t\"Hour\",\t\"Driver ID\",\t\"Driver name\"], axis = 1)"
      ],
      "execution_count": null,
      "outputs": []
    },
    {
      "cell_type": "code",
      "metadata": {
        "colab": {
          "base_uri": "https://localhost:8080/",
          "height": 417
        },
        "id": "6rnPlhbFQTX8",
        "outputId": "284e61cc-cdc5-45f5-83f7-06da397715f7"
      },
      "source": [
        "df_marketSupply_online"
      ],
      "execution_count": null,
      "outputs": [
        {
          "data": {
            "text/html": [
              "<div>\n",
              "<style scoped>\n",
              "    .dataframe tbody tr th:only-of-type {\n",
              "        vertical-align: middle;\n",
              "    }\n",
              "\n",
              "    .dataframe tbody tr th {\n",
              "        vertical-align: top;\n",
              "    }\n",
              "\n",
              "    .dataframe thead th {\n",
              "        text-align: right;\n",
              "    }\n",
              "</style>\n",
              "<table border=\"1\" class=\"dataframe\">\n",
              "  <thead>\n",
              "    <tr style=\"text-align: right;\">\n",
              "      <th></th>\n",
              "      <th>Online time</th>\n",
              "      <th>Charge time</th>\n",
              "      <th>Calls received</th>\n",
              "      <th>Trips completed</th>\n",
              "      <th>dayOfWeek</th>\n",
              "    </tr>\n",
              "  </thead>\n",
              "  <tbody>\n",
              "    <tr>\n",
              "      <th>0</th>\n",
              "      <td>0.8</td>\n",
              "      <td>0.5</td>\n",
              "      <td>2.0</td>\n",
              "      <td>1.0</td>\n",
              "      <td>Monday</td>\n",
              "    </tr>\n",
              "    <tr>\n",
              "      <th>2</th>\n",
              "      <td>0.8</td>\n",
              "      <td>0.7</td>\n",
              "      <td>3.0</td>\n",
              "      <td>2.0</td>\n",
              "      <td>Monday</td>\n",
              "    </tr>\n",
              "    <tr>\n",
              "      <th>3</th>\n",
              "      <td>0.9</td>\n",
              "      <td>0.5</td>\n",
              "      <td>5.0</td>\n",
              "      <td>5.0</td>\n",
              "      <td>Monday</td>\n",
              "    </tr>\n",
              "    <tr>\n",
              "      <th>5</th>\n",
              "      <td>1.0</td>\n",
              "      <td>0.5</td>\n",
              "      <td>2.0</td>\n",
              "      <td>0.0</td>\n",
              "      <td>Monday</td>\n",
              "    </tr>\n",
              "    <tr>\n",
              "      <th>6</th>\n",
              "      <td>1.0</td>\n",
              "      <td>0.6</td>\n",
              "      <td>5.0</td>\n",
              "      <td>1.0</td>\n",
              "      <td>Monday</td>\n",
              "    </tr>\n",
              "    <tr>\n",
              "      <th>...</th>\n",
              "      <td>...</td>\n",
              "      <td>...</td>\n",
              "      <td>...</td>\n",
              "      <td>...</td>\n",
              "      <td>...</td>\n",
              "    </tr>\n",
              "    <tr>\n",
              "      <th>316565</th>\n",
              "      <td>0.0</td>\n",
              "      <td>0.0</td>\n",
              "      <td>1.0</td>\n",
              "      <td>1.0</td>\n",
              "      <td>Sunday</td>\n",
              "    </tr>\n",
              "    <tr>\n",
              "      <th>316566</th>\n",
              "      <td>0.6</td>\n",
              "      <td>0.7</td>\n",
              "      <td>3.0</td>\n",
              "      <td>2.0</td>\n",
              "      <td>Sunday</td>\n",
              "    </tr>\n",
              "    <tr>\n",
              "      <th>316567</th>\n",
              "      <td>0.8</td>\n",
              "      <td>0.4</td>\n",
              "      <td>3.0</td>\n",
              "      <td>2.0</td>\n",
              "      <td>Sunday</td>\n",
              "    </tr>\n",
              "    <tr>\n",
              "      <th>316568</th>\n",
              "      <td>0.8</td>\n",
              "      <td>0.3</td>\n",
              "      <td>4.0</td>\n",
              "      <td>4.0</td>\n",
              "      <td>Sunday</td>\n",
              "    </tr>\n",
              "    <tr>\n",
              "      <th>316569</th>\n",
              "      <td>0.3</td>\n",
              "      <td>0.2</td>\n",
              "      <td>1.0</td>\n",
              "      <td>1.0</td>\n",
              "      <td>Sunday</td>\n",
              "    </tr>\n",
              "  </tbody>\n",
              "</table>\n",
              "<p>265494 rows × 5 columns</p>\n",
              "</div>"
            ],
            "text/plain": [
              "        Online time  Charge time  Calls received  Trips completed dayOfWeek\n",
              "0               0.8          0.5             2.0              1.0    Monday\n",
              "2               0.8          0.7             3.0              2.0    Monday\n",
              "3               0.9          0.5             5.0              5.0    Monday\n",
              "5               1.0          0.5             2.0              0.0    Monday\n",
              "6               1.0          0.6             5.0              1.0    Monday\n",
              "...             ...          ...             ...              ...       ...\n",
              "316565          0.0          0.0             1.0              1.0    Sunday\n",
              "316566          0.6          0.7             3.0              2.0    Sunday\n",
              "316567          0.8          0.4             3.0              2.0    Sunday\n",
              "316568          0.8          0.3             4.0              4.0    Sunday\n",
              "316569          0.3          0.2             1.0              1.0    Sunday\n",
              "\n",
              "[265494 rows x 5 columns]"
            ]
          },
          "execution_count": 10,
          "metadata": {},
          "output_type": "execute_result"
        }
      ]
    },
    {
      "cell_type": "code",
      "metadata": {
        "colab": {
          "base_uri": "https://localhost:8080/",
          "height": 265
        },
        "id": "gku9axd7SQaX",
        "outputId": "58dcda6d-9ded-46aa-88c4-27001a4f6771"
      },
      "source": [
        "df_marketSupply_online.groupby(\"dayOfWeek\").count().reset_index()"
      ],
      "execution_count": null,
      "outputs": [
        {
          "data": {
            "text/html": [
              "<div>\n",
              "<style scoped>\n",
              "    .dataframe tbody tr th:only-of-type {\n",
              "        vertical-align: middle;\n",
              "    }\n",
              "\n",
              "    .dataframe tbody tr th {\n",
              "        vertical-align: top;\n",
              "    }\n",
              "\n",
              "    .dataframe thead th {\n",
              "        text-align: right;\n",
              "    }\n",
              "</style>\n",
              "<table border=\"1\" class=\"dataframe\">\n",
              "  <thead>\n",
              "    <tr style=\"text-align: right;\">\n",
              "      <th></th>\n",
              "      <th>dayOfWeek</th>\n",
              "      <th>Online time</th>\n",
              "      <th>Charge time</th>\n",
              "      <th>Calls received</th>\n",
              "      <th>Trips completed</th>\n",
              "    </tr>\n",
              "  </thead>\n",
              "  <tbody>\n",
              "    <tr>\n",
              "      <th>0</th>\n",
              "      <td>Friday</td>\n",
              "      <td>44989</td>\n",
              "      <td>44989</td>\n",
              "      <td>44989</td>\n",
              "      <td>44989</td>\n",
              "    </tr>\n",
              "    <tr>\n",
              "      <th>1</th>\n",
              "      <td>Monday</td>\n",
              "      <td>33723</td>\n",
              "      <td>33723</td>\n",
              "      <td>33723</td>\n",
              "      <td>33723</td>\n",
              "    </tr>\n",
              "    <tr>\n",
              "      <th>2</th>\n",
              "      <td>Saturday</td>\n",
              "      <td>43015</td>\n",
              "      <td>43015</td>\n",
              "      <td>43015</td>\n",
              "      <td>43015</td>\n",
              "    </tr>\n",
              "    <tr>\n",
              "      <th>3</th>\n",
              "      <td>Sunday</td>\n",
              "      <td>30017</td>\n",
              "      <td>30017</td>\n",
              "      <td>30017</td>\n",
              "      <td>30017</td>\n",
              "    </tr>\n",
              "    <tr>\n",
              "      <th>4</th>\n",
              "      <td>Thursday</td>\n",
              "      <td>39918</td>\n",
              "      <td>39918</td>\n",
              "      <td>39918</td>\n",
              "      <td>39918</td>\n",
              "    </tr>\n",
              "    <tr>\n",
              "      <th>5</th>\n",
              "      <td>Tuesday</td>\n",
              "      <td>36113</td>\n",
              "      <td>36113</td>\n",
              "      <td>36113</td>\n",
              "      <td>36113</td>\n",
              "    </tr>\n",
              "    <tr>\n",
              "      <th>6</th>\n",
              "      <td>Wednesday</td>\n",
              "      <td>37719</td>\n",
              "      <td>37719</td>\n",
              "      <td>37719</td>\n",
              "      <td>37719</td>\n",
              "    </tr>\n",
              "  </tbody>\n",
              "</table>\n",
              "</div>"
            ],
            "text/plain": [
              "   dayOfWeek  Online time  Charge time  Calls received  Trips completed\n",
              "0     Friday        44989        44989           44989            44989\n",
              "1     Monday        33723        33723           33723            33723\n",
              "2   Saturday        43015        43015           43015            43015\n",
              "3     Sunday        30017        30017           30017            30017\n",
              "4   Thursday        39918        39918           39918            39918\n",
              "5    Tuesday        36113        36113           36113            36113\n",
              "6  Wednesday        37719        37719           37719            37719"
            ]
          },
          "execution_count": 11,
          "metadata": {},
          "output_type": "execute_result"
        }
      ]
    },
    {
      "cell_type": "code",
      "metadata": {
        "colab": {
          "base_uri": "https://localhost:8080/",
          "height": 265
        },
        "id": "VdDD5pfsSJhn",
        "outputId": "8958f79e-6df3-4acc-b953-6b03ab4f2d69"
      },
      "source": [
        "df_marketSupply_online.groupby(\"dayOfWeek\").sum().reset_index()"
      ],
      "execution_count": null,
      "outputs": [
        {
          "data": {
            "text/html": [
              "<div>\n",
              "<style scoped>\n",
              "    .dataframe tbody tr th:only-of-type {\n",
              "        vertical-align: middle;\n",
              "    }\n",
              "\n",
              "    .dataframe tbody tr th {\n",
              "        vertical-align: top;\n",
              "    }\n",
              "\n",
              "    .dataframe thead th {\n",
              "        text-align: right;\n",
              "    }\n",
              "</style>\n",
              "<table border=\"1\" class=\"dataframe\">\n",
              "  <thead>\n",
              "    <tr style=\"text-align: right;\">\n",
              "      <th></th>\n",
              "      <th>dayOfWeek</th>\n",
              "      <th>Online time</th>\n",
              "      <th>Charge time</th>\n",
              "      <th>Calls received</th>\n",
              "      <th>Trips completed</th>\n",
              "    </tr>\n",
              "  </thead>\n",
              "  <tbody>\n",
              "    <tr>\n",
              "      <th>0</th>\n",
              "      <td>Friday</td>\n",
              "      <td>32489.9</td>\n",
              "      <td>20301.5</td>\n",
              "      <td>115853.0</td>\n",
              "      <td>58032.0</td>\n",
              "    </tr>\n",
              "    <tr>\n",
              "      <th>1</th>\n",
              "      <td>Monday</td>\n",
              "      <td>23956.3</td>\n",
              "      <td>14193.9</td>\n",
              "      <td>82874.0</td>\n",
              "      <td>41433.0</td>\n",
              "    </tr>\n",
              "    <tr>\n",
              "      <th>2</th>\n",
              "      <td>Saturday</td>\n",
              "      <td>31262.9</td>\n",
              "      <td>19561.7</td>\n",
              "      <td>115178.0</td>\n",
              "      <td>57550.0</td>\n",
              "    </tr>\n",
              "    <tr>\n",
              "      <th>3</th>\n",
              "      <td>Sunday</td>\n",
              "      <td>21478.6</td>\n",
              "      <td>13162.2</td>\n",
              "      <td>87117.0</td>\n",
              "      <td>43358.0</td>\n",
              "    </tr>\n",
              "    <tr>\n",
              "      <th>4</th>\n",
              "      <td>Thursday</td>\n",
              "      <td>28420.0</td>\n",
              "      <td>16911.9</td>\n",
              "      <td>98487.0</td>\n",
              "      <td>49339.0</td>\n",
              "    </tr>\n",
              "    <tr>\n",
              "      <th>5</th>\n",
              "      <td>Tuesday</td>\n",
              "      <td>25797.2</td>\n",
              "      <td>15087.5</td>\n",
              "      <td>86947.0</td>\n",
              "      <td>43345.0</td>\n",
              "    </tr>\n",
              "    <tr>\n",
              "      <th>6</th>\n",
              "      <td>Wednesday</td>\n",
              "      <td>27023.8</td>\n",
              "      <td>15916.0</td>\n",
              "      <td>91154.0</td>\n",
              "      <td>45604.0</td>\n",
              "    </tr>\n",
              "  </tbody>\n",
              "</table>\n",
              "</div>"
            ],
            "text/plain": [
              "   dayOfWeek  Online time  Charge time  Calls received  Trips completed\n",
              "0     Friday      32489.9      20301.5        115853.0          58032.0\n",
              "1     Monday      23956.3      14193.9         82874.0          41433.0\n",
              "2   Saturday      31262.9      19561.7        115178.0          57550.0\n",
              "3     Sunday      21478.6      13162.2         87117.0          43358.0\n",
              "4   Thursday      28420.0      16911.9         98487.0          49339.0\n",
              "5    Tuesday      25797.2      15087.5         86947.0          43345.0\n",
              "6  Wednesday      27023.8      15916.0         91154.0          45604.0"
            ]
          },
          "execution_count": 12,
          "metadata": {},
          "output_type": "execute_result"
        }
      ]
    },
    {
      "cell_type": "code",
      "metadata": {
        "colab": {
          "base_uri": "https://localhost:8080/",
          "height": 265
        },
        "id": "zi8Vcy7SQWhR",
        "outputId": "2608353e-0875-45a8-f983-ffff58af577c"
      },
      "source": [
        "df_marketSupply_online.groupby(\"dayOfWeek\").mean().reset_index()"
      ],
      "execution_count": null,
      "outputs": [
        {
          "data": {
            "text/html": [
              "<div>\n",
              "<style scoped>\n",
              "    .dataframe tbody tr th:only-of-type {\n",
              "        vertical-align: middle;\n",
              "    }\n",
              "\n",
              "    .dataframe tbody tr th {\n",
              "        vertical-align: top;\n",
              "    }\n",
              "\n",
              "    .dataframe thead th {\n",
              "        text-align: right;\n",
              "    }\n",
              "</style>\n",
              "<table border=\"1\" class=\"dataframe\">\n",
              "  <thead>\n",
              "    <tr style=\"text-align: right;\">\n",
              "      <th></th>\n",
              "      <th>dayOfWeek</th>\n",
              "      <th>Online time</th>\n",
              "      <th>Charge time</th>\n",
              "      <th>Calls received</th>\n",
              "      <th>Trips completed</th>\n",
              "    </tr>\n",
              "  </thead>\n",
              "  <tbody>\n",
              "    <tr>\n",
              "      <th>0</th>\n",
              "      <td>Friday</td>\n",
              "      <td>0.722174</td>\n",
              "      <td>0.451255</td>\n",
              "      <td>2.575141</td>\n",
              "      <td>1.289915</td>\n",
              "    </tr>\n",
              "    <tr>\n",
              "      <th>1</th>\n",
              "      <td>Monday</td>\n",
              "      <td>0.710385</td>\n",
              "      <td>0.420897</td>\n",
              "      <td>2.457492</td>\n",
              "      <td>1.228627</td>\n",
              "    </tr>\n",
              "    <tr>\n",
              "      <th>2</th>\n",
              "      <td>Saturday</td>\n",
              "      <td>0.726791</td>\n",
              "      <td>0.454765</td>\n",
              "      <td>2.677624</td>\n",
              "      <td>1.337905</td>\n",
              "    </tr>\n",
              "    <tr>\n",
              "      <th>3</th>\n",
              "      <td>Sunday</td>\n",
              "      <td>0.715548</td>\n",
              "      <td>0.438492</td>\n",
              "      <td>2.902255</td>\n",
              "      <td>1.444448</td>\n",
              "    </tr>\n",
              "    <tr>\n",
              "      <th>4</th>\n",
              "      <td>Thursday</td>\n",
              "      <td>0.711960</td>\n",
              "      <td>0.423666</td>\n",
              "      <td>2.467233</td>\n",
              "      <td>1.236009</td>\n",
              "    </tr>\n",
              "    <tr>\n",
              "      <th>5</th>\n",
              "      <td>Tuesday</td>\n",
              "      <td>0.714347</td>\n",
              "      <td>0.417786</td>\n",
              "      <td>2.407637</td>\n",
              "      <td>1.200260</td>\n",
              "    </tr>\n",
              "    <tr>\n",
              "      <th>6</th>\n",
              "      <td>Wednesday</td>\n",
              "      <td>0.716451</td>\n",
              "      <td>0.421962</td>\n",
              "      <td>2.416660</td>\n",
              "      <td>1.209046</td>\n",
              "    </tr>\n",
              "  </tbody>\n",
              "</table>\n",
              "</div>"
            ],
            "text/plain": [
              "   dayOfWeek  Online time  Charge time  Calls received  Trips completed\n",
              "0     Friday     0.722174     0.451255        2.575141         1.289915\n",
              "1     Monday     0.710385     0.420897        2.457492         1.228627\n",
              "2   Saturday     0.726791     0.454765        2.677624         1.337905\n",
              "3     Sunday     0.715548     0.438492        2.902255         1.444448\n",
              "4   Thursday     0.711960     0.423666        2.467233         1.236009\n",
              "5    Tuesday     0.714347     0.417786        2.407637         1.200260\n",
              "6  Wednesday     0.716451     0.421962        2.416660         1.209046"
            ]
          },
          "execution_count": 13,
          "metadata": {},
          "output_type": "execute_result"
        }
      ]
    },
    {
      "cell_type": "markdown",
      "metadata": {
        "id": "YnJ99VKp7WLG"
      },
      "source": [
        "Se generaron una columna extra la cual contiene los grupos en los que se dividieron los datos. Para el caso 1 estos fueron divididos en la cantidad de tiempo que los conductores pasaron en carga o conducción de un punto A a un punto B, mientras que para el segundo caso los grupos se dividieron en aquellos conductores que tuvieron mínimo un viaje cancelado."
      ]
    },
    {
      "cell_type": "code",
      "metadata": {
        "colab": {
          "base_uri": "https://localhost:8080/",
          "height": 295
        },
        "id": "Qzk0o7tvBXCb",
        "outputId": "77fd7260-7e17-45a8-e4e1-49fe2a5546a7"
      },
      "source": [
        "df_marketSupply_online.describe()"
      ],
      "execution_count": null,
      "outputs": [
        {
          "data": {
            "text/html": [
              "<div>\n",
              "<style scoped>\n",
              "    .dataframe tbody tr th:only-of-type {\n",
              "        vertical-align: middle;\n",
              "    }\n",
              "\n",
              "    .dataframe tbody tr th {\n",
              "        vertical-align: top;\n",
              "    }\n",
              "\n",
              "    .dataframe thead th {\n",
              "        text-align: right;\n",
              "    }\n",
              "</style>\n",
              "<table border=\"1\" class=\"dataframe\">\n",
              "  <thead>\n",
              "    <tr style=\"text-align: right;\">\n",
              "      <th></th>\n",
              "      <th>Online time</th>\n",
              "      <th>Charge time</th>\n",
              "      <th>Calls received</th>\n",
              "      <th>Trips completed</th>\n",
              "    </tr>\n",
              "  </thead>\n",
              "  <tbody>\n",
              "    <tr>\n",
              "      <th>count</th>\n",
              "      <td>265494.000000</td>\n",
              "      <td>265494.000000</td>\n",
              "      <td>265494.000000</td>\n",
              "      <td>265494.000000</td>\n",
              "    </tr>\n",
              "    <tr>\n",
              "      <th>mean</th>\n",
              "      <td>0.717262</td>\n",
              "      <td>0.433662</td>\n",
              "      <td>2.552261</td>\n",
              "      <td>1.275588</td>\n",
              "    </tr>\n",
              "    <tr>\n",
              "      <th>std</th>\n",
              "      <td>0.298953</td>\n",
              "      <td>0.294958</td>\n",
              "      <td>1.459935</td>\n",
              "      <td>1.296082</td>\n",
              "    </tr>\n",
              "    <tr>\n",
              "      <th>min</th>\n",
              "      <td>0.000000</td>\n",
              "      <td>0.000000</td>\n",
              "      <td>1.000000</td>\n",
              "      <td>0.000000</td>\n",
              "    </tr>\n",
              "    <tr>\n",
              "      <th>25%</th>\n",
              "      <td>0.500000</td>\n",
              "      <td>0.200000</td>\n",
              "      <td>1.000000</td>\n",
              "      <td>0.000000</td>\n",
              "    </tr>\n",
              "    <tr>\n",
              "      <th>50%</th>\n",
              "      <td>0.800000</td>\n",
              "      <td>0.400000</td>\n",
              "      <td>2.000000</td>\n",
              "      <td>1.000000</td>\n",
              "    </tr>\n",
              "    <tr>\n",
              "      <th>75%</th>\n",
              "      <td>1.000000</td>\n",
              "      <td>0.600000</td>\n",
              "      <td>3.000000</td>\n",
              "      <td>2.000000</td>\n",
              "    </tr>\n",
              "    <tr>\n",
              "      <th>max</th>\n",
              "      <td>1.000000</td>\n",
              "      <td>4.600000</td>\n",
              "      <td>34.000000</td>\n",
              "      <td>33.000000</td>\n",
              "    </tr>\n",
              "  </tbody>\n",
              "</table>\n",
              "</div>"
            ],
            "text/plain": [
              "         Online time    Charge time  Calls received  Trips completed\n",
              "count  265494.000000  265494.000000   265494.000000    265494.000000\n",
              "mean        0.717262       0.433662        2.552261         1.275588\n",
              "std         0.298953       0.294958        1.459935         1.296082\n",
              "min         0.000000       0.000000        1.000000         0.000000\n",
              "25%         0.500000       0.200000        1.000000         0.000000\n",
              "50%         0.800000       0.400000        2.000000         1.000000\n",
              "75%         1.000000       0.600000        3.000000         2.000000\n",
              "max         1.000000       4.600000       34.000000        33.000000"
            ]
          },
          "execution_count": 14,
          "metadata": {},
          "output_type": "execute_result"
        }
      ]
    },
    {
      "cell_type": "code",
      "metadata": {
        "id": "hiZOMShCCcUf"
      },
      "source": [
        "df_datos_cortos = df_marketSupply_online[df_marketSupply_online[\"Charge time\"]<= 0.6 ]\n"
      ],
      "execution_count": null,
      "outputs": []
    },
    {
      "cell_type": "code",
      "metadata": {
        "colab": {
          "base_uri": "https://localhost:8080/",
          "height": 417
        },
        "id": "N1ssnRYqDY5U",
        "outputId": "6e588e27-2f09-41cb-e3d5-42c497dacb22"
      },
      "source": [
        "df_datos_cortos "
      ],
      "execution_count": null,
      "outputs": [
        {
          "data": {
            "text/html": [
              "<div>\n",
              "<style scoped>\n",
              "    .dataframe tbody tr th:only-of-type {\n",
              "        vertical-align: middle;\n",
              "    }\n",
              "\n",
              "    .dataframe tbody tr th {\n",
              "        vertical-align: top;\n",
              "    }\n",
              "\n",
              "    .dataframe thead th {\n",
              "        text-align: right;\n",
              "    }\n",
              "</style>\n",
              "<table border=\"1\" class=\"dataframe\">\n",
              "  <thead>\n",
              "    <tr style=\"text-align: right;\">\n",
              "      <th></th>\n",
              "      <th>Online time</th>\n",
              "      <th>Charge time</th>\n",
              "      <th>Calls received</th>\n",
              "      <th>Trips completed</th>\n",
              "      <th>dayOfWeek</th>\n",
              "    </tr>\n",
              "  </thead>\n",
              "  <tbody>\n",
              "    <tr>\n",
              "      <th>0</th>\n",
              "      <td>0.8</td>\n",
              "      <td>0.5</td>\n",
              "      <td>2.0</td>\n",
              "      <td>1.0</td>\n",
              "      <td>Monday</td>\n",
              "    </tr>\n",
              "    <tr>\n",
              "      <th>3</th>\n",
              "      <td>0.9</td>\n",
              "      <td>0.5</td>\n",
              "      <td>5.0</td>\n",
              "      <td>5.0</td>\n",
              "      <td>Monday</td>\n",
              "    </tr>\n",
              "    <tr>\n",
              "      <th>5</th>\n",
              "      <td>1.0</td>\n",
              "      <td>0.5</td>\n",
              "      <td>2.0</td>\n",
              "      <td>0.0</td>\n",
              "      <td>Monday</td>\n",
              "    </tr>\n",
              "    <tr>\n",
              "      <th>6</th>\n",
              "      <td>1.0</td>\n",
              "      <td>0.6</td>\n",
              "      <td>5.0</td>\n",
              "      <td>1.0</td>\n",
              "      <td>Monday</td>\n",
              "    </tr>\n",
              "    <tr>\n",
              "      <th>7</th>\n",
              "      <td>0.1</td>\n",
              "      <td>0.5</td>\n",
              "      <td>1.0</td>\n",
              "      <td>0.0</td>\n",
              "      <td>Monday</td>\n",
              "    </tr>\n",
              "    <tr>\n",
              "      <th>...</th>\n",
              "      <td>...</td>\n",
              "      <td>...</td>\n",
              "      <td>...</td>\n",
              "      <td>...</td>\n",
              "      <td>...</td>\n",
              "    </tr>\n",
              "    <tr>\n",
              "      <th>316564</th>\n",
              "      <td>1.0</td>\n",
              "      <td>0.5</td>\n",
              "      <td>3.0</td>\n",
              "      <td>0.0</td>\n",
              "      <td>Sunday</td>\n",
              "    </tr>\n",
              "    <tr>\n",
              "      <th>316565</th>\n",
              "      <td>0.0</td>\n",
              "      <td>0.0</td>\n",
              "      <td>1.0</td>\n",
              "      <td>1.0</td>\n",
              "      <td>Sunday</td>\n",
              "    </tr>\n",
              "    <tr>\n",
              "      <th>316567</th>\n",
              "      <td>0.8</td>\n",
              "      <td>0.4</td>\n",
              "      <td>3.0</td>\n",
              "      <td>2.0</td>\n",
              "      <td>Sunday</td>\n",
              "    </tr>\n",
              "    <tr>\n",
              "      <th>316568</th>\n",
              "      <td>0.8</td>\n",
              "      <td>0.3</td>\n",
              "      <td>4.0</td>\n",
              "      <td>4.0</td>\n",
              "      <td>Sunday</td>\n",
              "    </tr>\n",
              "    <tr>\n",
              "      <th>316569</th>\n",
              "      <td>0.3</td>\n",
              "      <td>0.2</td>\n",
              "      <td>1.0</td>\n",
              "      <td>1.0</td>\n",
              "      <td>Sunday</td>\n",
              "    </tr>\n",
              "  </tbody>\n",
              "</table>\n",
              "<p>203076 rows × 5 columns</p>\n",
              "</div>"
            ],
            "text/plain": [
              "        Online time  Charge time  Calls received  Trips completed dayOfWeek\n",
              "0               0.8          0.5             2.0              1.0    Monday\n",
              "3               0.9          0.5             5.0              5.0    Monday\n",
              "5               1.0          0.5             2.0              0.0    Monday\n",
              "6               1.0          0.6             5.0              1.0    Monday\n",
              "7               0.1          0.5             1.0              0.0    Monday\n",
              "...             ...          ...             ...              ...       ...\n",
              "316564          1.0          0.5             3.0              0.0    Sunday\n",
              "316565          0.0          0.0             1.0              1.0    Sunday\n",
              "316567          0.8          0.4             3.0              2.0    Sunday\n",
              "316568          0.8          0.3             4.0              4.0    Sunday\n",
              "316569          0.3          0.2             1.0              1.0    Sunday\n",
              "\n",
              "[203076 rows x 5 columns]"
            ]
          },
          "execution_count": 26,
          "metadata": {},
          "output_type": "execute_result"
        }
      ]
    },
    {
      "cell_type": "code",
      "metadata": {
        "id": "PD4rAT3sDBrn"
      },
      "source": [
        "df_datos_largos = df_marketSupply_online[df_marketSupply_online[\"Charge time\"]> 0.6 ]"
      ],
      "execution_count": null,
      "outputs": []
    },
    {
      "cell_type": "code",
      "metadata": {
        "colab": {
          "base_uri": "https://localhost:8080/",
          "height": 417
        },
        "id": "v_ZLCvy1DZ-Y",
        "outputId": "428024f7-cabe-4095-e7ae-ac0123489f60"
      },
      "source": [
        "df_datos_largos"
      ],
      "execution_count": null,
      "outputs": [
        {
          "data": {
            "text/html": [
              "<div>\n",
              "<style scoped>\n",
              "    .dataframe tbody tr th:only-of-type {\n",
              "        vertical-align: middle;\n",
              "    }\n",
              "\n",
              "    .dataframe tbody tr th {\n",
              "        vertical-align: top;\n",
              "    }\n",
              "\n",
              "    .dataframe thead th {\n",
              "        text-align: right;\n",
              "    }\n",
              "</style>\n",
              "<table border=\"1\" class=\"dataframe\">\n",
              "  <thead>\n",
              "    <tr style=\"text-align: right;\">\n",
              "      <th></th>\n",
              "      <th>Online time</th>\n",
              "      <th>Charge time</th>\n",
              "      <th>Calls received</th>\n",
              "      <th>Trips completed</th>\n",
              "      <th>dayOfWeek</th>\n",
              "    </tr>\n",
              "  </thead>\n",
              "  <tbody>\n",
              "    <tr>\n",
              "      <th>2</th>\n",
              "      <td>0.8</td>\n",
              "      <td>0.7</td>\n",
              "      <td>3.0</td>\n",
              "      <td>2.0</td>\n",
              "      <td>Monday</td>\n",
              "    </tr>\n",
              "    <tr>\n",
              "      <th>9</th>\n",
              "      <td>0.9</td>\n",
              "      <td>0.8</td>\n",
              "      <td>2.0</td>\n",
              "      <td>0.0</td>\n",
              "      <td>Monday</td>\n",
              "    </tr>\n",
              "    <tr>\n",
              "      <th>14</th>\n",
              "      <td>0.6</td>\n",
              "      <td>0.7</td>\n",
              "      <td>1.0</td>\n",
              "      <td>0.0</td>\n",
              "      <td>Monday</td>\n",
              "    </tr>\n",
              "    <tr>\n",
              "      <th>22</th>\n",
              "      <td>0.9</td>\n",
              "      <td>0.7</td>\n",
              "      <td>2.0</td>\n",
              "      <td>0.0</td>\n",
              "      <td>Monday</td>\n",
              "    </tr>\n",
              "    <tr>\n",
              "      <th>23</th>\n",
              "      <td>1.0</td>\n",
              "      <td>0.8</td>\n",
              "      <td>2.0</td>\n",
              "      <td>1.0</td>\n",
              "      <td>Monday</td>\n",
              "    </tr>\n",
              "    <tr>\n",
              "      <th>...</th>\n",
              "      <td>...</td>\n",
              "      <td>...</td>\n",
              "      <td>...</td>\n",
              "      <td>...</td>\n",
              "      <td>...</td>\n",
              "    </tr>\n",
              "    <tr>\n",
              "      <th>316553</th>\n",
              "      <td>1.0</td>\n",
              "      <td>0.9</td>\n",
              "      <td>3.0</td>\n",
              "      <td>2.0</td>\n",
              "      <td>Sunday</td>\n",
              "    </tr>\n",
              "    <tr>\n",
              "      <th>316558</th>\n",
              "      <td>0.9</td>\n",
              "      <td>0.7</td>\n",
              "      <td>4.0</td>\n",
              "      <td>2.0</td>\n",
              "      <td>Sunday</td>\n",
              "    </tr>\n",
              "    <tr>\n",
              "      <th>316561</th>\n",
              "      <td>1.0</td>\n",
              "      <td>0.7</td>\n",
              "      <td>2.0</td>\n",
              "      <td>1.0</td>\n",
              "      <td>Sunday</td>\n",
              "    </tr>\n",
              "    <tr>\n",
              "      <th>316563</th>\n",
              "      <td>0.8</td>\n",
              "      <td>0.8</td>\n",
              "      <td>3.0</td>\n",
              "      <td>1.0</td>\n",
              "      <td>Sunday</td>\n",
              "    </tr>\n",
              "    <tr>\n",
              "      <th>316566</th>\n",
              "      <td>0.6</td>\n",
              "      <td>0.7</td>\n",
              "      <td>3.0</td>\n",
              "      <td>2.0</td>\n",
              "      <td>Sunday</td>\n",
              "    </tr>\n",
              "  </tbody>\n",
              "</table>\n",
              "<p>62418 rows × 5 columns</p>\n",
              "</div>"
            ],
            "text/plain": [
              "        Online time  Charge time  Calls received  Trips completed dayOfWeek\n",
              "2               0.8          0.7             3.0              2.0    Monday\n",
              "9               0.9          0.8             2.0              0.0    Monday\n",
              "14              0.6          0.7             1.0              0.0    Monday\n",
              "22              0.9          0.7             2.0              0.0    Monday\n",
              "23              1.0          0.8             2.0              1.0    Monday\n",
              "...             ...          ...             ...              ...       ...\n",
              "316553          1.0          0.9             3.0              2.0    Sunday\n",
              "316558          0.9          0.7             4.0              2.0    Sunday\n",
              "316561          1.0          0.7             2.0              1.0    Sunday\n",
              "316563          0.8          0.8             3.0              1.0    Sunday\n",
              "316566          0.6          0.7             3.0              2.0    Sunday\n",
              "\n",
              "[62418 rows x 5 columns]"
            ]
          },
          "execution_count": 28,
          "metadata": {},
          "output_type": "execute_result"
        }
      ]
    },
    {
      "cell_type": "code",
      "metadata": {
        "colab": {
          "base_uri": "https://localhost:8080/",
          "height": 332
        },
        "id": "_nC0UkjPBt3k",
        "outputId": "0f10ea60-7333-4c7e-9f89-b77be80214f1"
      },
      "source": [
        "import matplotlib.pyplot as plt\n",
        "\n",
        "plt.violinplot(df_marketSupply_online[\"Charge time\"])"
      ],
      "execution_count": null,
      "outputs": [
        {
          "data": {
            "text/plain": [
              "{'bodies': [<matplotlib.collections.PolyCollection at 0x7f141af38750>],\n",
              " 'cbars': <matplotlib.collections.LineCollection at 0x7f141af387d0>,\n",
              " 'cmaxes': <matplotlib.collections.LineCollection at 0x7f141ad21fd0>,\n",
              " 'cmins': <matplotlib.collections.LineCollection at 0x7f141af38d10>}"
            ]
          },
          "execution_count": 18,
          "metadata": {},
          "output_type": "execute_result"
        },
        {
          "data": {
            "image/png": "[encoded data removed]",
            "text/plain": [
              "<Figure size 432x288 with 1 Axes>"
            ]
          },
          "metadata": {},
          "output_type": "display_data"
        }
      ]
    },
    {
      "cell_type": "code",
      "metadata": {
        "colab": {
          "base_uri": "https://localhost:8080/",
          "height": 332
        },
        "id": "-bQTtXyGDhZ3",
        "outputId": "f54f6fb7-fde6-46f4-c973-718f5de21a28"
      },
      "source": [
        "import matplotlib.pyplot as plt\n",
        "\n",
        "#plt.violinplot(df_datos_cortos[\"Charge time\"])\n",
        "plt.violinplot(df_datos_largos[\"Charge time\"])\n"
      ],
      "execution_count": null,
      "outputs": [
        {
          "data": {
            "text/plain": [
              "{'bodies': [<matplotlib.collections.PolyCollection at 0x7f141c2f6110>],\n",
              " 'cbars': <matplotlib.collections.LineCollection at 0x7f141c0afd90>,\n",
              " 'cmaxes': <matplotlib.collections.LineCollection at 0x7f141bf241d0>,\n",
              " 'cmins': <matplotlib.collections.LineCollection at 0x7f141c2f6390>}"
            ]
          },
          "execution_count": 31,
          "metadata": {},
          "output_type": "execute_result"
        },
        {
          "data": {
            "image/png": "[encoded data removed]",
            "text/plain": [
              "<Figure size 432x288 with 1 Axes>"
            ]
          },
          "metadata": {},
          "output_type": "display_data"
        }
      ]
    },
    {
      "cell_type": "code",
      "metadata": {
        "colab": {
          "base_uri": "https://localhost:8080/",
          "height": 295
        },
        "id": "llghSPqeEC-E",
        "outputId": "e6664db6-533b-4cc5-eafa-518a4cb18dca"
      },
      "source": [
        "df_datos_largos.describe()"
      ],
      "execution_count": null,
      "outputs": [
        {
          "data": {
            "text/html": [
              "<div>\n",
              "<style scoped>\n",
              "    .dataframe tbody tr th:only-of-type {\n",
              "        vertical-align: middle;\n",
              "    }\n",
              "\n",
              "    .dataframe tbody tr th {\n",
              "        vertical-align: top;\n",
              "    }\n",
              "\n",
              "    .dataframe thead th {\n",
              "        text-align: right;\n",
              "    }\n",
              "</style>\n",
              "<table border=\"1\" class=\"dataframe\">\n",
              "  <thead>\n",
              "    <tr style=\"text-align: right;\">\n",
              "      <th></th>\n",
              "      <th>Online time</th>\n",
              "      <th>Charge time</th>\n",
              "      <th>Calls received</th>\n",
              "      <th>Trips completed</th>\n",
              "    </tr>\n",
              "  </thead>\n",
              "  <tbody>\n",
              "    <tr>\n",
              "      <th>count</th>\n",
              "      <td>62418.000000</td>\n",
              "      <td>62418.000000</td>\n",
              "      <td>62418.000000</td>\n",
              "      <td>62418.000000</td>\n",
              "    </tr>\n",
              "    <tr>\n",
              "      <th>mean</th>\n",
              "      <td>0.915196</td>\n",
              "      <td>0.825550</td>\n",
              "      <td>2.788314</td>\n",
              "      <td>1.403650</td>\n",
              "    </tr>\n",
              "    <tr>\n",
              "      <th>std</th>\n",
              "      <td>0.151683</td>\n",
              "      <td>0.159326</td>\n",
              "      <td>1.365628</td>\n",
              "      <td>1.320544</td>\n",
              "    </tr>\n",
              "    <tr>\n",
              "      <th>min</th>\n",
              "      <td>0.000000</td>\n",
              "      <td>0.700000</td>\n",
              "      <td>1.000000</td>\n",
              "      <td>0.000000</td>\n",
              "    </tr>\n",
              "    <tr>\n",
              "      <th>25%</th>\n",
              "      <td>0.900000</td>\n",
              "      <td>0.700000</td>\n",
              "      <td>2.000000</td>\n",
              "      <td>0.000000</td>\n",
              "    </tr>\n",
              "    <tr>\n",
              "      <th>50%</th>\n",
              "      <td>1.000000</td>\n",
              "      <td>0.800000</td>\n",
              "      <td>3.000000</td>\n",
              "      <td>1.000000</td>\n",
              "    </tr>\n",
              "    <tr>\n",
              "      <th>75%</th>\n",
              "      <td>1.000000</td>\n",
              "      <td>0.900000</td>\n",
              "      <td>4.000000</td>\n",
              "      <td>2.000000</td>\n",
              "    </tr>\n",
              "    <tr>\n",
              "      <th>max</th>\n",
              "      <td>1.000000</td>\n",
              "      <td>4.600000</td>\n",
              "      <td>16.000000</td>\n",
              "      <td>15.000000</td>\n",
              "    </tr>\n",
              "  </tbody>\n",
              "</table>\n",
              "</div>"
            ],
            "text/plain": [
              "        Online time   Charge time  Calls received  Trips completed\n",
              "count  62418.000000  62418.000000    62418.000000     62418.000000\n",
              "mean       0.915196      0.825550        2.788314         1.403650\n",
              "std        0.151683      0.159326        1.365628         1.320544\n",
              "min        0.000000      0.700000        1.000000         0.000000\n",
              "25%        0.900000      0.700000        2.000000         0.000000\n",
              "50%        1.000000      0.800000        3.000000         1.000000\n",
              "75%        1.000000      0.900000        4.000000         2.000000\n",
              "max        1.000000      4.600000       16.000000        15.000000"
            ]
          },
          "execution_count": 32,
          "metadata": {},
          "output_type": "execute_result"
        }
      ]
    },
    {
      "cell_type": "code",
      "metadata": {
        "id": "zC0GKWuLFB2m"
      },
      "source": [
        "df_marketSupply_online[\"Grupo\"] = df_marketSupply_online['Charge time'].apply(lambda x: 'Grupo 1' if x <= 0.3 else 'Grupo 2' if (x> 0.3 and x<= 0.6) else 'Grupo 3')"
      ],
      "execution_count": null,
      "outputs": []
    },
    {
      "cell_type": "code",
      "metadata": {
        "id": "GOOMZYa3FzQ9"
      },
      "source": [
        "df_analisis_market = df_marketSupply_online.groupby(\"Grupo\").count()"
      ],
      "execution_count": null,
      "outputs": []
    },
    {
      "cell_type": "code",
      "metadata": {
        "id": "_2zb32CkHmfg"
      },
      "source": [
        "df_analisis_market.drop([\"Online time\",\"Calls received\",\"Trips completed\",\"dayOfWeek\"],axis=1,inplace=True)"
      ],
      "execution_count": null,
      "outputs": []
    },
    {
      "cell_type": "code",
      "metadata": {
        "id": "796ittqhH27P"
      },
      "source": [
        "df_analisis_market.reset_index(inplace=True)"
      ],
      "execution_count": null,
      "outputs": []
    },
    {
      "cell_type": "code",
      "metadata": {
        "colab": {
          "base_uri": "https://localhost:8080/",
          "height": 142
        },
        "id": "PGelcA5fH9W7",
        "outputId": "3f87be22-31ec-47b8-cc12-91cf6f5822a1"
      },
      "source": [
        "df_analisis_market"
      ],
      "execution_count": null,
      "outputs": [
        {
          "data": {
            "text/html": [
              "<div>\n",
              "<style scoped>\n",
              "    .dataframe tbody tr th:only-of-type {\n",
              "        vertical-align: middle;\n",
              "    }\n",
              "\n",
              "    .dataframe tbody tr th {\n",
              "        vertical-align: top;\n",
              "    }\n",
              "\n",
              "    .dataframe thead th {\n",
              "        text-align: right;\n",
              "    }\n",
              "</style>\n",
              "<table border=\"1\" class=\"dataframe\">\n",
              "  <thead>\n",
              "    <tr style=\"text-align: right;\">\n",
              "      <th></th>\n",
              "      <th>Grupo</th>\n",
              "      <th>Charge time</th>\n",
              "    </tr>\n",
              "  </thead>\n",
              "  <tbody>\n",
              "    <tr>\n",
              "      <th>0</th>\n",
              "      <td>Grupo 1</td>\n",
              "      <td>104090</td>\n",
              "    </tr>\n",
              "    <tr>\n",
              "      <th>1</th>\n",
              "      <td>Grupo 2</td>\n",
              "      <td>98986</td>\n",
              "    </tr>\n",
              "    <tr>\n",
              "      <th>2</th>\n",
              "      <td>Grupo 3</td>\n",
              "      <td>62418</td>\n",
              "    </tr>\n",
              "  </tbody>\n",
              "</table>\n",
              "</div>"
            ],
            "text/plain": [
              "     Grupo  Charge time\n",
              "0  Grupo 1       104090\n",
              "1  Grupo 2        98986\n",
              "2  Grupo 3        62418"
            ]
          },
          "execution_count": 46,
          "metadata": {},
          "output_type": "execute_result"
        }
      ]
    },
    {
      "cell_type": "code",
      "metadata": {
        "colab": {
          "base_uri": "https://localhost:8080/",
          "height": 248
        },
        "id": "Ipcdis5CHOPM",
        "outputId": "18ba0320-c6f3-4dc2-de7f-99559fc74a83"
      },
      "source": [
        "import seaborn as sns\n",
        "labels = [\"Grupo 1\",\"Grupo 2\",\"Grupo 3\"]\n",
        "#define Seaborn color palette to use\n",
        "colors = sns.color_palette('pastel')[0:3]\n",
        "\n",
        "#create pie chart\n",
        "plt.pie(df_analisis_market[\"Charge time\"], labels = labels , colors = colors, autopct='%.0f%%')\n",
        "plt.show()"
      ],
      "execution_count": null,
      "outputs": [
        {
          "data": {
            "image/png": "[encoded data removed]",
            "text/plain": [
              "<Figure size 432x288 with 1 Axes>"
            ]
          },
          "metadata": {},
          "output_type": "display_data"
        }
      ]
    },
    {
      "cell_type": "code",
      "metadata": {
        "colab": {
          "base_uri": "https://localhost:8080/",
          "height": 296
        },
        "id": "zvI0TQDIKfEp",
        "outputId": "712c2c55-a491-4514-8bac-7143a3ed47b5"
      },
      "source": [
        "import seaborn as sns\n",
        "sns.barplot(data=df_marketSupply_online, x=\"dayOfWeek\", y=\"Online time\")"
      ],
      "execution_count": null,
      "outputs": [
        {
          "data": {
            "text/plain": [
              "<matplotlib.axes._subplots.AxesSubplot at 0x7f141ad8ba50>"
            ]
          },
          "execution_count": 55,
          "metadata": {},
          "output_type": "execute_result"
        },
        {
          "data": {
            "image/png": "[encoded data removed]",
            "text/plain": [
              "<Figure size 432x288 with 1 Axes>"
            ]
          },
          "metadata": {},
          "output_type": "display_data"
        }
      ]
    },
    {
      "cell_type": "code",
      "metadata": {
        "id": "-EOuCV7qLyx_"
      },
      "source": [
        "df_marketSupply_online[\"Trips control\"] = df_marketSupply_online[\"Trips completed\"]-df_marketSupply_online[\"Calls received\"]"
      ],
      "execution_count": null,
      "outputs": []
    },
    {
      "cell_type": "code",
      "metadata": {
        "colab": {
          "base_uri": "https://localhost:8080/",
          "height": 417
        },
        "id": "kifuYBiZMkkc",
        "outputId": "94e913af-de3e-42f6-9313-725346b8cdd3"
      },
      "source": [
        "df_marketSupply_online"
      ],
      "execution_count": null,
      "outputs": [
        {
          "data": {
            "text/html": [
              "<div>\n",
              "<style scoped>\n",
              "    .dataframe tbody tr th:only-of-type {\n",
              "        vertical-align: middle;\n",
              "    }\n",
              "\n",
              "    .dataframe tbody tr th {\n",
              "        vertical-align: top;\n",
              "    }\n",
              "\n",
              "    .dataframe thead th {\n",
              "        text-align: right;\n",
              "    }\n",
              "</style>\n",
              "<table border=\"1\" class=\"dataframe\">\n",
              "  <thead>\n",
              "    <tr style=\"text-align: right;\">\n",
              "      <th></th>\n",
              "      <th>Online time</th>\n",
              "      <th>Charge time</th>\n",
              "      <th>Calls received</th>\n",
              "      <th>Trips completed</th>\n",
              "      <th>dayOfWeek</th>\n",
              "      <th>Grupo</th>\n",
              "      <th>Trips control</th>\n",
              "    </tr>\n",
              "  </thead>\n",
              "  <tbody>\n",
              "    <tr>\n",
              "      <th>0</th>\n",
              "      <td>0.8</td>\n",
              "      <td>0.5</td>\n",
              "      <td>2.0</td>\n",
              "      <td>1.0</td>\n",
              "      <td>Monday</td>\n",
              "      <td>Grupo 2</td>\n",
              "      <td>-1.0</td>\n",
              "    </tr>\n",
              "    <tr>\n",
              "      <th>2</th>\n",
              "      <td>0.8</td>\n",
              "      <td>0.7</td>\n",
              "      <td>3.0</td>\n",
              "      <td>2.0</td>\n",
              "      <td>Monday</td>\n",
              "      <td>Grupo 3</td>\n",
              "      <td>-1.0</td>\n",
              "    </tr>\n",
              "    <tr>\n",
              "      <th>3</th>\n",
              "      <td>0.9</td>\n",
              "      <td>0.5</td>\n",
              "      <td>5.0</td>\n",
              "      <td>5.0</td>\n",
              "      <td>Monday</td>\n",
              "      <td>Grupo 2</td>\n",
              "      <td>0.0</td>\n",
              "    </tr>\n",
              "    <tr>\n",
              "      <th>5</th>\n",
              "      <td>1.0</td>\n",
              "      <td>0.5</td>\n",
              "      <td>2.0</td>\n",
              "      <td>0.0</td>\n",
              "      <td>Monday</td>\n",
              "      <td>Grupo 2</td>\n",
              "      <td>-2.0</td>\n",
              "    </tr>\n",
              "    <tr>\n",
              "      <th>6</th>\n",
              "      <td>1.0</td>\n",
              "      <td>0.6</td>\n",
              "      <td>5.0</td>\n",
              "      <td>1.0</td>\n",
              "      <td>Monday</td>\n",
              "      <td>Grupo 2</td>\n",
              "      <td>-4.0</td>\n",
              "    </tr>\n",
              "    <tr>\n",
              "      <th>...</th>\n",
              "      <td>...</td>\n",
              "      <td>...</td>\n",
              "      <td>...</td>\n",
              "      <td>...</td>\n",
              "      <td>...</td>\n",
              "      <td>...</td>\n",
              "      <td>...</td>\n",
              "    </tr>\n",
              "    <tr>\n",
              "      <th>316565</th>\n",
              "      <td>0.0</td>\n",
              "      <td>0.0</td>\n",
              "      <td>1.0</td>\n",
              "      <td>1.0</td>\n",
              "      <td>Sunday</td>\n",
              "      <td>Grupo 1</td>\n",
              "      <td>0.0</td>\n",
              "    </tr>\n",
              "    <tr>\n",
              "      <th>316566</th>\n",
              "      <td>0.6</td>\n",
              "      <td>0.7</td>\n",
              "      <td>3.0</td>\n",
              "      <td>2.0</td>\n",
              "      <td>Sunday</td>\n",
              "      <td>Grupo 3</td>\n",
              "      <td>-1.0</td>\n",
              "    </tr>\n",
              "    <tr>\n",
              "      <th>316567</th>\n",
              "      <td>0.8</td>\n",
              "      <td>0.4</td>\n",
              "      <td>3.0</td>\n",
              "      <td>2.0</td>\n",
              "      <td>Sunday</td>\n",
              "      <td>Grupo 2</td>\n",
              "      <td>-1.0</td>\n",
              "    </tr>\n",
              "    <tr>\n",
              "      <th>316568</th>\n",
              "      <td>0.8</td>\n",
              "      <td>0.3</td>\n",
              "      <td>4.0</td>\n",
              "      <td>4.0</td>\n",
              "      <td>Sunday</td>\n",
              "      <td>Grupo 1</td>\n",
              "      <td>0.0</td>\n",
              "    </tr>\n",
              "    <tr>\n",
              "      <th>316569</th>\n",
              "      <td>0.3</td>\n",
              "      <td>0.2</td>\n",
              "      <td>1.0</td>\n",
              "      <td>1.0</td>\n",
              "      <td>Sunday</td>\n",
              "      <td>Grupo 1</td>\n",
              "      <td>0.0</td>\n",
              "    </tr>\n",
              "  </tbody>\n",
              "</table>\n",
              "<p>265494 rows × 7 columns</p>\n",
              "</div>"
            ],
            "text/plain": [
              "        Online time  Charge time  ...    Grupo  Trips control\n",
              "0               0.8          0.5  ...  Grupo 2           -1.0\n",
              "2               0.8          0.7  ...  Grupo 3           -1.0\n",
              "3               0.9          0.5  ...  Grupo 2            0.0\n",
              "5               1.0          0.5  ...  Grupo 2           -2.0\n",
              "6               1.0          0.6  ...  Grupo 2           -4.0\n",
              "...             ...          ...  ...      ...            ...\n",
              "316565          0.0          0.0  ...  Grupo 1            0.0\n",
              "316566          0.6          0.7  ...  Grupo 3           -1.0\n",
              "316567          0.8          0.4  ...  Grupo 2           -1.0\n",
              "316568          0.8          0.3  ...  Grupo 1            0.0\n",
              "316569          0.3          0.2  ...  Grupo 1            0.0\n",
              "\n",
              "[265494 rows x 7 columns]"
            ]
          },
          "execution_count": 57,
          "metadata": {},
          "output_type": "execute_result"
        }
      ]
    },
    {
      "cell_type": "code",
      "metadata": {
        "id": "w8IR6GNMM0-4"
      },
      "source": [
        "df_marketSupply_online[\"Control Group trips\"] = df_marketSupply_online['Trips control'].apply(lambda x: 'Grupo 1' if x < 0 else 'Grupo 2')"
      ],
      "execution_count": null,
      "outputs": []
    },
    {
      "cell_type": "code",
      "metadata": {
        "colab": {
          "base_uri": "https://localhost:8080/",
          "height": 417
        },
        "id": "ZfrXvPvhNCaY",
        "outputId": "53234dc8-cbe8-45b5-abbe-f5c316ea27b4"
      },
      "source": [
        "df_marketSupply_online"
      ],
      "execution_count": null,
      "outputs": [
        {
          "data": {
            "text/html": [
              "<div>\n",
              "<style scoped>\n",
              "    .dataframe tbody tr th:only-of-type {\n",
              "        vertical-align: middle;\n",
              "    }\n",
              "\n",
              "    .dataframe tbody tr th {\n",
              "        vertical-align: top;\n",
              "    }\n",
              "\n",
              "    .dataframe thead th {\n",
              "        text-align: right;\n",
              "    }\n",
              "</style>\n",
              "<table border=\"1\" class=\"dataframe\">\n",
              "  <thead>\n",
              "    <tr style=\"text-align: right;\">\n",
              "      <th></th>\n",
              "      <th>Online time</th>\n",
              "      <th>Charge time</th>\n",
              "      <th>Calls received</th>\n",
              "      <th>Trips completed</th>\n",
              "      <th>dayOfWeek</th>\n",
              "      <th>Grupo</th>\n",
              "      <th>Trips control</th>\n",
              "      <th>Control Group trips</th>\n",
              "    </tr>\n",
              "  </thead>\n",
              "  <tbody>\n",
              "    <tr>\n",
              "      <th>0</th>\n",
              "      <td>0.8</td>\n",
              "      <td>0.5</td>\n",
              "      <td>2.0</td>\n",
              "      <td>1.0</td>\n",
              "      <td>Monday</td>\n",
              "      <td>Grupo 2</td>\n",
              "      <td>-1.0</td>\n",
              "      <td>Grupo 1</td>\n",
              "    </tr>\n",
              "    <tr>\n",
              "      <th>2</th>\n",
              "      <td>0.8</td>\n",
              "      <td>0.7</td>\n",
              "      <td>3.0</td>\n",
              "      <td>2.0</td>\n",
              "      <td>Monday</td>\n",
              "      <td>Grupo 3</td>\n",
              "      <td>-1.0</td>\n",
              "      <td>Grupo 1</td>\n",
              "    </tr>\n",
              "    <tr>\n",
              "      <th>3</th>\n",
              "      <td>0.9</td>\n",
              "      <td>0.5</td>\n",
              "      <td>5.0</td>\n",
              "      <td>5.0</td>\n",
              "      <td>Monday</td>\n",
              "      <td>Grupo 2</td>\n",
              "      <td>0.0</td>\n",
              "      <td>Grupo 2</td>\n",
              "    </tr>\n",
              "    <tr>\n",
              "      <th>5</th>\n",
              "      <td>1.0</td>\n",
              "      <td>0.5</td>\n",
              "      <td>2.0</td>\n",
              "      <td>0.0</td>\n",
              "      <td>Monday</td>\n",
              "      <td>Grupo 2</td>\n",
              "      <td>-2.0</td>\n",
              "      <td>Grupo 1</td>\n",
              "    </tr>\n",
              "    <tr>\n",
              "      <th>6</th>\n",
              "      <td>1.0</td>\n",
              "      <td>0.6</td>\n",
              "      <td>5.0</td>\n",
              "      <td>1.0</td>\n",
              "      <td>Monday</td>\n",
              "      <td>Grupo 2</td>\n",
              "      <td>-4.0</td>\n",
              "      <td>Grupo 1</td>\n",
              "    </tr>\n",
              "    <tr>\n",
              "      <th>...</th>\n",
              "      <td>...</td>\n",
              "      <td>...</td>\n",
              "      <td>...</td>\n",
              "      <td>...</td>\n",
              "      <td>...</td>\n",
              "      <td>...</td>\n",
              "      <td>...</td>\n",
              "      <td>...</td>\n",
              "    </tr>\n",
              "    <tr>\n",
              "      <th>316565</th>\n",
              "      <td>0.0</td>\n",
              "      <td>0.0</td>\n",
              "      <td>1.0</td>\n",
              "      <td>1.0</td>\n",
              "      <td>Sunday</td>\n",
              "      <td>Grupo 1</td>\n",
              "      <td>0.0</td>\n",
              "      <td>Grupo 2</td>\n",
              "    </tr>\n",
              "    <tr>\n",
              "      <th>316566</th>\n",
              "      <td>0.6</td>\n",
              "      <td>0.7</td>\n",
              "      <td>3.0</td>\n",
              "      <td>2.0</td>\n",
              "      <td>Sunday</td>\n",
              "      <td>Grupo 3</td>\n",
              "      <td>-1.0</td>\n",
              "      <td>Grupo 1</td>\n",
              "    </tr>\n",
              "    <tr>\n",
              "      <th>316567</th>\n",
              "      <td>0.8</td>\n",
              "      <td>0.4</td>\n",
              "      <td>3.0</td>\n",
              "      <td>2.0</td>\n",
              "      <td>Sunday</td>\n",
              "      <td>Grupo 2</td>\n",
              "      <td>-1.0</td>\n",
              "      <td>Grupo 1</td>\n",
              "    </tr>\n",
              "    <tr>\n",
              "      <th>316568</th>\n",
              "      <td>0.8</td>\n",
              "      <td>0.3</td>\n",
              "      <td>4.0</td>\n",
              "      <td>4.0</td>\n",
              "      <td>Sunday</td>\n",
              "      <td>Grupo 1</td>\n",
              "      <td>0.0</td>\n",
              "      <td>Grupo 2</td>\n",
              "    </tr>\n",
              "    <tr>\n",
              "      <th>316569</th>\n",
              "      <td>0.3</td>\n",
              "      <td>0.2</td>\n",
              "      <td>1.0</td>\n",
              "      <td>1.0</td>\n",
              "      <td>Sunday</td>\n",
              "      <td>Grupo 1</td>\n",
              "      <td>0.0</td>\n",
              "      <td>Grupo 2</td>\n",
              "    </tr>\n",
              "  </tbody>\n",
              "</table>\n",
              "<p>265494 rows × 8 columns</p>\n",
              "</div>"
            ],
            "text/plain": [
              "        Online time  Charge time  ...  Trips control  Control Group trips\n",
              "0               0.8          0.5  ...           -1.0              Grupo 1\n",
              "2               0.8          0.7  ...           -1.0              Grupo 1\n",
              "3               0.9          0.5  ...            0.0              Grupo 2\n",
              "5               1.0          0.5  ...           -2.0              Grupo 1\n",
              "6               1.0          0.6  ...           -4.0              Grupo 1\n",
              "...             ...          ...  ...            ...                  ...\n",
              "316565          0.0          0.0  ...            0.0              Grupo 2\n",
              "316566          0.6          0.7  ...           -1.0              Grupo 1\n",
              "316567          0.8          0.4  ...           -1.0              Grupo 1\n",
              "316568          0.8          0.3  ...            0.0              Grupo 2\n",
              "316569          0.3          0.2  ...            0.0              Grupo 2\n",
              "\n",
              "[265494 rows x 8 columns]"
            ]
          },
          "execution_count": 59,
          "metadata": {},
          "output_type": "execute_result"
        }
      ]
    },
    {
      "cell_type": "code",
      "metadata": {
        "id": "rfaJupDKNN4E"
      },
      "source": [
        "df_analisis_market_trips = df_marketSupply_online.groupby(\"Control Group trips\").count()"
      ],
      "execution_count": null,
      "outputs": []
    },
    {
      "cell_type": "code",
      "metadata": {
        "colab": {
          "base_uri": "https://localhost:8080/",
          "height": 142
        },
        "id": "DC09KiZMNcJa",
        "outputId": "797dc431-692b-456b-fd31-c023280207df"
      },
      "source": [
        "df_analisis_market_trips"
      ],
      "execution_count": null,
      "outputs": [
        {
          "data": {
            "text/html": [
              "<div>\n",
              "<style scoped>\n",
              "    .dataframe tbody tr th:only-of-type {\n",
              "        vertical-align: middle;\n",
              "    }\n",
              "\n",
              "    .dataframe tbody tr th {\n",
              "        vertical-align: top;\n",
              "    }\n",
              "\n",
              "    .dataframe thead th {\n",
              "        text-align: right;\n",
              "    }\n",
              "</style>\n",
              "<table border=\"1\" class=\"dataframe\">\n",
              "  <thead>\n",
              "    <tr style=\"text-align: right;\">\n",
              "      <th></th>\n",
              "      <th>Online time</th>\n",
              "      <th>Charge time</th>\n",
              "      <th>Calls received</th>\n",
              "      <th>Trips completed</th>\n",
              "      <th>dayOfWeek</th>\n",
              "      <th>Grupo</th>\n",
              "      <th>Trips control</th>\n",
              "    </tr>\n",
              "    <tr>\n",
              "      <th>Control Group trips</th>\n",
              "      <th></th>\n",
              "      <th></th>\n",
              "      <th></th>\n",
              "      <th></th>\n",
              "      <th></th>\n",
              "      <th></th>\n",
              "      <th></th>\n",
              "    </tr>\n",
              "  </thead>\n",
              "  <tbody>\n",
              "    <tr>\n",
              "      <th>Grupo 1</th>\n",
              "      <td>179101</td>\n",
              "      <td>179101</td>\n",
              "      <td>179101</td>\n",
              "      <td>179101</td>\n",
              "      <td>179101</td>\n",
              "      <td>179101</td>\n",
              "      <td>179101</td>\n",
              "    </tr>\n",
              "    <tr>\n",
              "      <th>Grupo 2</th>\n",
              "      <td>86393</td>\n",
              "      <td>86393</td>\n",
              "      <td>86393</td>\n",
              "      <td>86393</td>\n",
              "      <td>86393</td>\n",
              "      <td>86393</td>\n",
              "      <td>86393</td>\n",
              "    </tr>\n",
              "  </tbody>\n",
              "</table>\n",
              "</div>"
            ],
            "text/plain": [
              "                     Online time  Charge time  ...   Grupo  Trips control\n",
              "Control Group trips                            ...                       \n",
              "Grupo 1                   179101       179101  ...  179101         179101\n",
              "Grupo 2                    86393        86393  ...   86393          86393\n",
              "\n",
              "[2 rows x 7 columns]"
            ]
          },
          "execution_count": 62,
          "metadata": {},
          "output_type": "execute_result"
        }
      ]
    },
    {
      "cell_type": "code",
      "metadata": {
        "id": "0lPQFb_ONZmO"
      },
      "source": [
        "df_analisis_market_trips.drop([\"Online time\",\"Calls received\",\"Trips completed\",\"dayOfWeek\",\"Grupo\",\"Charge time\"],axis=1,inplace=True)"
      ],
      "execution_count": null,
      "outputs": []
    },
    {
      "cell_type": "code",
      "metadata": {
        "id": "ij5kIpZqNvNN"
      },
      "source": [
        "df_analisis_market_trips.reset_index(inplace=True)"
      ],
      "execution_count": null,
      "outputs": []
    },
    {
      "cell_type": "code",
      "metadata": {
        "colab": {
          "base_uri": "https://localhost:8080/",
          "height": 110
        },
        "id": "iWfw7lJSNxn6",
        "outputId": "eaa51e8d-6375-453f-edef-dfadbf603a14"
      },
      "source": [
        "df_analisis_market_trips"
      ],
      "execution_count": null,
      "outputs": [
        {
          "data": {
            "text/html": [
              "<div>\n",
              "<style scoped>\n",
              "    .dataframe tbody tr th:only-of-type {\n",
              "        vertical-align: middle;\n",
              "    }\n",
              "\n",
              "    .dataframe tbody tr th {\n",
              "        vertical-align: top;\n",
              "    }\n",
              "\n",
              "    .dataframe thead th {\n",
              "        text-align: right;\n",
              "    }\n",
              "</style>\n",
              "<table border=\"1\" class=\"dataframe\">\n",
              "  <thead>\n",
              "    <tr style=\"text-align: right;\">\n",
              "      <th></th>\n",
              "      <th>Control Group trips</th>\n",
              "      <th>Trips control</th>\n",
              "    </tr>\n",
              "  </thead>\n",
              "  <tbody>\n",
              "    <tr>\n",
              "      <th>0</th>\n",
              "      <td>Grupo 1</td>\n",
              "      <td>179101</td>\n",
              "    </tr>\n",
              "    <tr>\n",
              "      <th>1</th>\n",
              "      <td>Grupo 2</td>\n",
              "      <td>86393</td>\n",
              "    </tr>\n",
              "  </tbody>\n",
              "</table>\n",
              "</div>"
            ],
            "text/plain": [
              "  Control Group trips  Trips control\n",
              "0             Grupo 1         179101\n",
              "1             Grupo 2          86393"
            ]
          },
          "execution_count": 67,
          "metadata": {},
          "output_type": "execute_result"
        }
      ]
    },
    {
      "cell_type": "code",
      "metadata": {
        "colab": {
          "base_uri": "https://localhost:8080/",
          "height": 248
        },
        "id": "G7NlGPAhNFI-",
        "outputId": "05a91a3b-41ea-4725-c3fb-fbee8c745f06"
      },
      "source": [
        "import seaborn as sns\n",
        "labels = [\"Grupo 1\",\"Grupo 2\"]\n",
        "#define Seaborn color palette to use\n",
        "colors = sns.color_palette('pastel')[0:3]\n",
        "\n",
        "#create pie chart\n",
        "plt.pie(df_analisis_market_trips[\"Trips control\"], labels = labels , colors = colors, autopct='%.0f%%')\n",
        "plt.show()"
      ],
      "execution_count": null,
      "outputs": [
        {
          "data": {
            "image/png": "[encoded data removed]",
            "text/plain": [
              "<Figure size 432x288 with 1 Axes>"
            ]
          },
          "metadata": {},
          "output_type": "display_data"
        }
      ]
    },
    {
      "cell_type": "markdown",
      "metadata": {
        "id": "k-xCQpqyWLQ0"
      },
      "source": [
        ""
      ]
    }
  ]
}